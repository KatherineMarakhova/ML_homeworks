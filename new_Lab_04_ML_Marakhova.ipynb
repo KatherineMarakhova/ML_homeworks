{
 "cells": [
  {
   "cell_type": "markdown",
   "id": "a1aef29b",
   "metadata": {
    "id": "a1aef29b"
   },
   "source": [
    "`Дисциплина: Методы и технологии машинного обучения`   \n",
    "`Уровень подготовки: бакалавриат`   \n",
    "`Направление подготовки: 01.03.02 Прикладная математика и информатика`   \n",
    "`Семестр: осень 2021/2022`   \n",
    "\n",
    "\n",
    "\n",
    "\n",
    "# Лабораторная работа №4: Методы снижения размерности. Регуляризация логистической регрессии. \n",
    "### Работу выполнила студентка ПМИ3-1 Марахова Екатерина, вариант №13.\n",
    "\n",
    "\n",
    "\n",
    "\n",
    "В практических примерах ниже показано:   \n",
    "\n",
    "* как снижать размерность пространства признаков методами главных компонент (PCR), частных наименьшах квадратов (PLS)  \n",
    "* как строить логистическую регрессию с регуляризацией параметров (методы ридж и лассо) \n",
    "\n",
    "Точность всех моделей оценивается методом перекрёстной проверки по 10 блокам.  \n",
    "\n",
    "*Модели*: множественная линейная регрессия \n",
    "\n",
    "*Данные*: `default_of_credit_card_clients` (источник: [репозиторий](https://github.com/aksyuk/MTML/blob/main/Labs/data/default_of_credit_card_clients.csv))\n",
    "\n",
    "*Объясняющие переменные*: все, кроме Y\n",
    "\n",
    "*Метод снижения размерности*: регрессия на главные компоненты(PCR)\n",
    "\n",
    "*Метод регуляризации*: ридж-регрессия\n"
   ]
  },
  {
   "cell_type": "markdown",
   "id": "61b9ab5d",
   "metadata": {
    "id": "61b9ab5d"
   },
   "source": [
    "# Ход работы\n",
    "\n",
    "\n",
    "## Загружаем пакеты"
   ]
  },
  {
   "cell_type": "code",
   "execution_count": 221,
   "id": "c8fa189c",
   "metadata": {
    "executionInfo": {
     "elapsed": 1173,
     "status": "ok",
     "timestamp": 1635359385248,
     "user": {
      "displayName": "FIERY SILENCE",
      "photoUrl": "https://lh3.googleusercontent.com/a-/AOh14GjH4e8Wfm-WozBC1c6d1YyclOceWKBzdhZw3ubB5A=s64",
      "userId": "17509230976006022184"
     },
     "user_tz": -180
    },
    "id": "c8fa189c"
   },
   "outputs": [],
   "source": [
    "# загрузка пакетов: инструменты --------------------------------------------\n",
    "#  работа с массивами\n",
    "import numpy as np\n",
    "#  фреймы данных\n",
    "import pandas as pd\n",
    "#  распределение Стьюдента для проверки значимости\n",
    "from scipy.stats import t\n",
    "# подсчёт частот внутри массива\n",
    "from collections import Counter\n",
    "#  графики\n",
    "import matplotlib as mpl\n",
    "#  стили и шаблоны графиков на основе matplotlib\n",
    "import seaborn as sns\n",
    "\n",
    "# загрузка пакетов: данные -------------------------------------------------\n",
    "from sklearn import datasets\n",
    "\n",
    "# загрузка пакетов: модели -------------------------------------------------\n",
    "#  стандартизация показателей\n",
    "from sklearn.preprocessing import StandardScaler\n",
    "#  метод главных компонент\n",
    "from sklearn.decomposition import PCA\n",
    "# метод частных наименьших квадратов\n",
    "from sklearn.cross_decomposition import PLSRegression\n",
    "#  логистическая регрессия (ММП)\n",
    "from sklearn.linear_model import LogisticRegression, LogisticRegressionCV\n",
    "#  перекрёстная проверка по k блокам\n",
    "from sklearn.model_selection import KFold, cross_val_score\n",
    "#  расчёт Acc и сводка по точности классификации\n",
    "from sklearn.metrics import accuracy_score, classification_report\n",
    "\n",
    "from sklearn.preprocessing import OrdinalEncoder\n",
    "\n",
    "# для теста хи-квадрат\n",
    "import scipy"
   ]
  },
  {
   "cell_type": "code",
   "execution_count": 222,
   "id": "43a4a48e",
   "metadata": {
    "executionInfo": {
     "elapsed": 503,
     "status": "ok",
     "timestamp": 1635359388606,
     "user": {
      "displayName": "FIERY SILENCE",
      "photoUrl": "https://lh3.googleusercontent.com/a-/AOh14GjH4e8Wfm-WozBC1c6d1YyclOceWKBzdhZw3ubB5A=s64",
      "userId": "17509230976006022184"
     },
     "user_tz": -180
    },
    "id": "43a4a48e"
   },
   "outputs": [],
   "source": [
    "# константы\n",
    "#  ядро для генератора случайных чисел\n",
    "my_seed = 13\n",
    "#  создаём псевдоним для короткого обращения к графикам\n",
    "plt = mpl.pyplot\n",
    "# настройка стиля и отображения графиков\n",
    "#  примеры стилей и шаблонов графиков: \n",
    "#  https://raw.githubusercontent.com/aksyuk/MTML/main/Labs/data/default_of_credit_card_clients.csv\n",
    "mpl.style.use('seaborn-whitegrid')\n",
    "sns.set_palette(\"Set2\")\n",
    "# раскомментируйте следующую строку, чтобы посмотреть палитру\n",
    "# sns.color_palette(\"Set2\")"
   ]
  },
  {
   "cell_type": "code",
   "execution_count": 223,
   "id": "29d97f61",
   "metadata": {
    "executionInfo": {
     "elapsed": 7,
     "status": "ok",
     "timestamp": 1635359392175,
     "user": {
      "displayName": "FIERY SILENCE",
      "photoUrl": "https://lh3.googleusercontent.com/a-/AOh14GjH4e8Wfm-WozBC1c6d1YyclOceWKBzdhZw3ubB5A=s64",
      "userId": "17509230976006022184"
     },
     "user_tz": -180
    },
    "id": "29d97f61"
   },
   "outputs": [],
   "source": [
    "# функция, которая строит график сжатия коэффициентов в ридж и лассо\n",
    "#  из репозитория к книге С.Рашки Python и машинное обучение,\n",
    "#  слегка переработанная\n",
    "def plot_coeffs_traces (X, y, class_number, penalty_name, C_opt, col_names,\n",
    "                        C_min_pow=-4, C_max_pow=3.) :\n",
    "    fig = plt.figure()\n",
    "    ax = plt.subplot(111)    \n",
    "    \n",
    "    # палитра\n",
    "    colors = sns.color_palette(\"Spectral\", len(col_names)-1)\n",
    "    \n",
    "    weights, params = [], []\n",
    "    for c in np.arange(C_min_pow, C_max_pow+1):\n",
    "        lr = LogisticRegression(penalty=penalty_name, \n",
    "                                C=10.**c, solver='liblinear', \n",
    "                                multi_class='ovr', random_state=my_seed)\n",
    "        lr.fit(X, y)\n",
    "        weights.append(lr.coef_[class_number])\n",
    "        params.append(10**c)\n",
    "\n",
    "    weights = np.array(weights)\n",
    "\n",
    "    for column, color in zip(range(weights.shape[1]), colors):\n",
    "        plt.plot(params, weights[:, column],\n",
    "                 label=col_names[column],\n",
    "                 color=color)\n",
    "\n",
    "    # отсечки по оптимальным C\n",
    "    plt.axvline(x=C_opt[class_number], color='magenta', \n",
    "                linestyle='--', linewidth=1)\n",
    "\n",
    "    plt.axhline(0, color='black', linestyle='--', linewidth=1)\n",
    "    plt.xlim([10**(C_min_pow), 10**C_max_pow])\n",
    "    plt.ylabel('weight coefficient')\n",
    "    plt.xlabel('C')\n",
    "    plt.xscale('log')\n",
    "    plt.legend(loc='upper left')\n",
    "    ax.legend(loc='upper center', \n",
    "              bbox_to_anchor=(1.38, 1.03),\n",
    "              ncol=1, fancybox=True)\n",
    "    plt.show()"
   ]
  },
  {
   "cell_type": "markdown",
   "id": "87618f1b",
   "metadata": {
    "id": "87618f1b"
   },
   "source": [
    "## Загружаем данные\n",
    "\n",
    "Данные по кредитам 30000 клиентов банков Тайваня (статистика 2005 года). \n",
    "\n",
    "`Задача`: спрогнозировать дефолт платежа в следущем месяце по статистике за 6 предыдущих месяцев и по общим сведениям о клиенте. \n",
    "\n",
    "`Источник данных`: статья Yeh, I. C., & Lien, C. H. The comparisons of data mining techniques for the predictive accuracy of probability of default of credit card clients. Expert Systems with Applications, 36(2), 2473-2480. (Набор данных был загружен из репозитория [UCI](https://archive.ics.uci.edu/ml/datasets/default+of+credit+card+clients)).\n",
    "\n",
    "### Список столбцов файла: \n",
    "* `LIMIT_BAL` – размер выданного кредита (новых тайваньских долларов);  \n",
    "  \n",
    "  \n",
    "* `SEX` – пол:  \n",
    "1 = мужской,   \n",
    "2 = женский;   \n",
    "\n",
    "  \n",
    "* `EDUCATION` – образование:  \n",
    "1 = аспирантура,   \n",
    "2 = университет,   \n",
    "3 = старшая школа,   \n",
    "4 = другое;  \n",
    "  \n",
    "  \n",
    "* `MARRIAGE` – семейное положение:   \n",
    "1 = женат/замужем,   \n",
    "2 = одинок,   \n",
    "3 = другое;  \n",
    "  \n",
    "  \n",
    "* `AGE` – возраст, лет;  \n",
    "  \n",
    "  \n",
    "* `PAY_0, PAY_2, ..., PAY_6` – статус последних ежемесячных платежей, с сентября (`PAY_0`) по апрель (`PAY_6`) 2005 года:   \n",
    "\\-1 = платёж внесён вовремя,   \n",
    "1 = платёж внесён с опозданием на 1 месяц;   \n",
    "2 = с опозданием на 2 месяца,   \n",
    "и т.д.,   \n",
    "9 = с опозданием на 9 месяцев и более;  \n",
    "  \n",
    "  \n",
    "* `BILL_AMT1, ..., BILL_AMT6` – размер последних ежемесячных платежей (новых тайваньских долларов), с сентября (`BILL_AMT1`) по апрель (`BILL_AMT6`) 2005 года;  \n",
    "  \n",
    "  \n",
    "* `PAY_AMT1, ..., PAY_AMT6` – размер ежемесячных платежей в предыдущем месяце (новых тайваньских долларов), с сентября (`PAY_AMT1` за август) по апрель (`PAY_AMT6` за март) 2005 года;  \n",
    "  \n",
    "  \n",
    "* `Y` – целевая переменная: дефолт в следующем месяце (1 – да, 0 – нет).\n",
    "\n",
    "\n",
    "Далее загружаем данные во фрейм,  и выясняем их размерность.  "
   ]
  },
  {
   "cell_type": "code",
   "execution_count": 224,
   "id": "a7e42f2c",
   "metadata": {
    "colab": {
     "base_uri": "https://localhost:8080/",
     "height": 238
    },
    "executionInfo": {
     "elapsed": 938,
     "status": "ok",
     "timestamp": 1635359441378,
     "user": {
      "displayName": "FIERY SILENCE",
      "photoUrl": "https://lh3.googleusercontent.com/a-/AOh14GjH4e8Wfm-WozBC1c6d1YyclOceWKBzdhZw3ubB5A=s64",
      "userId": "17509230976006022184"
     },
     "user_tz": -180
    },
    "id": "a7e42f2c",
    "outputId": "f0e63a2a-231c-4077-f862-a78e04b5b538"
   },
   "outputs": [
    {
     "name": "stdout",
     "output_type": "stream",
     "text": [
      "Число строк и столбцов в наборе данных:\n",
      " (30000, 24)\n"
     ]
    },
    {
     "data": {
      "text/html": [
       "<div>\n",
       "<style scoped>\n",
       "    .dataframe tbody tr th:only-of-type {\n",
       "        vertical-align: middle;\n",
       "    }\n",
       "\n",
       "    .dataframe tbody tr th {\n",
       "        vertical-align: top;\n",
       "    }\n",
       "\n",
       "    .dataframe thead th {\n",
       "        text-align: right;\n",
       "    }\n",
       "</style>\n",
       "<table border=\"1\" class=\"dataframe\">\n",
       "  <thead>\n",
       "    <tr style=\"text-align: right;\">\n",
       "      <th></th>\n",
       "      <th>LIMIT_BAL</th>\n",
       "      <th>SEX</th>\n",
       "      <th>EDUCATION</th>\n",
       "      <th>MARRIAGE</th>\n",
       "      <th>AGE</th>\n",
       "      <th>PAY_0</th>\n",
       "      <th>PAY_2</th>\n",
       "      <th>PAY_3</th>\n",
       "      <th>PAY_4</th>\n",
       "      <th>PAY_5</th>\n",
       "      <th>...</th>\n",
       "      <th>BILL_AMT4</th>\n",
       "      <th>BILL_AMT5</th>\n",
       "      <th>BILL_AMT6</th>\n",
       "      <th>PAY_AMT1</th>\n",
       "      <th>PAY_AMT2</th>\n",
       "      <th>PAY_AMT3</th>\n",
       "      <th>PAY_AMT4</th>\n",
       "      <th>PAY_AMT5</th>\n",
       "      <th>PAY_AMT6</th>\n",
       "      <th>Y</th>\n",
       "    </tr>\n",
       "  </thead>\n",
       "  <tbody>\n",
       "    <tr>\n",
       "      <th>0</th>\n",
       "      <td>20000</td>\n",
       "      <td>2</td>\n",
       "      <td>2</td>\n",
       "      <td>1</td>\n",
       "      <td>24</td>\n",
       "      <td>2</td>\n",
       "      <td>2</td>\n",
       "      <td>-1</td>\n",
       "      <td>-1</td>\n",
       "      <td>-2</td>\n",
       "      <td>...</td>\n",
       "      <td>0</td>\n",
       "      <td>0</td>\n",
       "      <td>0</td>\n",
       "      <td>0</td>\n",
       "      <td>689</td>\n",
       "      <td>0</td>\n",
       "      <td>0</td>\n",
       "      <td>0</td>\n",
       "      <td>0</td>\n",
       "      <td>1</td>\n",
       "    </tr>\n",
       "    <tr>\n",
       "      <th>1</th>\n",
       "      <td>120000</td>\n",
       "      <td>2</td>\n",
       "      <td>2</td>\n",
       "      <td>2</td>\n",
       "      <td>26</td>\n",
       "      <td>-1</td>\n",
       "      <td>2</td>\n",
       "      <td>0</td>\n",
       "      <td>0</td>\n",
       "      <td>0</td>\n",
       "      <td>...</td>\n",
       "      <td>3272</td>\n",
       "      <td>3455</td>\n",
       "      <td>3261</td>\n",
       "      <td>0</td>\n",
       "      <td>1000</td>\n",
       "      <td>1000</td>\n",
       "      <td>1000</td>\n",
       "      <td>0</td>\n",
       "      <td>2000</td>\n",
       "      <td>1</td>\n",
       "    </tr>\n",
       "    <tr>\n",
       "      <th>2</th>\n",
       "      <td>90000</td>\n",
       "      <td>2</td>\n",
       "      <td>2</td>\n",
       "      <td>2</td>\n",
       "      <td>34</td>\n",
       "      <td>0</td>\n",
       "      <td>0</td>\n",
       "      <td>0</td>\n",
       "      <td>0</td>\n",
       "      <td>0</td>\n",
       "      <td>...</td>\n",
       "      <td>14331</td>\n",
       "      <td>14948</td>\n",
       "      <td>15549</td>\n",
       "      <td>1518</td>\n",
       "      <td>1500</td>\n",
       "      <td>1000</td>\n",
       "      <td>1000</td>\n",
       "      <td>1000</td>\n",
       "      <td>5000</td>\n",
       "      <td>0</td>\n",
       "    </tr>\n",
       "    <tr>\n",
       "      <th>3</th>\n",
       "      <td>50000</td>\n",
       "      <td>2</td>\n",
       "      <td>2</td>\n",
       "      <td>1</td>\n",
       "      <td>37</td>\n",
       "      <td>0</td>\n",
       "      <td>0</td>\n",
       "      <td>0</td>\n",
       "      <td>0</td>\n",
       "      <td>0</td>\n",
       "      <td>...</td>\n",
       "      <td>28314</td>\n",
       "      <td>28959</td>\n",
       "      <td>29547</td>\n",
       "      <td>2000</td>\n",
       "      <td>2019</td>\n",
       "      <td>1200</td>\n",
       "      <td>1100</td>\n",
       "      <td>1069</td>\n",
       "      <td>1000</td>\n",
       "      <td>0</td>\n",
       "    </tr>\n",
       "    <tr>\n",
       "      <th>4</th>\n",
       "      <td>50000</td>\n",
       "      <td>1</td>\n",
       "      <td>2</td>\n",
       "      <td>1</td>\n",
       "      <td>57</td>\n",
       "      <td>-1</td>\n",
       "      <td>0</td>\n",
       "      <td>-1</td>\n",
       "      <td>0</td>\n",
       "      <td>0</td>\n",
       "      <td>...</td>\n",
       "      <td>20940</td>\n",
       "      <td>19146</td>\n",
       "      <td>19131</td>\n",
       "      <td>2000</td>\n",
       "      <td>36681</td>\n",
       "      <td>10000</td>\n",
       "      <td>9000</td>\n",
       "      <td>689</td>\n",
       "      <td>679</td>\n",
       "      <td>0</td>\n",
       "    </tr>\n",
       "  </tbody>\n",
       "</table>\n",
       "<p>5 rows × 24 columns</p>\n",
       "</div>"
      ],
      "text/plain": [
       "   LIMIT_BAL  SEX  EDUCATION  MARRIAGE  AGE  PAY_0  PAY_2  PAY_3  PAY_4  \\\n",
       "0      20000    2          2         1   24      2      2     -1     -1   \n",
       "1     120000    2          2         2   26     -1      2      0      0   \n",
       "2      90000    2          2         2   34      0      0      0      0   \n",
       "3      50000    2          2         1   37      0      0      0      0   \n",
       "4      50000    1          2         1   57     -1      0     -1      0   \n",
       "\n",
       "   PAY_5  ...  BILL_AMT4  BILL_AMT5  BILL_AMT6  PAY_AMT1  PAY_AMT2  PAY_AMT3  \\\n",
       "0     -2  ...          0          0          0         0       689         0   \n",
       "1      0  ...       3272       3455       3261         0      1000      1000   \n",
       "2      0  ...      14331      14948      15549      1518      1500      1000   \n",
       "3      0  ...      28314      28959      29547      2000      2019      1200   \n",
       "4      0  ...      20940      19146      19131      2000     36681     10000   \n",
       "\n",
       "   PAY_AMT4  PAY_AMT5  PAY_AMT6  Y  \n",
       "0         0         0         0  1  \n",
       "1      1000         0      2000  1  \n",
       "2      1000      1000      5000  0  \n",
       "3      1100      1069      1000  0  \n",
       "4      9000       689       679  0  \n",
       "\n",
       "[5 rows x 24 columns]"
      ]
     },
     "execution_count": 224,
     "metadata": {},
     "output_type": "execute_result"
    }
   ],
   "source": [
    "# загружаем таблицу и превращаем её во фрейм\n",
    "fileURL = 'https://raw.githubusercontent.com/aksyuk/MTML/main/Labs/data/default_of_credit_card_clients.csv'\n",
    "DF_all = pd.read_csv(fileURL)\n",
    "\n",
    "# выясняем размерность фрейма\n",
    "print('Число строк и столбцов в наборе данных:\\n', DF_all.shape)\n",
    "\n",
    "# смотрим на данные\n",
    "DF_all.head(5)"
   ]
  },
  {
   "cell_type": "markdown",
   "id": "-ERZm8oRCSpP",
   "metadata": {
    "id": "-ERZm8oRCSpP"
   },
   "source": [
    "### Подсчет частот категориальных значений.\n"
   ]
  },
  {
   "cell_type": "code",
   "execution_count": 225,
   "id": "4172d0fa",
   "metadata": {
    "id": "4172d0fa",
    "outputId": "e9409262-aafc-4f0f-f740-c9b240a17e10"
   },
   "outputs": [
    {
     "data": {
      "text/plain": [
       "array([2, 1])"
      ]
     },
     "execution_count": 225,
     "metadata": {},
     "output_type": "execute_result"
    }
   ],
   "source": [
    "DF_all['SEX'].unique()"
   ]
  },
  {
   "cell_type": "code",
   "execution_count": 226,
   "id": "1fVBAhQlB2G9",
   "metadata": {
    "colab": {
     "base_uri": "https://localhost:8080/"
    },
    "executionInfo": {
     "elapsed": 565,
     "status": "ok",
     "timestamp": 1635359662907,
     "user": {
      "displayName": "FIERY SILENCE",
      "photoUrl": "https://lh3.googleusercontent.com/a-/AOh14GjH4e8Wfm-WozBC1c6d1YyclOceWKBzdhZw3ubB5A=s64",
      "userId": "17509230976006022184"
     },
     "user_tz": -180
    },
    "id": "1fVBAhQlB2G9",
    "outputId": "0813cd22-35a4-435b-c697-ef5b9caa94b0"
   },
   "outputs": [
    {
     "data": {
      "text/plain": [
       "2    0.604\n",
       "1    0.396\n",
       "Name: SEX, dtype: float64"
      ]
     },
     "execution_count": 226,
     "metadata": {},
     "output_type": "execute_result"
    }
   ],
   "source": [
    "np.around(DF_all.SEX.value_counts() / len(DF_all.index), 3)"
   ]
  },
  {
   "cell_type": "code",
   "execution_count": 227,
   "id": "5cba1515",
   "metadata": {
    "id": "5cba1515",
    "outputId": "9933583c-342b-4fdb-b760-a15e668e7e97"
   },
   "outputs": [
    {
     "data": {
      "text/plain": [
       "array([2, 1, 3, 5, 4, 6, 0])"
      ]
     },
     "execution_count": 227,
     "metadata": {},
     "output_type": "execute_result"
    }
   ],
   "source": [
    "DF_all['EDUCATION'].unique()"
   ]
  },
  {
   "cell_type": "code",
   "execution_count": 228,
   "id": "D4y-IdlmCDta",
   "metadata": {
    "colab": {
     "base_uri": "https://localhost:8080/"
    },
    "executionInfo": {
     "elapsed": 18,
     "status": "ok",
     "timestamp": 1635359683904,
     "user": {
      "displayName": "FIERY SILENCE",
      "photoUrl": "https://lh3.googleusercontent.com/a-/AOh14GjH4e8Wfm-WozBC1c6d1YyclOceWKBzdhZw3ubB5A=s64",
      "userId": "17509230976006022184"
     },
     "user_tz": -180
    },
    "id": "D4y-IdlmCDta",
    "outputId": "33225e3d-c8f6-4c83-936b-6070f184930d"
   },
   "outputs": [
    {
     "data": {
      "text/plain": [
       "2    0.468\n",
       "1    0.353\n",
       "3    0.164\n",
       "5    0.009\n",
       "4    0.004\n",
       "6    0.002\n",
       "0    0.000\n",
       "Name: EDUCATION, dtype: float64"
      ]
     },
     "execution_count": 228,
     "metadata": {},
     "output_type": "execute_result"
    }
   ],
   "source": [
    "np.around(DF_all.EDUCATION.value_counts() / len(DF_raw.index), 3)"
   ]
  },
  {
   "cell_type": "code",
   "execution_count": 229,
   "id": "a52d2a1d",
   "metadata": {
    "id": "a52d2a1d",
    "outputId": "4bd0cb2a-29b6-473a-deaf-73c57f47916e"
   },
   "outputs": [
    {
     "data": {
      "text/plain": [
       "array([1, 2, 3, 0])"
      ]
     },
     "execution_count": 229,
     "metadata": {},
     "output_type": "execute_result"
    }
   ],
   "source": [
    "DF_all['MARRIAGE'].unique()"
   ]
  },
  {
   "cell_type": "code",
   "execution_count": 230,
   "id": "valrit21CNTs",
   "metadata": {
    "colab": {
     "base_uri": "https://localhost:8080/"
    },
    "executionInfo": {
     "elapsed": 521,
     "status": "ok",
     "timestamp": 1635359723986,
     "user": {
      "displayName": "FIERY SILENCE",
      "photoUrl": "https://lh3.googleusercontent.com/a-/AOh14GjH4e8Wfm-WozBC1c6d1YyclOceWKBzdhZw3ubB5A=s64",
      "userId": "17509230976006022184"
     },
     "user_tz": -180
    },
    "id": "valrit21CNTs",
    "outputId": "b81d20a8-4849-42b6-84c7-7403179306aa"
   },
   "outputs": [
    {
     "data": {
      "text/plain": [
       "2    0.532\n",
       "1    0.455\n",
       "3    0.011\n",
       "0    0.002\n",
       "Name: MARRIAGE, dtype: float64"
      ]
     },
     "execution_count": 230,
     "metadata": {},
     "output_type": "execute_result"
    }
   ],
   "source": [
    "np.around(DF_raw.MARRIAGE.value_counts() / len(DF_all.index), 3)"
   ]
  },
  {
   "cell_type": "markdown",
   "id": "uNEWqbtPG85b",
   "metadata": {
    "id": "uNEWqbtPG85b"
   },
   "source": [
    "### ХИ-КВАДРАТ\n",
    "#### Y и SEX"
   ]
  },
  {
   "cell_type": "code",
   "execution_count": 231,
   "id": "2AyVKZqPEyDA",
   "metadata": {
    "colab": {
     "base_uri": "https://localhost:8080/",
     "height": 142
    },
    "executionInfo": {
     "elapsed": 359,
     "status": "ok",
     "timestamp": 1635360989124,
     "user": {
      "displayName": "FIERY SILENCE",
      "photoUrl": "https://lh3.googleusercontent.com/a-/AOh14GjH4e8Wfm-WozBC1c6d1YyclOceWKBzdhZw3ubB5A=s64",
      "userId": "17509230976006022184"
     },
     "user_tz": -180
    },
    "id": "2AyVKZqPEyDA",
    "outputId": "f3484236-d9ba-45d7-c419-976ec2f9a5a2"
   },
   "outputs": [
    {
     "data": {
      "text/html": [
       "<div>\n",
       "<style scoped>\n",
       "    .dataframe tbody tr th:only-of-type {\n",
       "        vertical-align: middle;\n",
       "    }\n",
       "\n",
       "    .dataframe tbody tr th {\n",
       "        vertical-align: top;\n",
       "    }\n",
       "\n",
       "    .dataframe thead th {\n",
       "        text-align: right;\n",
       "    }\n",
       "</style>\n",
       "<table border=\"1\" class=\"dataframe\">\n",
       "  <thead>\n",
       "    <tr style=\"text-align: right;\">\n",
       "      <th>SEX</th>\n",
       "      <th>1</th>\n",
       "      <th>2</th>\n",
       "    </tr>\n",
       "    <tr>\n",
       "      <th>Y</th>\n",
       "      <th></th>\n",
       "      <th></th>\n",
       "    </tr>\n",
       "  </thead>\n",
       "  <tbody>\n",
       "    <tr>\n",
       "      <th>0</th>\n",
       "      <td>9015</td>\n",
       "      <td>14349</td>\n",
       "    </tr>\n",
       "    <tr>\n",
       "      <th>1</th>\n",
       "      <td>2873</td>\n",
       "      <td>3763</td>\n",
       "    </tr>\n",
       "  </tbody>\n",
       "</table>\n",
       "</div>"
      ],
      "text/plain": [
       "SEX     1      2\n",
       "Y               \n",
       "0    9015  14349\n",
       "1    2873   3763"
      ]
     },
     "execution_count": 231,
     "metadata": {},
     "output_type": "execute_result"
    }
   ],
   "source": [
    "df_Y_SEX = pd.crosstab(DF_raw['Y'], DF_all['SEX'])\n",
    "df_Y_SEX"
   ]
  },
  {
   "cell_type": "code",
   "execution_count": 232,
   "id": "4mxXJTuuFfDv",
   "metadata": {
    "executionInfo": {
     "elapsed": 346,
     "status": "ok",
     "timestamp": 1635361030938,
     "user": {
      "displayName": "FIERY SILENCE",
      "photoUrl": "https://lh3.googleusercontent.com/a-/AOh14GjH4e8Wfm-WozBC1c6d1YyclOceWKBzdhZw3ubB5A=s64",
      "userId": "17509230976006022184"
     },
     "user_tz": -180
    },
    "id": "4mxXJTuuFfDv"
   },
   "outputs": [],
   "source": [
    "list_Y_SEX = [[df_Y_SEX[1][0], df_Y_SEX[2][0]], [df_Y_SEX[1][1], df_Y_SEX[2][1]]]"
   ]
  },
  {
   "cell_type": "code",
   "execution_count": 233,
   "id": "rNgiyuHOGbCU",
   "metadata": {
    "colab": {
     "base_uri": "https://localhost:8080/"
    },
    "executionInfo": {
     "elapsed": 351,
     "status": "ok",
     "timestamp": 1635360882600,
     "user": {
      "displayName": "FIERY SILENCE",
      "photoUrl": "https://lh3.googleusercontent.com/a-/AOh14GjH4e8Wfm-WozBC1c6d1YyclOceWKBzdhZw3ubB5A=s64",
      "userId": "17509230976006022184"
     },
     "user_tz": -180
    },
    "id": "rNgiyuHOGbCU",
    "outputId": "3878ce2e-8612-48b1-e64f-6ba5fbd97eb1"
   },
   "outputs": [
    {
     "name": "stdout",
     "output_type": "stream",
     "text": [
      "test Statistics: 47.70879689062111\n",
      "degrees of freedom: 1\n",
      "p-value: 4.944678999412044e-12\n",
      "\n",
      "[[ 9258.3744 14105.6256]\n",
      " [ 2629.6256  4006.3744]]\n"
     ]
    }
   ],
   "source": [
    "chi2, prob, df, expected = scipy.stats.chi2_contingency(list_Y_SEX)\n",
    "output = \"test Statistics: {}\\ndegrees of freedom: {}\\np-value: {}\\n\"\n",
    "print(output.format(chi2, df, prob))\n",
    "print(expected)"
   ]
  },
  {
   "cell_type": "markdown",
   "id": "f2735e98",
   "metadata": {},
   "source": [
    "#### Y и EDUCATION"
   ]
  },
  {
   "cell_type": "code",
   "execution_count": 234,
   "id": "eb3f9261",
   "metadata": {},
   "outputs": [
    {
     "data": {
      "text/html": [
       "<div>\n",
       "<style scoped>\n",
       "    .dataframe tbody tr th:only-of-type {\n",
       "        vertical-align: middle;\n",
       "    }\n",
       "\n",
       "    .dataframe tbody tr th {\n",
       "        vertical-align: top;\n",
       "    }\n",
       "\n",
       "    .dataframe thead th {\n",
       "        text-align: right;\n",
       "    }\n",
       "</style>\n",
       "<table border=\"1\" class=\"dataframe\">\n",
       "  <thead>\n",
       "    <tr style=\"text-align: right;\">\n",
       "      <th>EDUCATION</th>\n",
       "      <th>0</th>\n",
       "      <th>1</th>\n",
       "      <th>2</th>\n",
       "      <th>3</th>\n",
       "      <th>4</th>\n",
       "      <th>5</th>\n",
       "      <th>6</th>\n",
       "    </tr>\n",
       "    <tr>\n",
       "      <th>Y</th>\n",
       "      <th></th>\n",
       "      <th></th>\n",
       "      <th></th>\n",
       "      <th></th>\n",
       "      <th></th>\n",
       "      <th></th>\n",
       "      <th></th>\n",
       "    </tr>\n",
       "  </thead>\n",
       "  <tbody>\n",
       "    <tr>\n",
       "      <th>0</th>\n",
       "      <td>14</td>\n",
       "      <td>8549</td>\n",
       "      <td>10700</td>\n",
       "      <td>3680</td>\n",
       "      <td>116</td>\n",
       "      <td>262</td>\n",
       "      <td>43</td>\n",
       "    </tr>\n",
       "    <tr>\n",
       "      <th>1</th>\n",
       "      <td>0</td>\n",
       "      <td>2036</td>\n",
       "      <td>3330</td>\n",
       "      <td>1237</td>\n",
       "      <td>7</td>\n",
       "      <td>18</td>\n",
       "      <td>8</td>\n",
       "    </tr>\n",
       "  </tbody>\n",
       "</table>\n",
       "</div>"
      ],
      "text/plain": [
       "EDUCATION   0     1      2     3    4    5   6\n",
       "Y                                             \n",
       "0          14  8549  10700  3680  116  262  43\n",
       "1           0  2036   3330  1237    7   18   8"
      ]
     },
     "execution_count": 234,
     "metadata": {},
     "output_type": "execute_result"
    }
   ],
   "source": [
    "df_Y_EDUCATION = pd.crosstab(DF_all['Y'], DF_all['EDUCATION'])\n",
    "df_Y_EDUCATION"
   ]
  },
  {
   "cell_type": "code",
   "execution_count": 235,
   "id": "1351257a",
   "metadata": {},
   "outputs": [],
   "source": [
    "list_Y_EDUCATION = [[df_Y_EDUCATION[1][0], df_Y_EDUCATION[2][0], \n",
    "                     df_Y_EDUCATION[3][0], df_Y_EDUCATION[4][0], \n",
    "                     df_Y_EDUCATION[5][0], df_Y_EDUCATION[6][0]], \n",
    "                    \n",
    "                    [df_Y_EDUCATION[1][1], df_Y_EDUCATION[2][1], \n",
    "                     df_Y_EDUCATION[3][1], df_Y_EDUCATION[4][1], \n",
    "                     df_Y_EDUCATION[5][1], df_Y_EDUCATION[6][1]]]"
   ]
  },
  {
   "cell_type": "code",
   "execution_count": 236,
   "id": "26dfad22",
   "metadata": {},
   "outputs": [
    {
     "name": "stdout",
     "output_type": "stream",
     "text": [
      "test Statistics: 159.18512540464334\n",
      "degrees of freedom: 5\n",
      "p-value: 1.4764557605044473e-32\n",
      "\n",
      "[[ 8242.50483559 10925.11505369  3828.85179751    95.77969719\n",
      "    218.03508304    39.71353298]\n",
      " [ 2342.49516441  3104.88494631  1088.14820249    27.22030281\n",
      "     61.96491696    11.28646702]]\n"
     ]
    }
   ],
   "source": [
    "chi2, prob, df, expected = scipy.stats.chi2_contingency(list_Y_EDUCATION)\n",
    "output = \"test Statistics: {}\\ndegrees of freedom: {}\\np-value: {}\\n\"\n",
    "print(output.format(chi2, df, prob))\n",
    "print(expected)"
   ]
  },
  {
   "cell_type": "markdown",
   "id": "3c7056da",
   "metadata": {},
   "source": [
    "#### Y и MARRIAGE"
   ]
  },
  {
   "cell_type": "code",
   "execution_count": 237,
   "id": "d0116060",
   "metadata": {},
   "outputs": [
    {
     "data": {
      "text/html": [
       "<div>\n",
       "<style scoped>\n",
       "    .dataframe tbody tr th:only-of-type {\n",
       "        vertical-align: middle;\n",
       "    }\n",
       "\n",
       "    .dataframe tbody tr th {\n",
       "        vertical-align: top;\n",
       "    }\n",
       "\n",
       "    .dataframe thead th {\n",
       "        text-align: right;\n",
       "    }\n",
       "</style>\n",
       "<table border=\"1\" class=\"dataframe\">\n",
       "  <thead>\n",
       "    <tr style=\"text-align: right;\">\n",
       "      <th>MARRIAGE</th>\n",
       "      <th>0</th>\n",
       "      <th>1</th>\n",
       "      <th>2</th>\n",
       "      <th>3</th>\n",
       "    </tr>\n",
       "    <tr>\n",
       "      <th>Y</th>\n",
       "      <th></th>\n",
       "      <th></th>\n",
       "      <th></th>\n",
       "      <th></th>\n",
       "    </tr>\n",
       "  </thead>\n",
       "  <tbody>\n",
       "    <tr>\n",
       "      <th>0</th>\n",
       "      <td>49</td>\n",
       "      <td>10453</td>\n",
       "      <td>12623</td>\n",
       "      <td>239</td>\n",
       "    </tr>\n",
       "    <tr>\n",
       "      <th>1</th>\n",
       "      <td>5</td>\n",
       "      <td>3206</td>\n",
       "      <td>3341</td>\n",
       "      <td>84</td>\n",
       "    </tr>\n",
       "  </tbody>\n",
       "</table>\n",
       "</div>"
      ],
      "text/plain": [
       "MARRIAGE   0      1      2    3\n",
       "Y                              \n",
       "0         49  10453  12623  239\n",
       "1          5   3206   3341   84"
      ]
     },
     "execution_count": 237,
     "metadata": {},
     "output_type": "execute_result"
    }
   ],
   "source": [
    "df_Y_MARRIAGE = pd.crosstab(DF_all['Y'], DF_all['MARRIAGE'])\n",
    "df_Y_MARRIAGE"
   ]
  },
  {
   "cell_type": "code",
   "execution_count": 238,
   "id": "b605b0fb",
   "metadata": {},
   "outputs": [],
   "source": [
    "list_Y_MARRIAGE = [[df_Y_MARRIAGE[1][0], df_Y_MARRIAGE[2][0], \n",
    "                     df_Y_EDUCATION[3][0]], \n",
    "                    \n",
    "                    [df_Y_MARRIAGE[1][1], df_Y_MARRIAGE[2][1], \n",
    "                     df_Y_MARRIAGE[3][1]]]"
   ]
  },
  {
   "cell_type": "code",
   "execution_count": 239,
   "id": "a5f33b8b",
   "metadata": {},
   "outputs": [
    {
     "name": "stdout",
     "output_type": "stream",
     "text": [
      "test Statistics: 858.2880051332515\n",
      "degrees of freedom: 2\n",
      "p-value: 4.2182055954096444e-187\n",
      "\n",
      "[[10946.18276575 12793.38616827  3016.43106598]\n",
      " [ 2712.81723425  3170.61383173   747.56893402]]\n"
     ]
    }
   ],
   "source": [
    "chi2, prob, df, expected = scipy.stats.chi2_contingency(list_Y_MARRIAGE)\n",
    "output = \"test Statistics: {}\\ndegrees of freedom: {}\\np-value: {}\\n\"\n",
    "print(output.format(chi2, df, prob))\n",
    "print(expected)"
   ]
  },
  {
   "cell_type": "markdown",
   "id": "XGW3CQINJQM3",
   "metadata": {
    "id": "XGW3CQINJQM3"
   },
   "source": [
    "### Создание фиктивных переменных."
   ]
  },
  {
   "cell_type": "code",
   "execution_count": 240,
   "id": "ewXdFPABI60Y",
   "metadata": {
    "executionInfo": {
     "elapsed": 346,
     "status": "ok",
     "timestamp": 1635361481427,
     "user": {
      "displayName": "FIERY SILENCE",
      "photoUrl": "https://lh3.googleusercontent.com/a-/AOh14GjH4e8Wfm-WozBC1c6d1YyclOceWKBzdhZw3ubB5A=s64",
      "userId": "17509230976006022184"
     },
     "user_tz": -180
    },
    "id": "ewXdFPABI60Y"
   },
   "outputs": [],
   "source": [
    "DF_copy = DF_all.copy()\n",
    "categorical_cols = ['SEX','EDUCATION','MARRIAGE']\n",
    "DF_copy = pd.get_dummies(DF_copy, columns = categorical_cols)"
   ]
  },
  {
   "cell_type": "code",
   "execution_count": 241,
   "id": "HyR2HnCyI_DZ",
   "metadata": {
    "colab": {
     "base_uri": "https://localhost:8080/",
     "height": 439
    },
    "executionInfo": {
     "elapsed": 371,
     "status": "ok",
     "timestamp": 1635361489844,
     "user": {
      "displayName": "FIERY SILENCE",
      "photoUrl": "https://lh3.googleusercontent.com/a-/AOh14GjH4e8Wfm-WozBC1c6d1YyclOceWKBzdhZw3ubB5A=s64",
      "userId": "17509230976006022184"
     },
     "user_tz": -180
    },
    "id": "HyR2HnCyI_DZ",
    "outputId": "536d0e8d-b29e-4f32-aee6-97e550957b02"
   },
   "outputs": [
    {
     "data": {
      "text/html": [
       "<div>\n",
       "<style scoped>\n",
       "    .dataframe tbody tr th:only-of-type {\n",
       "        vertical-align: middle;\n",
       "    }\n",
       "\n",
       "    .dataframe tbody tr th {\n",
       "        vertical-align: top;\n",
       "    }\n",
       "\n",
       "    .dataframe thead th {\n",
       "        text-align: right;\n",
       "    }\n",
       "</style>\n",
       "<table border=\"1\" class=\"dataframe\">\n",
       "  <thead>\n",
       "    <tr style=\"text-align: right;\">\n",
       "      <th></th>\n",
       "      <th>LIMIT_BAL</th>\n",
       "      <th>AGE</th>\n",
       "      <th>PAY_0</th>\n",
       "      <th>PAY_2</th>\n",
       "      <th>PAY_3</th>\n",
       "      <th>PAY_4</th>\n",
       "      <th>PAY_5</th>\n",
       "      <th>PAY_6</th>\n",
       "      <th>BILL_AMT1</th>\n",
       "      <th>BILL_AMT2</th>\n",
       "      <th>...</th>\n",
       "      <th>EDUCATION_1</th>\n",
       "      <th>EDUCATION_2</th>\n",
       "      <th>EDUCATION_3</th>\n",
       "      <th>EDUCATION_4</th>\n",
       "      <th>EDUCATION_5</th>\n",
       "      <th>EDUCATION_6</th>\n",
       "      <th>MARRIAGE_0</th>\n",
       "      <th>MARRIAGE_1</th>\n",
       "      <th>MARRIAGE_2</th>\n",
       "      <th>MARRIAGE_3</th>\n",
       "    </tr>\n",
       "  </thead>\n",
       "  <tbody>\n",
       "    <tr>\n",
       "      <th>0</th>\n",
       "      <td>20000</td>\n",
       "      <td>24</td>\n",
       "      <td>2</td>\n",
       "      <td>2</td>\n",
       "      <td>-1</td>\n",
       "      <td>-1</td>\n",
       "      <td>-2</td>\n",
       "      <td>-2</td>\n",
       "      <td>3913</td>\n",
       "      <td>3102</td>\n",
       "      <td>...</td>\n",
       "      <td>0</td>\n",
       "      <td>1</td>\n",
       "      <td>0</td>\n",
       "      <td>0</td>\n",
       "      <td>0</td>\n",
       "      <td>0</td>\n",
       "      <td>0</td>\n",
       "      <td>1</td>\n",
       "      <td>0</td>\n",
       "      <td>0</td>\n",
       "    </tr>\n",
       "    <tr>\n",
       "      <th>1</th>\n",
       "      <td>120000</td>\n",
       "      <td>26</td>\n",
       "      <td>-1</td>\n",
       "      <td>2</td>\n",
       "      <td>0</td>\n",
       "      <td>0</td>\n",
       "      <td>0</td>\n",
       "      <td>2</td>\n",
       "      <td>2682</td>\n",
       "      <td>1725</td>\n",
       "      <td>...</td>\n",
       "      <td>0</td>\n",
       "      <td>1</td>\n",
       "      <td>0</td>\n",
       "      <td>0</td>\n",
       "      <td>0</td>\n",
       "      <td>0</td>\n",
       "      <td>0</td>\n",
       "      <td>0</td>\n",
       "      <td>1</td>\n",
       "      <td>0</td>\n",
       "    </tr>\n",
       "    <tr>\n",
       "      <th>2</th>\n",
       "      <td>90000</td>\n",
       "      <td>34</td>\n",
       "      <td>0</td>\n",
       "      <td>0</td>\n",
       "      <td>0</td>\n",
       "      <td>0</td>\n",
       "      <td>0</td>\n",
       "      <td>0</td>\n",
       "      <td>29239</td>\n",
       "      <td>14027</td>\n",
       "      <td>...</td>\n",
       "      <td>0</td>\n",
       "      <td>1</td>\n",
       "      <td>0</td>\n",
       "      <td>0</td>\n",
       "      <td>0</td>\n",
       "      <td>0</td>\n",
       "      <td>0</td>\n",
       "      <td>0</td>\n",
       "      <td>1</td>\n",
       "      <td>0</td>\n",
       "    </tr>\n",
       "    <tr>\n",
       "      <th>3</th>\n",
       "      <td>50000</td>\n",
       "      <td>37</td>\n",
       "      <td>0</td>\n",
       "      <td>0</td>\n",
       "      <td>0</td>\n",
       "      <td>0</td>\n",
       "      <td>0</td>\n",
       "      <td>0</td>\n",
       "      <td>46990</td>\n",
       "      <td>48233</td>\n",
       "      <td>...</td>\n",
       "      <td>0</td>\n",
       "      <td>1</td>\n",
       "      <td>0</td>\n",
       "      <td>0</td>\n",
       "      <td>0</td>\n",
       "      <td>0</td>\n",
       "      <td>0</td>\n",
       "      <td>1</td>\n",
       "      <td>0</td>\n",
       "      <td>0</td>\n",
       "    </tr>\n",
       "    <tr>\n",
       "      <th>4</th>\n",
       "      <td>50000</td>\n",
       "      <td>57</td>\n",
       "      <td>-1</td>\n",
       "      <td>0</td>\n",
       "      <td>-1</td>\n",
       "      <td>0</td>\n",
       "      <td>0</td>\n",
       "      <td>0</td>\n",
       "      <td>8617</td>\n",
       "      <td>5670</td>\n",
       "      <td>...</td>\n",
       "      <td>0</td>\n",
       "      <td>1</td>\n",
       "      <td>0</td>\n",
       "      <td>0</td>\n",
       "      <td>0</td>\n",
       "      <td>0</td>\n",
       "      <td>0</td>\n",
       "      <td>1</td>\n",
       "      <td>0</td>\n",
       "      <td>0</td>\n",
       "    </tr>\n",
       "  </tbody>\n",
       "</table>\n",
       "<p>5 rows × 34 columns</p>\n",
       "</div>"
      ],
      "text/plain": [
       "   LIMIT_BAL  AGE  PAY_0  PAY_2  PAY_3  PAY_4  PAY_5  PAY_6  BILL_AMT1  \\\n",
       "0      20000   24      2      2     -1     -1     -2     -2       3913   \n",
       "1     120000   26     -1      2      0      0      0      2       2682   \n",
       "2      90000   34      0      0      0      0      0      0      29239   \n",
       "3      50000   37      0      0      0      0      0      0      46990   \n",
       "4      50000   57     -1      0     -1      0      0      0       8617   \n",
       "\n",
       "   BILL_AMT2  ...  EDUCATION_1  EDUCATION_2  EDUCATION_3  EDUCATION_4  \\\n",
       "0       3102  ...            0            1            0            0   \n",
       "1       1725  ...            0            1            0            0   \n",
       "2      14027  ...            0            1            0            0   \n",
       "3      48233  ...            0            1            0            0   \n",
       "4       5670  ...            0            1            0            0   \n",
       "\n",
       "   EDUCATION_5  EDUCATION_6  MARRIAGE_0  MARRIAGE_1  MARRIAGE_2  MARRIAGE_3  \n",
       "0            0            0           0           1           0           0  \n",
       "1            0            0           0           0           1           0  \n",
       "2            0            0           0           0           1           0  \n",
       "3            0            0           0           1           0           0  \n",
       "4            0            0           0           1           0           0  \n",
       "\n",
       "[5 rows x 34 columns]"
      ]
     },
     "execution_count": 241,
     "metadata": {},
     "output_type": "execute_result"
    }
   ],
   "source": [
    "DF_copy.head(5)"
   ]
  },
  {
   "cell_type": "markdown",
   "id": "5ce7ffd1",
   "metadata": {
    "id": "5ce7ffd1"
   },
   "source": [
    "Отложим 15% наблюдений для прогноза.  "
   ]
  },
  {
   "cell_type": "code",
   "execution_count": 242,
   "id": "13f9300b",
   "metadata": {
    "id": "13f9300b"
   },
   "outputs": [],
   "source": [
    "# наблюдения для моделирования\n",
    "DF = DF_copy.sample(frac=0.85, random_state=my_seed)\n",
    "# отложенные наблюдения\n",
    "DF_predict = DF_copy.drop(DF.index)"
   ]
  },
  {
   "cell_type": "code",
   "execution_count": 243,
   "id": "2c2eedc8",
   "metadata": {
    "id": "2c2eedc8",
    "outputId": "f86a158b-0230-4da1-c0b2-6d6a227a23c4"
   },
   "outputs": [
    {
     "data": {
      "text/html": [
       "<div>\n",
       "<style scoped>\n",
       "    .dataframe tbody tr th:only-of-type {\n",
       "        vertical-align: middle;\n",
       "    }\n",
       "\n",
       "    .dataframe tbody tr th {\n",
       "        vertical-align: top;\n",
       "    }\n",
       "\n",
       "    .dataframe thead th {\n",
       "        text-align: right;\n",
       "    }\n",
       "</style>\n",
       "<table border=\"1\" class=\"dataframe\">\n",
       "  <thead>\n",
       "    <tr style=\"text-align: right;\">\n",
       "      <th></th>\n",
       "      <th>LIMIT_BAL</th>\n",
       "      <th>AGE</th>\n",
       "      <th>PAY_0</th>\n",
       "      <th>PAY_2</th>\n",
       "      <th>PAY_3</th>\n",
       "      <th>PAY_4</th>\n",
       "      <th>PAY_5</th>\n",
       "      <th>PAY_6</th>\n",
       "      <th>BILL_AMT1</th>\n",
       "      <th>BILL_AMT2</th>\n",
       "      <th>BILL_AMT3</th>\n",
       "      <th>BILL_AMT4</th>\n",
       "      <th>BILL_AMT5</th>\n",
       "      <th>BILL_AMT6</th>\n",
       "      <th>PAY_AMT1</th>\n",
       "      <th>PAY_AMT2</th>\n",
       "      <th>PAY_AMT3</th>\n",
       "    </tr>\n",
       "  </thead>\n",
       "  <tbody>\n",
       "    <tr>\n",
       "      <th>3195</th>\n",
       "      <td>20000</td>\n",
       "      <td>39</td>\n",
       "      <td>0</td>\n",
       "      <td>0</td>\n",
       "      <td>0</td>\n",
       "      <td>0</td>\n",
       "      <td>2</td>\n",
       "      <td>2</td>\n",
       "      <td>7824</td>\n",
       "      <td>9000</td>\n",
       "      <td>9867</td>\n",
       "      <td>11929</td>\n",
       "      <td>12091</td>\n",
       "      <td>12245</td>\n",
       "      <td>1307</td>\n",
       "      <td>1174</td>\n",
       "      <td>2236</td>\n",
       "    </tr>\n",
       "    <tr>\n",
       "      <th>15960</th>\n",
       "      <td>300000</td>\n",
       "      <td>30</td>\n",
       "      <td>0</td>\n",
       "      <td>0</td>\n",
       "      <td>0</td>\n",
       "      <td>0</td>\n",
       "      <td>0</td>\n",
       "      <td>0</td>\n",
       "      <td>217329</td>\n",
       "      <td>206703</td>\n",
       "      <td>203164</td>\n",
       "      <td>164371</td>\n",
       "      <td>161331</td>\n",
       "      <td>154515</td>\n",
       "      <td>8000</td>\n",
       "      <td>20219</td>\n",
       "      <td>7500</td>\n",
       "    </tr>\n",
       "    <tr>\n",
       "      <th>17713</th>\n",
       "      <td>120000</td>\n",
       "      <td>30</td>\n",
       "      <td>0</td>\n",
       "      <td>0</td>\n",
       "      <td>0</td>\n",
       "      <td>0</td>\n",
       "      <td>0</td>\n",
       "      <td>0</td>\n",
       "      <td>170263</td>\n",
       "      <td>157881</td>\n",
       "      <td>160796</td>\n",
       "      <td>160168</td>\n",
       "      <td>156165</td>\n",
       "      <td>158850</td>\n",
       "      <td>5520</td>\n",
       "      <td>5700</td>\n",
       "      <td>5815</td>\n",
       "    </tr>\n",
       "    <tr>\n",
       "      <th>17897</th>\n",
       "      <td>110000</td>\n",
       "      <td>27</td>\n",
       "      <td>0</td>\n",
       "      <td>0</td>\n",
       "      <td>0</td>\n",
       "      <td>0</td>\n",
       "      <td>0</td>\n",
       "      <td>0</td>\n",
       "      <td>87487</td>\n",
       "      <td>90120</td>\n",
       "      <td>93661</td>\n",
       "      <td>96185</td>\n",
       "      <td>99667</td>\n",
       "      <td>102978</td>\n",
       "      <td>5000</td>\n",
       "      <td>5000</td>\n",
       "      <td>5000</td>\n",
       "    </tr>\n",
       "    <tr>\n",
       "      <th>23049</th>\n",
       "      <td>200000</td>\n",
       "      <td>41</td>\n",
       "      <td>1</td>\n",
       "      <td>-1</td>\n",
       "      <td>0</td>\n",
       "      <td>-1</td>\n",
       "      <td>2</td>\n",
       "      <td>0</td>\n",
       "      <td>2217</td>\n",
       "      <td>61328</td>\n",
       "      <td>2877</td>\n",
       "      <td>160944</td>\n",
       "      <td>156864</td>\n",
       "      <td>160066</td>\n",
       "      <td>61634</td>\n",
       "      <td>2877</td>\n",
       "      <td>160944</td>\n",
       "    </tr>\n",
       "  </tbody>\n",
       "</table>\n",
       "</div>"
      ],
      "text/plain": [
       "       LIMIT_BAL  AGE  PAY_0  PAY_2  PAY_3  PAY_4  PAY_5  PAY_6  BILL_AMT1  \\\n",
       "3195       20000   39      0      0      0      0      2      2       7824   \n",
       "15960     300000   30      0      0      0      0      0      0     217329   \n",
       "17713     120000   30      0      0      0      0      0      0     170263   \n",
       "17897     110000   27      0      0      0      0      0      0      87487   \n",
       "23049     200000   41      1     -1      0     -1      2      0       2217   \n",
       "\n",
       "       BILL_AMT2  BILL_AMT3  BILL_AMT4  BILL_AMT5  BILL_AMT6  PAY_AMT1  \\\n",
       "3195        9000       9867      11929      12091      12245      1307   \n",
       "15960     206703     203164     164371     161331     154515      8000   \n",
       "17713     157881     160796     160168     156165     158850      5520   \n",
       "17897      90120      93661      96185      99667     102978      5000   \n",
       "23049      61328       2877     160944     156864     160066     61634   \n",
       "\n",
       "       PAY_AMT2  PAY_AMT3  \n",
       "3195       1174      2236  \n",
       "15960     20219      7500  \n",
       "17713      5700      5815  \n",
       "17897      5000      5000  \n",
       "23049      2877    160944  "
      ]
     },
     "execution_count": 243,
     "metadata": {},
     "output_type": "execute_result"
    }
   ],
   "source": [
    "# первые 5 строк фрейма, 17 первых столбцов\n",
    "DF.iloc[:, :17].head(5)"
   ]
  },
  {
   "cell_type": "code",
   "execution_count": 244,
   "id": "e98ca5c5",
   "metadata": {
    "id": "e98ca5c5",
    "outputId": "90a957be-de86-4778-8f89-5651b0b89920"
   },
   "outputs": [
    {
     "data": {
      "text/html": [
       "<div>\n",
       "<style scoped>\n",
       "    .dataframe tbody tr th:only-of-type {\n",
       "        vertical-align: middle;\n",
       "    }\n",
       "\n",
       "    .dataframe tbody tr th {\n",
       "        vertical-align: top;\n",
       "    }\n",
       "\n",
       "    .dataframe thead th {\n",
       "        text-align: right;\n",
       "    }\n",
       "</style>\n",
       "<table border=\"1\" class=\"dataframe\">\n",
       "  <thead>\n",
       "    <tr style=\"text-align: right;\">\n",
       "      <th></th>\n",
       "      <th>PAY_AMT4</th>\n",
       "      <th>PAY_AMT5</th>\n",
       "      <th>PAY_AMT6</th>\n",
       "      <th>Y</th>\n",
       "      <th>SEX_1</th>\n",
       "      <th>SEX_2</th>\n",
       "      <th>EDUCATION_0</th>\n",
       "      <th>EDUCATION_1</th>\n",
       "      <th>EDUCATION_2</th>\n",
       "      <th>EDUCATION_3</th>\n",
       "      <th>EDUCATION_4</th>\n",
       "      <th>EDUCATION_5</th>\n",
       "      <th>EDUCATION_6</th>\n",
       "      <th>MARRIAGE_0</th>\n",
       "      <th>MARRIAGE_1</th>\n",
       "      <th>MARRIAGE_2</th>\n",
       "      <th>MARRIAGE_3</th>\n",
       "    </tr>\n",
       "  </thead>\n",
       "  <tbody>\n",
       "    <tr>\n",
       "      <th>3195</th>\n",
       "      <td>500</td>\n",
       "      <td>500</td>\n",
       "      <td>0</td>\n",
       "      <td>0</td>\n",
       "      <td>1</td>\n",
       "      <td>0</td>\n",
       "      <td>0</td>\n",
       "      <td>0</td>\n",
       "      <td>0</td>\n",
       "      <td>1</td>\n",
       "      <td>0</td>\n",
       "      <td>0</td>\n",
       "      <td>0</td>\n",
       "      <td>0</td>\n",
       "      <td>0</td>\n",
       "      <td>1</td>\n",
       "      <td>0</td>\n",
       "    </tr>\n",
       "    <tr>\n",
       "      <th>15960</th>\n",
       "      <td>6500</td>\n",
       "      <td>7500</td>\n",
       "      <td>6000</td>\n",
       "      <td>0</td>\n",
       "      <td>0</td>\n",
       "      <td>1</td>\n",
       "      <td>0</td>\n",
       "      <td>1</td>\n",
       "      <td>0</td>\n",
       "      <td>0</td>\n",
       "      <td>0</td>\n",
       "      <td>0</td>\n",
       "      <td>0</td>\n",
       "      <td>0</td>\n",
       "      <td>0</td>\n",
       "      <td>1</td>\n",
       "      <td>0</td>\n",
       "    </tr>\n",
       "    <tr>\n",
       "      <th>17713</th>\n",
       "      <td>5500</td>\n",
       "      <td>5522</td>\n",
       "      <td>6000</td>\n",
       "      <td>0</td>\n",
       "      <td>0</td>\n",
       "      <td>1</td>\n",
       "      <td>0</td>\n",
       "      <td>1</td>\n",
       "      <td>0</td>\n",
       "      <td>0</td>\n",
       "      <td>0</td>\n",
       "      <td>0</td>\n",
       "      <td>0</td>\n",
       "      <td>0</td>\n",
       "      <td>0</td>\n",
       "      <td>1</td>\n",
       "      <td>0</td>\n",
       "    </tr>\n",
       "    <tr>\n",
       "      <th>17897</th>\n",
       "      <td>5000</td>\n",
       "      <td>5000</td>\n",
       "      <td>4000</td>\n",
       "      <td>0</td>\n",
       "      <td>1</td>\n",
       "      <td>0</td>\n",
       "      <td>0</td>\n",
       "      <td>1</td>\n",
       "      <td>0</td>\n",
       "      <td>0</td>\n",
       "      <td>0</td>\n",
       "      <td>0</td>\n",
       "      <td>0</td>\n",
       "      <td>0</td>\n",
       "      <td>0</td>\n",
       "      <td>1</td>\n",
       "      <td>0</td>\n",
       "    </tr>\n",
       "    <tr>\n",
       "      <th>23049</th>\n",
       "      <td>0</td>\n",
       "      <td>5900</td>\n",
       "      <td>13000</td>\n",
       "      <td>1</td>\n",
       "      <td>0</td>\n",
       "      <td>1</td>\n",
       "      <td>0</td>\n",
       "      <td>1</td>\n",
       "      <td>0</td>\n",
       "      <td>0</td>\n",
       "      <td>0</td>\n",
       "      <td>0</td>\n",
       "      <td>0</td>\n",
       "      <td>0</td>\n",
       "      <td>1</td>\n",
       "      <td>0</td>\n",
       "      <td>0</td>\n",
       "    </tr>\n",
       "  </tbody>\n",
       "</table>\n",
       "</div>"
      ],
      "text/plain": [
       "       PAY_AMT4  PAY_AMT5  PAY_AMT6  Y  SEX_1  SEX_2  EDUCATION_0  \\\n",
       "3195        500       500         0  0      1      0            0   \n",
       "15960      6500      7500      6000  0      0      1            0   \n",
       "17713      5500      5522      6000  0      0      1            0   \n",
       "17897      5000      5000      4000  0      1      0            0   \n",
       "23049         0      5900     13000  1      0      1            0   \n",
       "\n",
       "       EDUCATION_1  EDUCATION_2  EDUCATION_3  EDUCATION_4  EDUCATION_5  \\\n",
       "3195             0            0            1            0            0   \n",
       "15960            1            0            0            0            0   \n",
       "17713            1            0            0            0            0   \n",
       "17897            1            0            0            0            0   \n",
       "23049            1            0            0            0            0   \n",
       "\n",
       "       EDUCATION_6  MARRIAGE_0  MARRIAGE_1  MARRIAGE_2  MARRIAGE_3  \n",
       "3195             0           0           0           1           0  \n",
       "15960            0           0           0           1           0  \n",
       "17713            0           0           0           1           0  \n",
       "17897            0           0           0           1           0  \n",
       "23049            0           0           1           0           0  "
      ]
     },
     "execution_count": 244,
     "metadata": {},
     "output_type": "execute_result"
    }
   ],
   "source": [
    "# первые 5 строк фрейма, 17 последних столбцов\n",
    "DF.iloc[:, 17:].head(5)"
   ]
  },
  {
   "cell_type": "code",
   "execution_count": 245,
   "id": "1e97a472",
   "metadata": {
    "id": "1e97a472",
    "outputId": "ac108463-1a54-48a2-a3f7-2e44a24d79bc"
   },
   "outputs": [
    {
     "data": {
      "text/plain": [
       "LIMIT_BAL      int64\n",
       "AGE            int64\n",
       "PAY_0          int64\n",
       "PAY_2          int64\n",
       "PAY_3          int64\n",
       "PAY_4          int64\n",
       "PAY_5          int64\n",
       "PAY_6          int64\n",
       "BILL_AMT1      int64\n",
       "BILL_AMT2      int64\n",
       "BILL_AMT3      int64\n",
       "BILL_AMT4      int64\n",
       "BILL_AMT5      int64\n",
       "BILL_AMT6      int64\n",
       "PAY_AMT1       int64\n",
       "PAY_AMT2       int64\n",
       "PAY_AMT3       int64\n",
       "PAY_AMT4       int64\n",
       "PAY_AMT5       int64\n",
       "PAY_AMT6       int64\n",
       "Y              int64\n",
       "SEX_1          uint8\n",
       "SEX_2          uint8\n",
       "EDUCATION_0    uint8\n",
       "EDUCATION_1    uint8\n",
       "EDUCATION_2    uint8\n",
       "EDUCATION_3    uint8\n",
       "EDUCATION_4    uint8\n",
       "EDUCATION_5    uint8\n",
       "EDUCATION_6    uint8\n",
       "MARRIAGE_0     uint8\n",
       "MARRIAGE_1     uint8\n",
       "MARRIAGE_2     uint8\n",
       "MARRIAGE_3     uint8\n",
       "dtype: object"
      ]
     },
     "execution_count": 245,
     "metadata": {},
     "output_type": "execute_result"
    }
   ],
   "source": [
    "# типы столбцов фрейма\n",
    "DF.dtypes"
   ]
  },
  {
   "cell_type": "markdown",
   "id": "d4a540a2",
   "metadata": {
    "id": "d4a540a2"
   },
   "source": [
    "Проверим, нет ли в таблице пропусков.  "
   ]
  },
  {
   "cell_type": "code",
   "execution_count": 246,
   "id": "42a96cd9",
   "metadata": {
    "id": "42a96cd9",
    "outputId": "c4481563-cbb9-4391-db4e-c6eb3b8c9a33"
   },
   "outputs": [
    {
     "data": {
      "text/plain": [
       "LIMIT_BAL      0\n",
       "AGE            0\n",
       "PAY_0          0\n",
       "PAY_2          0\n",
       "PAY_3          0\n",
       "PAY_4          0\n",
       "PAY_5          0\n",
       "PAY_6          0\n",
       "BILL_AMT1      0\n",
       "BILL_AMT2      0\n",
       "BILL_AMT3      0\n",
       "BILL_AMT4      0\n",
       "BILL_AMT5      0\n",
       "BILL_AMT6      0\n",
       "PAY_AMT1       0\n",
       "PAY_AMT2       0\n",
       "PAY_AMT3       0\n",
       "PAY_AMT4       0\n",
       "PAY_AMT5       0\n",
       "PAY_AMT6       0\n",
       "Y              0\n",
       "SEX_1          0\n",
       "SEX_2          0\n",
       "EDUCATION_0    0\n",
       "EDUCATION_1    0\n",
       "EDUCATION_2    0\n",
       "EDUCATION_3    0\n",
       "EDUCATION_4    0\n",
       "EDUCATION_5    0\n",
       "EDUCATION_6    0\n",
       "MARRIAGE_0     0\n",
       "MARRIAGE_1     0\n",
       "MARRIAGE_2     0\n",
       "MARRIAGE_3     0\n",
       "dtype: int64"
      ]
     },
     "execution_count": 246,
     "metadata": {},
     "output_type": "execute_result"
    }
   ],
   "source": [
    "# считаем пропуски в каждом столбце\n",
    "DF.isna().sum()"
   ]
  },
  {
   "cell_type": "markdown",
   "id": "2941191c",
   "metadata": {
    "id": "2941191c"
   },
   "source": [
    "Пропусков не обнаружено.  \n",
    " \n",
    " \n",
    "## Описательные статистики  \n",
    "\n",
    "#### Считаем доли классов целевой переменной `Y`.  "
   ]
  },
  {
   "cell_type": "code",
   "execution_count": 247,
   "id": "ad9c9120",
   "metadata": {
    "id": "ad9c9120",
    "outputId": "08ecd58b-91a7-4e36-e752-a83250fcd84e"
   },
   "outputs": [
    {
     "data": {
      "text/plain": [
       "array([0, 1])"
      ]
     },
     "execution_count": 247,
     "metadata": {},
     "output_type": "execute_result"
    }
   ],
   "source": [
    "# метки классов\n",
    "DF.Y.unique()"
   ]
  },
  {
   "cell_type": "code",
   "execution_count": 248,
   "id": "1807f21e",
   "metadata": {
    "id": "1807f21e",
    "outputId": "3e9448b2-feee-4c65-c9cc-204ab6da2df4"
   },
   "outputs": [
    {
     "data": {
      "text/plain": [
       "0    0.781\n",
       "1    0.219\n",
       "Name: Y, dtype: float64"
      ]
     },
     "execution_count": 248,
     "metadata": {},
     "output_type": "execute_result"
    }
   ],
   "source": [
    "# доли классов\n",
    "np.around(DF.Y.value_counts() / len(DF.index), 3)"
   ]
  },
  {
   "cell_type": "markdown",
   "id": "e3216487",
   "metadata": {
    "id": "e3216487"
   },
   "source": [
    "#### Рассчитаем для непрерывных переменных набора описательные статистики."
   ]
  },
  {
   "cell_type": "code",
   "execution_count": 249,
   "id": "c7df0768",
   "metadata": {
    "id": "c7df0768",
    "outputId": "a86f9af8-9ef3-4c93-c7ec-a7ba3627e13c"
   },
   "outputs": [
    {
     "data": {
      "text/html": [
       "<div>\n",
       "<style scoped>\n",
       "    .dataframe tbody tr th:only-of-type {\n",
       "        vertical-align: middle;\n",
       "    }\n",
       "\n",
       "    .dataframe tbody tr th {\n",
       "        vertical-align: top;\n",
       "    }\n",
       "\n",
       "    .dataframe thead th {\n",
       "        text-align: right;\n",
       "    }\n",
       "</style>\n",
       "<table border=\"1\" class=\"dataframe\">\n",
       "  <thead>\n",
       "    <tr style=\"text-align: right;\">\n",
       "      <th></th>\n",
       "      <th>LIMIT_BAL</th>\n",
       "      <th>AGE</th>\n",
       "      <th>PAY_0</th>\n",
       "      <th>PAY_2</th>\n",
       "      <th>PAY_3</th>\n",
       "      <th>PAY_4</th>\n",
       "      <th>PAY_5</th>\n",
       "      <th>PAY_6</th>\n",
       "      <th>BILL_AMT1</th>\n",
       "      <th>BILL_AMT2</th>\n",
       "      <th>BILL_AMT3</th>\n",
       "    </tr>\n",
       "  </thead>\n",
       "  <tbody>\n",
       "    <tr>\n",
       "      <th>count</th>\n",
       "      <td>25500.000000</td>\n",
       "      <td>25500.000000</td>\n",
       "      <td>25500.000000</td>\n",
       "      <td>25500.000000</td>\n",
       "      <td>25500.000000</td>\n",
       "      <td>25500.000000</td>\n",
       "      <td>25500.000000</td>\n",
       "      <td>25500.000000</td>\n",
       "      <td>25500.000000</td>\n",
       "      <td>25500.000000</td>\n",
       "      <td>2.550000e+04</td>\n",
       "    </tr>\n",
       "    <tr>\n",
       "      <th>mean</th>\n",
       "      <td>167848.614902</td>\n",
       "      <td>35.473647</td>\n",
       "      <td>-0.019294</td>\n",
       "      <td>-0.136745</td>\n",
       "      <td>-0.171020</td>\n",
       "      <td>-0.226353</td>\n",
       "      <td>-0.272706</td>\n",
       "      <td>-0.295529</td>\n",
       "      <td>51145.782353</td>\n",
       "      <td>49093.645412</td>\n",
       "      <td>4.689561e+04</td>\n",
       "    </tr>\n",
       "    <tr>\n",
       "      <th>std</th>\n",
       "      <td>129894.926164</td>\n",
       "      <td>9.224644</td>\n",
       "      <td>1.125633</td>\n",
       "      <td>1.197933</td>\n",
       "      <td>1.193489</td>\n",
       "      <td>1.167079</td>\n",
       "      <td>1.131698</td>\n",
       "      <td>1.151099</td>\n",
       "      <td>73030.089201</td>\n",
       "      <td>70556.209422</td>\n",
       "      <td>6.893268e+04</td>\n",
       "    </tr>\n",
       "    <tr>\n",
       "      <th>min</th>\n",
       "      <td>10000.000000</td>\n",
       "      <td>21.000000</td>\n",
       "      <td>-2.000000</td>\n",
       "      <td>-2.000000</td>\n",
       "      <td>-2.000000</td>\n",
       "      <td>-2.000000</td>\n",
       "      <td>-2.000000</td>\n",
       "      <td>-2.000000</td>\n",
       "      <td>-165580.000000</td>\n",
       "      <td>-69777.000000</td>\n",
       "      <td>-6.150600e+04</td>\n",
       "    </tr>\n",
       "    <tr>\n",
       "      <th>25%</th>\n",
       "      <td>50000.000000</td>\n",
       "      <td>28.000000</td>\n",
       "      <td>-1.000000</td>\n",
       "      <td>-1.000000</td>\n",
       "      <td>-1.000000</td>\n",
       "      <td>-1.000000</td>\n",
       "      <td>-1.000000</td>\n",
       "      <td>-1.000000</td>\n",
       "      <td>3578.000000</td>\n",
       "      <td>2956.500000</td>\n",
       "      <td>2.635000e+03</td>\n",
       "    </tr>\n",
       "    <tr>\n",
       "      <th>50%</th>\n",
       "      <td>140000.000000</td>\n",
       "      <td>34.000000</td>\n",
       "      <td>0.000000</td>\n",
       "      <td>0.000000</td>\n",
       "      <td>0.000000</td>\n",
       "      <td>0.000000</td>\n",
       "      <td>0.000000</td>\n",
       "      <td>0.000000</td>\n",
       "      <td>22344.500000</td>\n",
       "      <td>21224.000000</td>\n",
       "      <td>2.003500e+04</td>\n",
       "    </tr>\n",
       "    <tr>\n",
       "      <th>75%</th>\n",
       "      <td>240000.000000</td>\n",
       "      <td>41.000000</td>\n",
       "      <td>0.000000</td>\n",
       "      <td>0.000000</td>\n",
       "      <td>0.000000</td>\n",
       "      <td>0.000000</td>\n",
       "      <td>0.000000</td>\n",
       "      <td>0.000000</td>\n",
       "      <td>67573.250000</td>\n",
       "      <td>64367.000000</td>\n",
       "      <td>6.031300e+04</td>\n",
       "    </tr>\n",
       "    <tr>\n",
       "      <th>max</th>\n",
       "      <td>800000.000000</td>\n",
       "      <td>79.000000</td>\n",
       "      <td>8.000000</td>\n",
       "      <td>8.000000</td>\n",
       "      <td>8.000000</td>\n",
       "      <td>8.000000</td>\n",
       "      <td>8.000000</td>\n",
       "      <td>8.000000</td>\n",
       "      <td>653062.000000</td>\n",
       "      <td>671563.000000</td>\n",
       "      <td>1.664089e+06</td>\n",
       "    </tr>\n",
       "  </tbody>\n",
       "</table>\n",
       "</div>"
      ],
      "text/plain": [
       "           LIMIT_BAL           AGE         PAY_0         PAY_2         PAY_3  \\\n",
       "count   25500.000000  25500.000000  25500.000000  25500.000000  25500.000000   \n",
       "mean   167848.614902     35.473647     -0.019294     -0.136745     -0.171020   \n",
       "std    129894.926164      9.224644      1.125633      1.197933      1.193489   \n",
       "min     10000.000000     21.000000     -2.000000     -2.000000     -2.000000   \n",
       "25%     50000.000000     28.000000     -1.000000     -1.000000     -1.000000   \n",
       "50%    140000.000000     34.000000      0.000000      0.000000      0.000000   \n",
       "75%    240000.000000     41.000000      0.000000      0.000000      0.000000   \n",
       "max    800000.000000     79.000000      8.000000      8.000000      8.000000   \n",
       "\n",
       "              PAY_4         PAY_5         PAY_6      BILL_AMT1      BILL_AMT2  \\\n",
       "count  25500.000000  25500.000000  25500.000000   25500.000000   25500.000000   \n",
       "mean      -0.226353     -0.272706     -0.295529   51145.782353   49093.645412   \n",
       "std        1.167079      1.131698      1.151099   73030.089201   70556.209422   \n",
       "min       -2.000000     -2.000000     -2.000000 -165580.000000  -69777.000000   \n",
       "25%       -1.000000     -1.000000     -1.000000    3578.000000    2956.500000   \n",
       "50%        0.000000      0.000000      0.000000   22344.500000   21224.000000   \n",
       "75%        0.000000      0.000000      0.000000   67573.250000   64367.000000   \n",
       "max        8.000000      8.000000      8.000000  653062.000000  671563.000000   \n",
       "\n",
       "          BILL_AMT3  \n",
       "count  2.550000e+04  \n",
       "mean   4.689561e+04  \n",
       "std    6.893268e+04  \n",
       "min   -6.150600e+04  \n",
       "25%    2.635000e+03  \n",
       "50%    2.003500e+04  \n",
       "75%    6.031300e+04  \n",
       "max    1.664089e+06  "
      ]
     },
     "execution_count": 249,
     "metadata": {},
     "output_type": "execute_result"
    }
   ],
   "source": [
    "# описательные статистики\n",
    "DF.iloc[:, :11].describe()"
   ]
  },
  {
   "cell_type": "code",
   "execution_count": 250,
   "id": "8308f64a",
   "metadata": {
    "id": "8308f64a",
    "outputId": "7f09b49c-e6ef-43b3-db8b-1d0869053bdd"
   },
   "outputs": [
    {
     "data": {
      "text/html": [
       "<div>\n",
       "<style scoped>\n",
       "    .dataframe tbody tr th:only-of-type {\n",
       "        vertical-align: middle;\n",
       "    }\n",
       "\n",
       "    .dataframe tbody tr th {\n",
       "        vertical-align: top;\n",
       "    }\n",
       "\n",
       "    .dataframe thead th {\n",
       "        text-align: right;\n",
       "    }\n",
       "</style>\n",
       "<table border=\"1\" class=\"dataframe\">\n",
       "  <thead>\n",
       "    <tr style=\"text-align: right;\">\n",
       "      <th></th>\n",
       "      <th>BILL_AMT4</th>\n",
       "      <th>BILL_AMT5</th>\n",
       "      <th>BILL_AMT6</th>\n",
       "      <th>PAY_AMT1</th>\n",
       "      <th>PAY_AMT2</th>\n",
       "      <th>PAY_AMT3</th>\n",
       "      <th>PAY_AMT4</th>\n",
       "      <th>PAY_AMT5</th>\n",
       "      <th>PAY_AMT6</th>\n",
       "      <th>Y</th>\n",
       "    </tr>\n",
       "  </thead>\n",
       "  <tbody>\n",
       "    <tr>\n",
       "      <th>count</th>\n",
       "      <td>25500.000000</td>\n",
       "      <td>25500.000000</td>\n",
       "      <td>25500.000000</td>\n",
       "      <td>25500.000000</td>\n",
       "      <td>2.550000e+04</td>\n",
       "      <td>25500.000000</td>\n",
       "      <td>25500.000000</td>\n",
       "      <td>25500.000000</td>\n",
       "      <td>25500.000000</td>\n",
       "      <td>25500.000000</td>\n",
       "    </tr>\n",
       "    <tr>\n",
       "      <th>mean</th>\n",
       "      <td>43011.959020</td>\n",
       "      <td>40047.777804</td>\n",
       "      <td>38657.944118</td>\n",
       "      <td>5721.081059</td>\n",
       "      <td>5.912399e+03</td>\n",
       "      <td>5195.790706</td>\n",
       "      <td>4851.610588</td>\n",
       "      <td>4847.703137</td>\n",
       "      <td>5248.818863</td>\n",
       "      <td>0.219216</td>\n",
       "    </tr>\n",
       "    <tr>\n",
       "      <th>std</th>\n",
       "      <td>63681.324672</td>\n",
       "      <td>60026.412733</td>\n",
       "      <td>59003.614301</td>\n",
       "      <td>16819.669309</td>\n",
       "      <td>2.259416e+04</td>\n",
       "      <td>16745.180224</td>\n",
       "      <td>15980.476266</td>\n",
       "      <td>15559.835697</td>\n",
       "      <td>17901.580110</td>\n",
       "      <td>0.413723</td>\n",
       "    </tr>\n",
       "    <tr>\n",
       "      <th>min</th>\n",
       "      <td>-170000.000000</td>\n",
       "      <td>-81334.000000</td>\n",
       "      <td>-339603.000000</td>\n",
       "      <td>0.000000</td>\n",
       "      <td>0.000000e+00</td>\n",
       "      <td>0.000000</td>\n",
       "      <td>0.000000</td>\n",
       "      <td>0.000000</td>\n",
       "      <td>0.000000</td>\n",
       "      <td>0.000000</td>\n",
       "    </tr>\n",
       "    <tr>\n",
       "      <th>25%</th>\n",
       "      <td>2280.000000</td>\n",
       "      <td>1740.750000</td>\n",
       "      <td>1242.000000</td>\n",
       "      <td>1000.000000</td>\n",
       "      <td>8.360000e+02</td>\n",
       "      <td>390.000000</td>\n",
       "      <td>298.750000</td>\n",
       "      <td>243.750000</td>\n",
       "      <td>108.750000</td>\n",
       "      <td>0.000000</td>\n",
       "    </tr>\n",
       "    <tr>\n",
       "      <th>50%</th>\n",
       "      <td>19010.000000</td>\n",
       "      <td>18067.000000</td>\n",
       "      <td>17001.500000</td>\n",
       "      <td>2111.500000</td>\n",
       "      <td>2.010000e+03</td>\n",
       "      <td>1826.500000</td>\n",
       "      <td>1500.000000</td>\n",
       "      <td>1500.000000</td>\n",
       "      <td>1500.000000</td>\n",
       "      <td>0.000000</td>\n",
       "    </tr>\n",
       "    <tr>\n",
       "      <th>75%</th>\n",
       "      <td>54429.500000</td>\n",
       "      <td>50065.250000</td>\n",
       "      <td>49162.750000</td>\n",
       "      <td>5015.000000</td>\n",
       "      <td>5.000000e+03</td>\n",
       "      <td>4512.750000</td>\n",
       "      <td>4027.000000</td>\n",
       "      <td>4064.250000</td>\n",
       "      <td>4000.000000</td>\n",
       "      <td>0.000000</td>\n",
       "    </tr>\n",
       "    <tr>\n",
       "      <th>max</th>\n",
       "      <td>706864.000000</td>\n",
       "      <td>587067.000000</td>\n",
       "      <td>699944.000000</td>\n",
       "      <td>873552.000000</td>\n",
       "      <td>1.684259e+06</td>\n",
       "      <td>889043.000000</td>\n",
       "      <td>621000.000000</td>\n",
       "      <td>426529.000000</td>\n",
       "      <td>528666.000000</td>\n",
       "      <td>1.000000</td>\n",
       "    </tr>\n",
       "  </tbody>\n",
       "</table>\n",
       "</div>"
      ],
      "text/plain": [
       "           BILL_AMT4      BILL_AMT5      BILL_AMT6       PAY_AMT1  \\\n",
       "count   25500.000000   25500.000000   25500.000000   25500.000000   \n",
       "mean    43011.959020   40047.777804   38657.944118    5721.081059   \n",
       "std     63681.324672   60026.412733   59003.614301   16819.669309   \n",
       "min   -170000.000000  -81334.000000 -339603.000000       0.000000   \n",
       "25%      2280.000000    1740.750000    1242.000000    1000.000000   \n",
       "50%     19010.000000   18067.000000   17001.500000    2111.500000   \n",
       "75%     54429.500000   50065.250000   49162.750000    5015.000000   \n",
       "max    706864.000000  587067.000000  699944.000000  873552.000000   \n",
       "\n",
       "           PAY_AMT2       PAY_AMT3       PAY_AMT4       PAY_AMT5  \\\n",
       "count  2.550000e+04   25500.000000   25500.000000   25500.000000   \n",
       "mean   5.912399e+03    5195.790706    4851.610588    4847.703137   \n",
       "std    2.259416e+04   16745.180224   15980.476266   15559.835697   \n",
       "min    0.000000e+00       0.000000       0.000000       0.000000   \n",
       "25%    8.360000e+02     390.000000     298.750000     243.750000   \n",
       "50%    2.010000e+03    1826.500000    1500.000000    1500.000000   \n",
       "75%    5.000000e+03    4512.750000    4027.000000    4064.250000   \n",
       "max    1.684259e+06  889043.000000  621000.000000  426529.000000   \n",
       "\n",
       "            PAY_AMT6             Y  \n",
       "count   25500.000000  25500.000000  \n",
       "mean     5248.818863      0.219216  \n",
       "std     17901.580110      0.413723  \n",
       "min         0.000000      0.000000  \n",
       "25%       108.750000      0.000000  \n",
       "50%      1500.000000      0.000000  \n",
       "75%      4000.000000      0.000000  \n",
       "max    528666.000000      1.000000  "
      ]
     },
     "execution_count": 250,
     "metadata": {},
     "output_type": "execute_result"
    }
   ],
   "source": [
    "# описательные статистики\n",
    "DF.iloc[:, 11:21].describe()"
   ]
  },
  {
   "cell_type": "markdown",
   "id": "8fe7bbef",
   "metadata": {
    "id": "8fe7bbef"
   },
   "source": [
    "**Выводы по описательным статистикам**: некоторые минимумы значений принимают отрицательные значения, а стандартные отклонения имеют очень большие значения и достаточно большой разброс, что говорит о неоднородности данных. Для работы с методами снижения размерности и регуляризации понадобится стандартизация значений.   \n",
    "\n",
    "## Визуализация разброса переменных внутри классов  \n",
    "Построим коробчатые диаграммы для объясняющих переменных, чтобы сравнить средние уровни и разброс по классам.  "
   ]
  },
  {
   "cell_type": "code",
   "execution_count": 251,
   "id": "d4ee5069",
   "metadata": {
    "id": "d4ee5069",
    "outputId": "82cbd56d-9556-4818-967d-66c4bf4f8fc1"
   },
   "outputs": [
    {
     "data": {
      "image/png": "[encoded data removed]",
      "text/plain": [
       "<Figure size 864x360 with 5 Axes>"
      ]
     },
     "metadata": {},
     "output_type": "display_data"
    }
   ],
   "source": [
    "# создаём полотно и делим его на четыре части\n",
    "fig = plt.figure(figsize=(12, 5))\n",
    "gs = mpl.gridspec.GridSpec(1, 5)\n",
    "ax1 = plt.subplot(gs[0, 0])\n",
    "ax2 = plt.subplot(gs[0, 1])\n",
    "ax3 = plt.subplot(gs[0, 2])\n",
    "ax4 = plt.subplot(gs[0, 3])\n",
    "ax5 = plt.subplot(gs[0, 4])\n",
    "\n",
    "axs = [ax1, ax2, ax3, ax4, ax5]\n",
    "\n",
    "cols_loop = list(DF.columns[:5].values)\n",
    "for col_name in cols_loop :\n",
    "    i = cols_loop.index(col_name)\n",
    "    \n",
    "    sns.boxplot(x='Y', y=col_name, data=DF, ax=axs[i])\n",
    "    #g = sns.barplot(x='Y', y=col_name, data=DF, ax=axs[i])\n",
    "    #g.set_yscale(\"log\")\n",
    "    \n",
    "    axs[i].set_ylabel(col_name)\n",
    "    axs[i].set_title(col_name)\n",
    "\n",
    "# корректируем расположение графиков на полотне\n",
    "gs.tight_layout(plt.gcf())\n",
    "plt.show()\n"
   ]
  },
  {
   "cell_type": "code",
   "execution_count": 252,
   "id": "af48928a",
   "metadata": {
    "id": "af48928a",
    "outputId": "ec1c2261-4e9b-4c7b-935a-b6c43bbe6c78"
   },
   "outputs": [
    {
     "data": {
      "image/png": "[encoded data removed]",
      "text/plain": [
       "<Figure size 864x360 with 5 Axes>"
      ]
     },
     "metadata": {},
     "output_type": "display_data"
    }
   ],
   "source": [
    "# создаём полотно и делим его на четыре части\n",
    "fig = plt.figure(figsize=(12, 5))\n",
    "gs = mpl.gridspec.GridSpec(1, 5)\n",
    "ax1 = plt.subplot(gs[0, 0])\n",
    "ax2 = plt.subplot(gs[0, 1])\n",
    "ax3 = plt.subplot(gs[0, 2])\n",
    "ax4 = plt.subplot(gs[0, 3])\n",
    "ax5 = plt.subplot(gs[0, 4])\n",
    "\n",
    "axs = [ax1, ax2, ax3, ax4, ax5]\n",
    "\n",
    "cols_loop = list(DF.columns[5:10].values)\n",
    "for col_name in cols_loop :\n",
    "    i = cols_loop.index(col_name)\n",
    "    sns.boxplot(x='Y', y=col_name, data=DF, ax=axs[i])\n",
    "    #g = sns.barplot(x='Y', y=col_name, data=DF, ax=axs[i])\n",
    "    #g.set_yscale(\"log\")\n",
    "    axs[i].set_ylabel(col_name)\n",
    "    axs[i].set_title(col_name)\n",
    "\n",
    "# корректируем расположение графиков на полотне\n",
    "gs.tight_layout(plt.gcf())\n",
    "plt.show()"
   ]
  },
  {
   "cell_type": "code",
   "execution_count": 253,
   "id": "742bbdd3",
   "metadata": {
    "id": "742bbdd3",
    "outputId": "7cc69a63-5afe-4656-e035-0bb6e4aa7a33"
   },
   "outputs": [
    {
     "data": {
      "image/png": "[encoded data removed]",
      "text/plain": [
       "<Figure size 864x360 with 5 Axes>"
      ]
     },
     "metadata": {},
     "output_type": "display_data"
    }
   ],
   "source": [
    "# создаём полотно и делим его на четыре части\n",
    "fig = plt.figure(figsize=(12, 5))\n",
    "gs = mpl.gridspec.GridSpec(1, 5)\n",
    "ax1 = plt.subplot(gs[0, 0])\n",
    "ax2 = plt.subplot(gs[0, 1])\n",
    "ax3 = plt.subplot(gs[0, 2])\n",
    "ax4 = plt.subplot(gs[0, 3])\n",
    "ax5 = plt.subplot(gs[0, 4])\n",
    "\n",
    "axs = [ax1, ax2, ax3, ax4, ax5]\n",
    "\n",
    "cols_loop = list(DF.columns[10:15].values)\n",
    "for col_name in cols_loop :\n",
    "    i = cols_loop.index(col_name)\n",
    "    sns.boxplot(x='Y', y=col_name, data=DF, ax=axs[i])\n",
    "    #g = sns.barplot(x='Y', y=col_name, data=DF, ax=axs[i])\n",
    "    #g.set_yscale(\"log\")\n",
    "    axs[i].set_ylabel(col_name)\n",
    "    axs[i].set_title(col_name)\n",
    "\n",
    "# корректируем расположение графиков на полотне\n",
    "gs.tight_layout(plt.gcf())\n",
    "plt.show()"
   ]
  },
  {
   "cell_type": "code",
   "execution_count": 254,
   "id": "796357ac",
   "metadata": {
    "id": "796357ac",
    "outputId": "f6cd6d13-1a3b-47e6-cd7b-157158af26c2"
   },
   "outputs": [
    {
     "data": {
      "image/png": "[encoded data removed]",
      "text/plain": [
       "<Figure size 864x360 with 5 Axes>"
      ]
     },
     "metadata": {},
     "output_type": "display_data"
    }
   ],
   "source": [
    "# создаём полотно и делим его на четыре части\n",
    "fig = plt.figure(figsize=(12, 5))\n",
    "gs = mpl.gridspec.GridSpec(1, 5)\n",
    "ax1 = plt.subplot(gs[0, 0])\n",
    "ax2 = plt.subplot(gs[0, 1])\n",
    "ax3 = plt.subplot(gs[0, 2])\n",
    "ax4 = plt.subplot(gs[0, 3])\n",
    "ax5 = plt.subplot(gs[0, 4])\n",
    "\n",
    "axs = [ax1, ax2, ax3, ax4, ax5]\n",
    "\n",
    "cols_loop = list(DF.columns[15:20].values)\n",
    "for col_name in cols_loop :\n",
    "    i = cols_loop.index(col_name)\n",
    "    #sns.boxplot(x='Y', y=col_name, data=DF, ax=axs[i])\n",
    "    g = sns.barplot(x='Y', y=col_name, data=DF, ax=axs[i])\n",
    "    g.set_yscale(\"log\")\n",
    "    axs[i].set_ylabel(col_name)\n",
    "    axs[i].set_title(col_name)\n",
    "\n",
    "# корректируем расположение графиков на полотне\n",
    "gs.tight_layout(plt.gcf())\n",
    "plt.show()"
   ]
  },
  {
   "cell_type": "markdown",
   "id": "c4e9584f",
   "metadata": {
    "id": "c4e9584f"
   },
   "source": [
    "Только на графиках `PAY_0` и `PAY_2` можно наблюдать хорошее разделение по классам, остальные практически не различаются. Это говорит о том, классы по зависимой переменной `Y` плохо разделяются по всем объясняющим переменным.  "
   ]
  },
  {
   "cell_type": "markdown",
   "id": "bac7542b",
   "metadata": {
    "id": "bac7542b"
   },
   "source": [
    "## Корреляционный анализ   \n",
    "\n",
    "Теперь посмотрим на взаимодействие объясняющих переменных.  "
   ]
  },
  {
   "cell_type": "code",
   "execution_count": 255,
   "id": "11a7b0c4",
   "metadata": {
    "id": "11a7b0c4",
    "outputId": "f0bd9e93-be80-4c73-f18c-5238f83b8a7a"
   },
   "outputs": [
    {
     "data": {
      "image/png": "[encoded data removed]",
      "text/plain": [
       "<Figure size 720x576 with 2 Axes>"
      ]
     },
     "metadata": {},
     "output_type": "display_data"
    }
   ],
   "source": [
    "# рассчитываем корреляционную матрицу\n",
    "corr_mat = DF.drop('Y', axis=1).corr()\n",
    "col_names = DF.drop('Y', axis=1).columns\n",
    "\n",
    "# переключаем стиль оформления, чтобы убрать сетку с тепловой карты\n",
    "mpl.style.use('seaborn-white')\n",
    "\n",
    "# рисуем корреляционную матрицу\n",
    "f = plt.figure(figsize=(10, 8))\n",
    "plt.matshow(corr_mat, fignum=f.number, cmap='PiYG')\n",
    "# координаты для названий строк и столбцов\n",
    "tics_coords = np.arange(0, len(col_names))\n",
    "# рисуем подписи\n",
    "plt.xticks(tics_coords, col_names, fontsize=14, rotation=90)\n",
    "plt.yticks(tics_coords, col_names, fontsize=14)\n",
    "# настраиваем легенду справа от тепловой карты\n",
    "cb = plt.colorbar()\n",
    "cb.ax.tick_params(labelsize=14)\n",
    "cb.ax.tick_params(labelsize=14)\n",
    "plt.show()"
   ]
  },
  {
   "cell_type": "markdown",
   "id": "b47250c6",
   "metadata": {
    "id": "b47250c6"
   },
   "source": [
    "#### Вывод по тепловой карте\n",
    "\n",
    "Более тесные положительные связи прослеживаются между переменными `BILL_AMT1, BILL_AMT1, ..., BILL_AMT6`, чуть менее тесные положительные - `PAY_0, PAY_1, ..., PAY_6`. \n",
    "\n",
    "Также видно и тесные отрицательные связи между `SEX_1` и `SEX_2`, а также `MARRIAGE_1` и `MARRIAGE_2`."
   ]
  },
  {
   "cell_type": "code",
   "execution_count": 256,
   "id": "bf56e251",
   "metadata": {
    "id": "bf56e251",
    "outputId": "aef80782-5a44-4c13-9446-763dba9d6612"
   },
   "outputs": [
    {
     "name": "stderr",
     "output_type": "stream",
     "text": [
      "/Users/katherine.marakhova/opt/anaconda3/lib/python3.8/site-packages/pandas/core/arraylike.py:358: RuntimeWarning: invalid value encountered in sqrt\n",
      "  result = getattr(ufunc, method)(*inputs, **kwargs)\n"
     ]
    },
    {
     "data": {
      "text/html": [
       "<div>\n",
       "<style scoped>\n",
       "    .dataframe tbody tr th:only-of-type {\n",
       "        vertical-align: middle;\n",
       "    }\n",
       "\n",
       "    .dataframe tbody tr th {\n",
       "        vertical-align: top;\n",
       "    }\n",
       "\n",
       "    .dataframe thead th {\n",
       "        text-align: right;\n",
       "    }\n",
       "</style>\n",
       "<table border=\"1\" class=\"dataframe\">\n",
       "  <thead>\n",
       "    <tr style=\"text-align: right;\">\n",
       "      <th></th>\n",
       "      <th>Показатель_1</th>\n",
       "      <th>Показатель_2</th>\n",
       "      <th>Корреляция</th>\n",
       "      <th>P_значение</th>\n",
       "    </tr>\n",
       "  </thead>\n",
       "  <tbody>\n",
       "    <tr>\n",
       "      <th>525</th>\n",
       "      <td>MARRIAGE_1</td>\n",
       "      <td>MARRIAGE_2</td>\n",
       "      <td>-0.975374</td>\n",
       "      <td>0.0</td>\n",
       "    </tr>\n",
       "    <tr>\n",
       "      <th>483</th>\n",
       "      <td>EDUCATION_1</td>\n",
       "      <td>EDUCATION_2</td>\n",
       "      <td>-0.690309</td>\n",
       "      <td>0.0</td>\n",
       "    </tr>\n",
       "    <tr>\n",
       "      <th>61</th>\n",
       "      <td>AGE</td>\n",
       "      <td>MARRIAGE_2</td>\n",
       "      <td>-0.466652</td>\n",
       "      <td>0.0</td>\n",
       "    </tr>\n",
       "    <tr>\n",
       "      <th>492</th>\n",
       "      <td>EDUCATION_2</td>\n",
       "      <td>EDUCATION_3</td>\n",
       "      <td>-0.415212</td>\n",
       "      <td>0.0</td>\n",
       "    </tr>\n",
       "    <tr>\n",
       "      <th>484</th>\n",
       "      <td>EDUCATION_1</td>\n",
       "      <td>EDUCATION_3</td>\n",
       "      <td>-0.328761</td>\n",
       "      <td>0.0</td>\n",
       "    </tr>\n",
       "    <tr>\n",
       "      <th>...</th>\n",
       "      <td>...</td>\n",
       "      <td>...</td>\n",
       "      <td>...</td>\n",
       "      <td>...</td>\n",
       "    </tr>\n",
       "    <tr>\n",
       "      <th>275</th>\n",
       "      <td>BILL_AMT3</td>\n",
       "      <td>BILL_AMT4</td>\n",
       "      <td>0.920791</td>\n",
       "      <td>0.0</td>\n",
       "    </tr>\n",
       "    <tr>\n",
       "      <th>252</th>\n",
       "      <td>BILL_AMT2</td>\n",
       "      <td>BILL_AMT3</td>\n",
       "      <td>0.925152</td>\n",
       "      <td>0.0</td>\n",
       "    </tr>\n",
       "    <tr>\n",
       "      <th>297</th>\n",
       "      <td>BILL_AMT4</td>\n",
       "      <td>BILL_AMT5</td>\n",
       "      <td>0.938409</td>\n",
       "      <td>0.0</td>\n",
       "    </tr>\n",
       "    <tr>\n",
       "      <th>318</th>\n",
       "      <td>BILL_AMT5</td>\n",
       "      <td>BILL_AMT6</td>\n",
       "      <td>0.944524</td>\n",
       "      <td>0.0</td>\n",
       "    </tr>\n",
       "    <tr>\n",
       "      <th>228</th>\n",
       "      <td>BILL_AMT1</td>\n",
       "      <td>BILL_AMT2</td>\n",
       "      <td>0.951484</td>\n",
       "      <td>0.0</td>\n",
       "    </tr>\n",
       "  </tbody>\n",
       "</table>\n",
       "<p>527 rows × 4 columns</p>\n",
       "</div>"
      ],
      "text/plain": [
       "    Показатель_1 Показатель_2  Корреляция  P_значение\n",
       "525   MARRIAGE_1   MARRIAGE_2   -0.975374         0.0\n",
       "483  EDUCATION_1  EDUCATION_2   -0.690309         0.0\n",
       "61           AGE   MARRIAGE_2   -0.466652         0.0\n",
       "492  EDUCATION_2  EDUCATION_3   -0.415212         0.0\n",
       "484  EDUCATION_1  EDUCATION_3   -0.328761         0.0\n",
       "..           ...          ...         ...         ...\n",
       "275    BILL_AMT3    BILL_AMT4    0.920791         0.0\n",
       "252    BILL_AMT2    BILL_AMT3    0.925152         0.0\n",
       "297    BILL_AMT4    BILL_AMT5    0.938409         0.0\n",
       "318    BILL_AMT5    BILL_AMT6    0.944524         0.0\n",
       "228    BILL_AMT1    BILL_AMT2    0.951484         0.0\n",
       "\n",
       "[527 rows x 4 columns]"
      ]
     },
     "execution_count": 256,
     "metadata": {},
     "output_type": "execute_result"
    }
   ],
   "source": [
    "# делаем фрейм из корреляционной матрицы и стираем диагональные значения\n",
    "#  и нижний треугольник матрицы\n",
    "df = corr_mat\n",
    "df = df.where(np.triu(np.ones(df.shape), k=1).astype(bool))\n",
    "# меняем размерность с матрицы на таблицу: показатель 1, показатель 2,\n",
    "#  корреляция\n",
    "df = df.stack().reset_index()\n",
    "df.columns = ['Показатель_1', 'Показатель_2', 'Корреляция']\n",
    "# считаем двусторонние p-значения для проверки значимости\n",
    "t_stat = np.sqrt((len(DF.index) - 2) / (1 - df.Корреляция ** 2))\n",
    "df['P_значение'] = 2 * (1 - t.cdf(abs(t_stat), len(DF.index) - 2))\n",
    "# получили все корреляционные коэффициенты без 1 и без повторов\n",
    "#  выводим все значимые с сортировкой\n",
    "df.loc[df['P_значение'] < 0.05].sort_values('Корреляция')"
   ]
  },
  {
   "cell_type": "markdown",
   "id": "4697d946",
   "metadata": {
    "id": "4697d946"
   },
   "source": [
    "Как и было сказано выше, самая сильная обратная связь между `MARRIAGE_1` и `MARRIAGE_2`, а прямая между `BILL_AMT1` и `BILL_AMT2`."
   ]
  },
  {
   "cell_type": "markdown",
   "id": "d3a48810",
   "metadata": {
    "id": "d3a48810"
   },
   "source": [
    "# Частный метод наименьших квадратов (PLS)\n",
    "\n",
    "### Проведем стандартизацию переменных.  "
   ]
  },
  {
   "cell_type": "code",
   "execution_count": 257,
   "id": "688312d9",
   "metadata": {
    "id": "688312d9",
    "outputId": "ec5f7dca-b792-40f7-8986-10fa0d50ddce",
    "scrolled": true
   },
   "outputs": [
    {
     "name": "stdout",
     "output_type": "stream",
     "text": [
      "Столбец 0: среднее = -0.0   Станд. отклонение = 1.0\n",
      "Столбец 1: среднее = -0.0   Станд. отклонение = 1.0\n",
      "Столбец 2: среднее = -0.0   Станд. отклонение = 1.0\n",
      "Столбец 3: среднее = 0.0   Станд. отклонение = 1.0\n",
      "Столбец 4: среднее = -0.0   Станд. отклонение = 1.0\n",
      "Столбец 5: среднее = 0.0   Станд. отклонение = 1.0\n",
      "Столбец 6: среднее = -0.0   Станд. отклонение = 1.0\n",
      "Столбец 7: среднее = 0.0   Станд. отклонение = 1.0\n",
      "Столбец 8: среднее = 0.0   Станд. отклонение = 1.0\n",
      "Столбец 9: среднее = -0.0   Станд. отклонение = 1.0\n",
      "Столбец 10: среднее = 0.0   Станд. отклонение = 1.0\n",
      "Столбец 11: среднее = 0.0   Станд. отклонение = 1.0\n",
      "Столбец 12: среднее = -0.0   Станд. отклонение = 1.0\n",
      "Столбец 13: среднее = 0.0   Станд. отклонение = 1.0\n",
      "Столбец 14: среднее = 0.0   Станд. отклонение = 1.0\n",
      "Столбец 15: среднее = 0.0   Станд. отклонение = 1.0\n",
      "Столбец 16: среднее = -0.0   Станд. отклонение = 1.0\n",
      "Столбец 17: среднее = 0.0   Станд. отклонение = 1.0\n",
      "Столбец 18: среднее = 0.0   Станд. отклонение = 1.0\n",
      "Столбец 19: среднее = -0.0   Станд. отклонение = 1.0\n",
      "Столбец 20: среднее = -0.0   Станд. отклонение = 1.0\n",
      "Столбец 21: среднее = -0.0   Станд. отклонение = 1.0\n",
      "Столбец 22: среднее = 0.0   Станд. отклонение = 1.0\n"
     ]
    }
   ],
   "source": [
    "# стандартизация\n",
    "sc = StandardScaler()\n",
    "X_train_std = sc.fit_transform(DF.iloc[:, :23].values)\n",
    "\n",
    "# проверяем средние и стандартные отклонения после стандартизации\n",
    "for i_col in range(X_train_std.shape[1]) :\n",
    "    print('Столбец ', i_col, ': среднее = ',\n",
    "          np.round(np.mean(X_train_std[:, i_col]), 2),\n",
    "         '   Станд. отклонение = ', \n",
    "          np.round(np.std(X_train_std[:, i_col]), 2), sep='')"
   ]
  },
  {
   "cell_type": "markdown",
   "id": "8c555295",
   "metadata": {
    "id": "8c555295"
   },
   "source": [
    "#### Посмотрим, как работает метод на всех наблюдениях обучающего набора.  "
   ]
  },
  {
   "cell_type": "code",
   "execution_count": 258,
   "id": "0f3b638f",
   "metadata": {
    "id": "0f3b638f",
    "outputId": "733d4b78-aff8-4812-8d34-98f6ea01361d"
   },
   "outputs": [
    {
     "name": "stdout",
     "output_type": "stream",
     "text": [
      "Доли объяснённой дисперсии по компонентам в PLS:\n",
      " [0.108 0.091 0.206 0.035 0.066 0.033 0.024 0.027 0.034 0.021 0.014 0.008\n",
      " 0.018 0.009 0.018 0.007 0.019 0.008 0.003 0.017 0.01  0.001 0.   ] \n",
      "Общая сумма долей: 0.775\n"
     ]
    }
   ],
   "source": [
    "# функция для оценки модели, берём все компоненты, по числу столбцов X\n",
    "pls = PLSRegression(n_components=23)\n",
    "# значения зависимой переменной превращаем в фиктивные по классам\n",
    "Y_train = pd.get_dummies(DF.Y.astype(str))\n",
    "# оцениваем\n",
    "pls.fit(X_train_std, Y_train)\n",
    "\n",
    "# считаем долю объяснённой дисперсии\n",
    "frac_var_expl = np.var(pls.x_scores_, axis=0) / np.sum(np.var(X_train_std, axis=0))\n",
    "print('Доли объяснённой дисперсии по компонентам в PLS:\\n',\n",
    "     np.around(frac_var_expl, 3),\n",
    "     '\\nОбщая сумма долей:', np.around(sum(frac_var_expl), 3))"
   ]
  },
  {
   "cell_type": "markdown",
   "id": "d5753d89",
   "metadata": {
    "id": "d5753d89"
   },
   "source": [
    "Из-за того, что при вычислении компонент метдом PLS мы учитываем корреляцию с $Y$, компоненты, во-первых, не ортогональны, а во-вторых сумма объяснённых долей дисперсии уже не равняется 1.  "
   ]
  },
  {
   "cell_type": "code",
   "execution_count": 259,
   "id": "f4e6c748",
   "metadata": {
    "id": "f4e6c748",
    "outputId": "23e0accc-3b30-48ca-f9ad-f9d35dde8a44"
   },
   "outputs": [
    {
     "data": {
      "text/html": [
       "<div>\n",
       "<style scoped>\n",
       "    .dataframe tbody tr th:only-of-type {\n",
       "        vertical-align: middle;\n",
       "    }\n",
       "\n",
       "    .dataframe tbody tr th {\n",
       "        vertical-align: top;\n",
       "    }\n",
       "\n",
       "    .dataframe thead th {\n",
       "        text-align: right;\n",
       "    }\n",
       "</style>\n",
       "<table border=\"1\" class=\"dataframe\">\n",
       "  <thead>\n",
       "    <tr style=\"text-align: right;\">\n",
       "      <th></th>\n",
       "      <th>0</th>\n",
       "      <th>1</th>\n",
       "    </tr>\n",
       "  </thead>\n",
       "  <tbody>\n",
       "    <tr>\n",
       "      <th>0</th>\n",
       "      <td>0.907764</td>\n",
       "      <td>0.092236</td>\n",
       "    </tr>\n",
       "    <tr>\n",
       "      <th>1</th>\n",
       "      <td>1.208476</td>\n",
       "      <td>-0.208476</td>\n",
       "    </tr>\n",
       "    <tr>\n",
       "      <th>2</th>\n",
       "      <td>1.153143</td>\n",
       "      <td>-0.153143</td>\n",
       "    </tr>\n",
       "    <tr>\n",
       "      <th>3</th>\n",
       "      <td>1.045327</td>\n",
       "      <td>-0.045327</td>\n",
       "    </tr>\n",
       "    <tr>\n",
       "      <th>4</th>\n",
       "      <td>0.219065</td>\n",
       "      <td>0.780935</td>\n",
       "    </tr>\n",
       "    <tr>\n",
       "      <th>...</th>\n",
       "      <td>...</td>\n",
       "      <td>...</td>\n",
       "    </tr>\n",
       "    <tr>\n",
       "      <th>25495</th>\n",
       "      <td>-0.062621</td>\n",
       "      <td>1.062621</td>\n",
       "    </tr>\n",
       "    <tr>\n",
       "      <th>25496</th>\n",
       "      <td>-0.068927</td>\n",
       "      <td>1.068927</td>\n",
       "    </tr>\n",
       "    <tr>\n",
       "      <th>25497</th>\n",
       "      <td>0.907849</td>\n",
       "      <td>0.092151</td>\n",
       "    </tr>\n",
       "    <tr>\n",
       "      <th>25498</th>\n",
       "      <td>1.002778</td>\n",
       "      <td>-0.002778</td>\n",
       "    </tr>\n",
       "    <tr>\n",
       "      <th>25499</th>\n",
       "      <td>1.087338</td>\n",
       "      <td>-0.087338</td>\n",
       "    </tr>\n",
       "  </tbody>\n",
       "</table>\n",
       "<p>25500 rows × 2 columns</p>\n",
       "</div>"
      ],
      "text/plain": [
       "              0         1\n",
       "0      0.907764  0.092236\n",
       "1      1.208476 -0.208476\n",
       "2      1.153143 -0.153143\n",
       "3      1.045327 -0.045327\n",
       "4      0.219065  0.780935\n",
       "...         ...       ...\n",
       "25495 -0.062621  1.062621\n",
       "25496 -0.068927  1.068927\n",
       "25497  0.907849  0.092151\n",
       "25498  1.002778 -0.002778\n",
       "25499  1.087338 -0.087338\n",
       "\n",
       "[25500 rows x 2 columns]"
      ]
     },
     "execution_count": 259,
     "metadata": {},
     "output_type": "execute_result"
    }
   ],
   "source": [
    "# сокращаем пространство компонент до 2\n",
    "pls = PLSRegression(n_components=2)\n",
    "# перестраиваем модель\n",
    "pls.fit(X_train_std, Y_train)\n",
    "# пересчитываем X\n",
    "X_train_pls = pls.transform(X_train_std)\n",
    "# предсказываем принадлежности классов для обучающего набора\n",
    "Y_train_pred = pls.predict(X_train_std)\n",
    "pd.DataFrame(Y_train_pred)"
   ]
  },
  {
   "cell_type": "code",
   "execution_count": 260,
   "id": "2ee36387",
   "metadata": {
    "id": "2ee36387",
    "outputId": "6d0c09ed-b300-4cba-8096-4948fcd5713d"
   },
   "outputs": [
    {
     "data": {
      "text/plain": [
       "dict_items([(0, 19966), (1, 5534)])"
      ]
     },
     "execution_count": 260,
     "metadata": {},
     "output_type": "execute_result"
    }
   ],
   "source": [
    "# вычисляем классы\n",
    "Y_train_hat = list()\n",
    "for y_i in Y_train_pred : \n",
    "    Y_train_hat.append([i for i in range(len(y_i)) if y_i[i] == max(y_i)][0])\n",
    "# Y_train_hat\n",
    "# сколько наблюдений попали в каждый класс по модели\n",
    "Counter(Y_train_hat).items()"
   ]
  },
  {
   "cell_type": "markdown",
   "id": "3cd7c05e",
   "metadata": {
    "id": "3cd7c05e"
   },
   "source": [
    "Рисуем классы на графике в координатах 2 главных компонент по PLS.  "
   ]
  },
  {
   "cell_type": "code",
   "execution_count": 261,
   "id": "cf167983",
   "metadata": {
    "id": "cf167983",
    "outputId": "20aa9ed0-8d97-45ae-d170-ed7f6c3058bc"
   },
   "outputs": [
    {
     "data": {
      "image/png": "[encoded data removed]",
      "text/plain": [
       "<Figure size 432x288 with 1 Axes>"
      ]
     },
     "metadata": {},
     "output_type": "display_data"
    }
   ],
   "source": [
    "# график классов в пространстве ГК\n",
    "plt.scatter(X_train_pls[DF['Y'] == 0][:, 0], \n",
    "            X_train_pls[DF['Y'] == 0][:, 1], label='Y: 0')\n",
    "plt.scatter(X_train_pls[DF['Y'] == 1][:, 0], \n",
    "            X_train_pls[DF['Y'] == 1][:, 1], label='Y: 1')\n",
    "\n",
    "plt.xlabel('ГК 1 по PLS')\n",
    "plt.ylabel('ГК 2 по PLS')\n",
    "plt.legend()\n",
    "plt.show()"
   ]
  },
  {
   "cell_type": "markdown",
   "id": "1360f1b8",
   "metadata": {
    "id": "1360f1b8"
   },
   "source": [
    "Видно, что в координатах двух компонент, рассчитанных методом частных наименьших квадратов, классы оказываются достаточно хорошо разделимыми.  \n",
    "Теперь оценим точность модели с перекрёстной проверкой.  "
   ]
  },
  {
   "cell_type": "code",
   "execution_count": 262,
   "id": "2a7f9f6f",
   "metadata": {
    "id": "2a7f9f6f",
    "outputId": "06a7b547-6b6f-4b54-fcf6-b99ddb94e21e"
   },
   "outputs": [
    {
     "name": "stdout",
     "output_type": "stream",
     "text": [
      "Модель logit_PLS, перекрёстная проверка по 10 блокам\n",
      "Acc = 1.0\n"
     ]
    }
   ],
   "source": [
    "# функция разбиения на блоки для перекрёстной проверки\n",
    "#  для чистоты эксперимента возьмём другое ядро генератора случайных чисел\n",
    "kf_10 = KFold(n_splits=10, random_state=my_seed+1, shuffle=True)\n",
    "# считаем точность модели (Acc) с перекрёстной проверкой по блокам\n",
    "#  функция cross_val_score не сработает, т.к. у нас мультиклассовая\n",
    "#  классификация, поэтому делаем вручную\n",
    "# значения Y как метки классов\n",
    "Y_train = DF.Y.values\n",
    "# значения Y как фиктивные переменные\n",
    "Y_train_dummy = pd.get_dummies(Y_train.astype(str))\n",
    "# модель внутри блока\n",
    "pls_cv = PLSRegression(n_components=2)\n",
    "# для записи Acc по блокам\n",
    "acc_blocks = list()\n",
    "# цикл по блокам\n",
    "for train_index, test_index in kf_10.split(X_train_std, DF.Y.values) : \n",
    "    # данные для модели внутри блока\n",
    "    X_i_train = X_train_std[train_index]\n",
    "    Y_i_train = Y_train_dummy.iloc[train_index, :]\n",
    "\n",
    "    # данные для прогноза вне блока\n",
    "    X_i_test = X_train_std[test_index]\n",
    "    Y_i_test = Y_train[test_index]\n",
    "\n",
    "    # оцениваем модель на блоке\n",
    "    pls_cv.fit(X_i_train, Y_i_train)\n",
    "    # делаем прогноз y вне блока\n",
    "    Y_pred = pls.predict(X_i_test)\n",
    "    Y_hat = list()\n",
    "    for y_i in Y_pred : \n",
    "        Y_hat.append([i for i in range(len(y_i)) if y_i[i] == max(y_i)][0])\n",
    "    # считаем точность\n",
    "    acc = accuracy_score(Y_i_test, Y_hat)\n",
    "    acc_blocks.append(acc)\n",
    "\n",
    "score = list()\n",
    "score.append(np.around(np.mean(acc_blocks), 3))\n",
    "score_models = list()\n",
    "score_models.append('logit_PLS')\n",
    "print('Модель ', score_models[0], ', перекрёстная проверка по 10 блокам',\n",
    "      '\\nAcc = ', np.around(score[0], 2), sep='')\n",
    "\n"
   ]
  },
  {
   "cell_type": "markdown",
   "id": "5d46e811",
   "metadata": {
    "id": "5d46e811"
   },
   "source": [
    "# Методы сжатия  \n",
    "\n",
    "## Ридж-регрессия  "
   ]
  },
  {
   "cell_type": "markdown",
   "id": "eb01d7f4",
   "metadata": {
    "id": "eb01d7f4"
   },
   "source": [
    "Функция `LogisticRegression()` умеет работать с мультиклассовой классификацией, используя при оценке параметров подход **один класс против остальных**. Построим ридж на наших данных.  "
   ]
  },
  {
   "cell_type": "code",
   "execution_count": 263,
   "id": "5b717e72",
   "metadata": {
    "id": "5b717e72"
   },
   "outputs": [
    {
     "name": "stdout",
     "output_type": "stream",
     "text": [
      "Константы моделей для классов:\n",
      " [-4.534] \n",
      "Коэффициенты моделей для классов:\n",
      " [[-2.500e-02  3.100e-02  1.930e-01  5.000e-02  2.800e-02  1.300e-02\n",
      "   1.500e-02  1.000e-02 -3.900e-02 -8.000e-03 -7.000e-03 -1.000e-02\n",
      "  -3.000e-03  1.200e-02 -1.900e-02  0.000e+00 -3.000e-03 -9.000e-03\n",
      "  -1.400e-02 -1.000e-02  6.608e+00  8.000e-03 -8.000e-03]]\n"
     ]
    }
   ],
   "source": [
    "# функция для построения модели\n",
    "logit_ridge = LogisticRegression(penalty='l2', solver='liblinear')\n",
    "# оцениваем параметры\n",
    "logit_ridge.fit(X_train_std, Y_train)\n",
    "# выводим параметры\n",
    "print('Константы моделей для классов:\\n', np.around(logit_ridge.intercept_, 3),\n",
    "     '\\nКоэффициенты моделей для классов:\\n', np.around(logit_ridge.coef_, 3))"
   ]
  },
  {
   "cell_type": "code",
   "execution_count": 264,
   "id": "4bef2e56",
   "metadata": {},
   "outputs": [
    {
     "data": {
      "text/plain": [
       "array([-4.53412735])"
      ]
     },
     "execution_count": 264,
     "metadata": {},
     "output_type": "execute_result"
    }
   ],
   "source": [
    "logit_ridge.intercept_"
   ]
  },
  {
   "cell_type": "markdown",
   "id": "89338159",
   "metadata": {
    "id": "89338159"
   },
   "source": [
    "Подбираем гиперпараметр регуляризации $\\lambda$ с помощью перекрёстной проверки. В функции \n",
    "`LogisticRegression()` есть аргумент $C$ – это инверсия гиперпараметра $\\lambda$.   "
   ]
  },
  {
   "cell_type": "code",
   "execution_count": 265,
   "id": "f92b6e6d",
   "metadata": {
    "id": "f92b6e6d"
   },
   "outputs": [
    {
     "data": {
      "text/plain": [
       "array([0.00077426])"
      ]
     },
     "execution_count": 265,
     "metadata": {},
     "output_type": "execute_result"
    }
   ],
   "source": [
    "# поиск оптимального значения C:\n",
    "#  подбираем C по наибольшей точности с перекрёстной проверкой\n",
    "ridge_cv = LogisticRegressionCV(cv=10, random_state=my_seed+2, \n",
    "                                penalty='l2', solver='liblinear')\n",
    "ridge_cv.fit(X_train_std, Y_train)\n",
    "# значения параметра C (инверсия лямбды), которые дают наилучшую\n",
    "#  точность для каждого класса\n",
    "ridge_cv.C_"
   ]
  },
  {
   "cell_type": "code",
   "execution_count": 266,
   "id": "5c84f917",
   "metadata": {
    "id": "5c84f917"
   },
   "outputs": [
    {
     "name": "stdout",
     "output_type": "stream",
     "text": [
      "Модель logit_ridge, перекрёстная проверка по 10 блокам\n",
      "Acc = 1.0\n"
     ]
    }
   ],
   "source": [
    "# сохраняем и выводим Acc для модели\n",
    "score.append(np.around(ridge_cv.score(X_train_std, Y_train), 3))\n",
    "score_models.append('logit_ridge')\n",
    "print('Модель ', score_models[1], ', перекрёстная проверка по 10 блокам',\n",
    "      '\\nAcc = ', score[1], sep='')"
   ]
  },
  {
   "cell_type": "markdown",
   "id": "d83226cc",
   "metadata": {
    "id": "d83226cc"
   },
   "source": [
    "Изобразим изменение коэффициентов ридж-регрессии на графике и сделаем отсечку на уровне оптимального параметра $C$.  "
   ]
  },
  {
   "cell_type": "code",
   "execution_count": 267,
   "id": "083e40f7",
   "metadata": {
    "id": "083e40f7",
    "outputId": "98fc6cf3-6511-4f45-c719-73a3de67c9fd",
    "scrolled": true
   },
   "outputs": [
    {
     "data": {
      "image/png": "[encoded data removed]",
      "text/plain": [
       "<Figure size 432x288 with 1 Axes>"
      ]
     },
     "metadata": {},
     "output_type": "display_data"
    }
   ],
   "source": [
    "# график динамики коэффициентов в ридж-регрессии    \n",
    "#  модель для класса 0\n",
    "plot_coeffs_traces(X_train_std, Y_train, 0, 'l2', ridge_cv.C_, DF.columns)"
   ]
  },
  {
   "cell_type": "markdown",
   "id": "041010d5",
   "metadata": {
    "id": "041010d5"
   },
   "source": [
    "# Прогноз на отложенные наблюдения по лучшей модели\n",
    "\n",
    "Ещё раз посмотрим на точность построенных моделей.  "
   ]
  },
  {
   "cell_type": "code",
   "execution_count": 268,
   "id": "13f506f8",
   "metadata": {
    "id": "13f506f8",
    "outputId": "413ffc9d-1329-402d-bea4-166e3084f156"
   },
   "outputs": [
    {
     "data": {
      "text/html": [
       "<div>\n",
       "<style scoped>\n",
       "    .dataframe tbody tr th:only-of-type {\n",
       "        vertical-align: middle;\n",
       "    }\n",
       "\n",
       "    .dataframe tbody tr th {\n",
       "        vertical-align: top;\n",
       "    }\n",
       "\n",
       "    .dataframe thead th {\n",
       "        text-align: right;\n",
       "    }\n",
       "</style>\n",
       "<table border=\"1\" class=\"dataframe\">\n",
       "  <thead>\n",
       "    <tr style=\"text-align: right;\">\n",
       "      <th></th>\n",
       "      <th>Модель</th>\n",
       "      <th>Acc</th>\n",
       "    </tr>\n",
       "  </thead>\n",
       "  <tbody>\n",
       "    <tr>\n",
       "      <th>0</th>\n",
       "      <td>logit_PLS</td>\n",
       "      <td>0.998</td>\n",
       "    </tr>\n",
       "    <tr>\n",
       "      <th>1</th>\n",
       "      <td>logit_ridge</td>\n",
       "      <td>1.000</td>\n",
       "    </tr>\n",
       "  </tbody>\n",
       "</table>\n",
       "</div>"
      ],
      "text/plain": [
       "        Модель    Acc\n",
       "0    logit_PLS  0.998\n",
       "1  logit_ridge  1.000"
      ]
     },
     "execution_count": 268,
     "metadata": {},
     "output_type": "execute_result"
    }
   ],
   "source": [
    "# сводка по точности моделей\n",
    "pd.DataFrame({'Модель' : score_models, 'Acc' : score})"
   ]
  },
  {
   "cell_type": "markdown",
   "id": "99c7c905",
   "metadata": {
    "id": "99c7c905"
   },
   "source": [
    "Все модели показывают высокую точность по показателю $Acc$, при этом самой точной оказывается ридж-регрессия. Сделаем прогноз на отложенные наблюдения.   "
   ]
  },
  {
   "cell_type": "code",
   "execution_count": 269,
   "id": "6f19fd52",
   "metadata": {
    "id": "6f19fd52",
    "outputId": "0c201b39-50f3-4104-ca53-acc7ff86e445"
   },
   "outputs": [
    {
     "name": "stdout",
     "output_type": "stream",
     "text": [
      "              precision    recall  f1-score   support\n",
      "\n",
      "           0       1.00      1.00      1.00      3454\n",
      "           1       1.00      1.00      1.00      1046\n",
      "\n",
      "    accuracy                           1.00      4500\n",
      "   macro avg       1.00      1.00      1.00      4500\n",
      "weighted avg       1.00      1.00      1.00      4500\n",
      "\n"
     ]
    }
   ],
   "source": [
    "# формируем объекты с данными отложенной выборки\n",
    "X_pred_std = sc.fit_transform(DF_predict.iloc[:, :23].values)\n",
    "Y_pred = DF_predict.Y\n",
    "Y_hat = logit_ridge.predict(X_pred_std)\n",
    "# отчёт по точности на отложенных наблюдениях\n",
    "print(classification_report(Y_pred, Y_hat))"
   ]
  },
  {
   "cell_type": "markdown",
   "id": "15e4aa0a",
   "metadata": {
    "id": "15e4aa0a"
   },
   "source": [
    "Таким образом, методом логистической регрессии со сжатием коэффициенты с L2-регуляризацией мы получили модель классификации для двух видов дефолта."
   ]
  },
  {
   "cell_type": "markdown",
   "id": "af39298f",
   "metadata": {
    "id": "af39298f"
   },
   "source": [
    "# Источники \n",
    "\n",
    "1. *Рашка С.* Python и машинное обучение: крайне необходимое пособие по новейшей предсказательной аналитике, обязательное для более глубокого понимания методологии машинного обучения / пер. с англ. А.В. Логунова. – М.: ДМК Пресс, 2017. – 418 с.: ил.  \n",
    "1. Репозиторий с кодом к книге *Рашка С.* Python и машинное обучение / github.com. URL: <https://github.com/rasbt/python-machine-learning-book-3rd-edition>  \n",
    "1. *Xueting Bai*, *Lingbo Wang*, *Hanning Li* Identification of red wine categories based on physicochemical properties / 2019 5th International Conference on Education Technology, Management and Humanities Science (ETMHS 2019). URL: <https://webofproceedings.org/proceedings_series/ESSP/ETMHS%202019/ETMHS19309.pdf>  \n",
    "\n"
   ]
  }
 ],
 "metadata": {
  "colab": {
   "collapsed_sections": [
    "8fe7bbef",
    "bac7542b",
    "b47250c6",
    "8c555295"
   ],
   "name": "Lab_04_ML_Marakhova.ipynb",
   "provenance": []
  },
  "kernelspec": {
   "display_name": "Python 3",
   "language": "python",
   "name": "python3"
  },
  "language_info": {
   "codemirror_mode": {
    "name": "ipython",
    "version": 3
   },
   "file_extension": ".py",
   "mimetype": "text/x-python",
   "name": "python",
   "nbconvert_exporter": "python",
   "pygments_lexer": "ipython3",
   "version": "3.8.8"
  }
 },
 "nbformat": 4,
 "nbformat_minor": 5
}
