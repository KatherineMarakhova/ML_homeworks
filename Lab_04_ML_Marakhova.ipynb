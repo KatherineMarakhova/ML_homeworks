{
 "cells": [
  {
   "cell_type": "markdown",
   "id": "a1aef29b",
   "metadata": {},
   "source": [
    "`Дисциплина: Методы и технологии машинного обучения`   \n",
    "`Уровень подготовки: бакалавриат`   \n",
    "`Направление подготовки: 01.03.02 Прикладная математика и информатика`   \n",
    "`Семестр: осень 2021/2022`   \n",
    "\n",
    "\n",
    "\n",
    "\n",
    "# Лабораторная работа №4: Методы снижения размерности. Регуляризация логистической регрессии. \n",
    "### Работу выполнила студентка ПМИ3-1 Марахова Екатерина, вариант №13.\n",
    "\n",
    "\n",
    "\n",
    "\n",
    "В практических примерах ниже показано:   \n",
    "\n",
    "* как снижать размерность пространства признаков методами главных компонент (PCR), частных наименьшах квадратов (PLS)  \n",
    "* как строить логистическую регрессию с регуляризацией параметров (методы ридж и лассо) \n",
    "\n",
    "Точность всех моделей оценивается методом перекрёстной проверки по 10 блокам.  \n",
    "\n",
    "*Модели*: множественная линейная регрессия \n",
    "\n",
    "*Данные*: `default_of_credit_card_clients` (источник: [репозиторий](https://github.com/aksyuk/MTML/blob/main/Labs/data/default_of_credit_card_clients.csv))\n",
    "\n",
    "*Объясняющие переменные*: все, кроме Y\n",
    "\n",
    "*Метод снижения размерности*: регрессия на главные компоненты(PCR)\n",
    "\n",
    "*Метод регуляризации*: ридж-регрессия\n"
   ]
  },
  {
   "cell_type": "markdown",
   "id": "61b9ab5d",
   "metadata": {},
   "source": [
    "# Ход работы\n",
    "\n",
    "\n",
    "## Загружаем пакеты"
   ]
  },
  {
   "cell_type": "code",
   "execution_count": 312,
   "id": "c8fa189c",
   "metadata": {},
   "outputs": [],
   "source": [
    "# загрузка пакетов: инструменты --------------------------------------------\n",
    "#  работа с массивами\n",
    "import numpy as np\n",
    "#  фреймы данных\n",
    "import pandas as pd\n",
    "#  распределение Стьюдента для проверки значимости\n",
    "from scipy.stats import t\n",
    "# подсчёт частот внутри массива\n",
    "from collections import Counter\n",
    "#  графики\n",
    "import matplotlib as mpl\n",
    "#  стили и шаблоны графиков на основе matplotlib\n",
    "import seaborn as sns\n",
    "\n",
    "# загрузка пакетов: данные -------------------------------------------------\n",
    "from sklearn import datasets\n",
    "\n",
    "# загрузка пакетов: модели -------------------------------------------------\n",
    "#  стандартизация показателей\n",
    "from sklearn.preprocessing import StandardScaler\n",
    "#  метод главных компонент\n",
    "from sklearn.decomposition import PCA\n",
    "# метод частных наименьших квадратов\n",
    "from sklearn.cross_decomposition import PLSRegression\n",
    "#  логистическая регрессия (ММП)\n",
    "from sklearn.linear_model import LogisticRegression, LogisticRegressionCV\n",
    "#  перекрёстная проверка по k блокам\n",
    "from sklearn.model_selection import KFold, cross_val_score\n",
    "#  расчёт Acc и сводка по точности классификации\n",
    "from sklearn.metrics import accuracy_score, classification_report"
   ]
  },
  {
   "cell_type": "code",
   "execution_count": 313,
   "id": "43a4a48e",
   "metadata": {},
   "outputs": [],
   "source": [
    "# константы\n",
    "#  ядро для генератора случайных чисел\n",
    "my_seed = 13\n",
    "#  создаём псевдоним для короткого обращения к графикам\n",
    "plt = mpl.pyplot\n",
    "# настройка стиля и отображения графиков\n",
    "#  примеры стилей и шаблонов графиков: \n",
    "#  https://raw.githubusercontent.com/aksyuk/MTML/main/Labs/data/default_of_credit_card_clients.csv\n",
    "mpl.style.use('seaborn-whitegrid')\n",
    "sns.set_palette(\"Set2\")\n",
    "# раскомментируйте следующую строку, чтобы посмотреть палитру\n",
    "# sns.color_palette(\"Set2\")"
   ]
  },
  {
   "cell_type": "code",
   "execution_count": 314,
   "id": "29d97f61",
   "metadata": {},
   "outputs": [],
   "source": [
    "# функция, которая строит график сжатия коэффициентов в ридж и лассо\n",
    "#  из репозитория к книге С.Рашки Python и машинное обучение,\n",
    "#  слегка переработанная\n",
    "def plot_coeffs_traces (X, y, class_number, penalty_name, C_opt, col_names,\n",
    "                        C_min_pow=-4, C_max_pow=3.) :\n",
    "    fig = plt.figure()\n",
    "    ax = plt.subplot(111)    \n",
    "    \n",
    "    # палитра\n",
    "    colors = sns.color_palette(\"Spectral\", len(col_names)-1)\n",
    "    \n",
    "    weights, params = [], []\n",
    "    for c in np.arange(C_min_pow, C_max_pow+1):\n",
    "        lr = LogisticRegression(penalty=penalty_name, \n",
    "                                C=10.**c, solver='liblinear', \n",
    "                                multi_class='ovr', random_state=my_seed)\n",
    "        lr.fit(X, y)\n",
    "        weights.append(lr.coef_[class_number])\n",
    "        params.append(10**c)\n",
    "\n",
    "    weights = np.array(weights)\n",
    "\n",
    "    for column, color in zip(range(weights.shape[1]), colors):\n",
    "        plt.plot(params, weights[:, column],\n",
    "                 label=col_names[column],\n",
    "                 color=color)\n",
    "\n",
    "    # отсечки по оптимальным C\n",
    "    plt.axvline(x=C_opt[class_number], color='magenta', \n",
    "                linestyle='--', linewidth=1)\n",
    "\n",
    "    plt.axhline(0, color='black', linestyle='--', linewidth=1)\n",
    "    plt.xlim([10**(C_min_pow), 10**C_max_pow])\n",
    "    plt.ylabel('weight coefficient')\n",
    "    plt.xlabel('C')\n",
    "    plt.xscale('log')\n",
    "    plt.legend(loc='upper left')\n",
    "    ax.legend(loc='upper center', \n",
    "              bbox_to_anchor=(1.38, 1.03),\n",
    "              ncol=1, fancybox=True)\n",
    "    plt.show()"
   ]
  },
  {
   "cell_type": "markdown",
   "id": "87618f1b",
   "metadata": {},
   "source": [
    "## Загружаем данные\n",
    "\n",
    "Данные по кредитам 30000 клиентов банков Тайваня (статистика 2005 года). \n",
    "\n",
    "`Задача`: спрогнозировать дефолт платежа в следущем месяце по статистике за 6 предыдущих месяцев и по общим сведениям о клиенте. \n",
    "\n",
    "`Источник данных`: статья Yeh, I. C., & Lien, C. H. The comparisons of data mining techniques for the predictive accuracy of probability of default of credit card clients. Expert Systems with Applications, 36(2), 2473-2480. (Набор данных был загружен из репозитория [UCI](https://archive.ics.uci.edu/ml/datasets/default+of+credit+card+clients)).\n",
    "\n",
    "### Список столбцов файла: \n",
    "* `LIMIT_BAL` – размер выданного кредита (новых тайваньских долларов);  \n",
    "  \n",
    "  \n",
    "* `SEX` – пол:  \n",
    "1 = мужской,   \n",
    "2 = женский;   \n",
    "\n",
    "  \n",
    "* `EDUCATION` – образование:  \n",
    "1 = аспирантура,   \n",
    "2 = университет,   \n",
    "3 = старшая школа,   \n",
    "4 = другое;  \n",
    "  \n",
    "  \n",
    "* `MARRIAGE` – семейное положение:   \n",
    "1 = женат/замужем,   \n",
    "2 = одинок,   \n",
    "3 = другое;  \n",
    "  \n",
    "  \n",
    "* `AGE` – возраст, лет;  \n",
    "  \n",
    "  \n",
    "* `PAY_0, PAY_2, ..., PAY_6` – статус последних ежемесячных платежей, с сентября (`PAY_0`) по апрель (`PAY_6`) 2005 года:   \n",
    "\\-1 = платёж внесён вовремя,   \n",
    "1 = платёж внесён с опозданием на 1 месяц;   \n",
    "2 = с опозданием на 2 месяца,   \n",
    "и т.д.,   \n",
    "9 = с опозданием на 9 месяцев и более;  \n",
    "  \n",
    "  \n",
    "* `BILL_AMT1, ..., BILL_AMT6` – размер последних ежемесячных платежей (новых тайваньских долларов), с сентября (`BILL_AMT1`) по апрель (`BILL_AMT6`) 2005 года;  \n",
    "  \n",
    "  \n",
    "* `PAY_AMT1, ..., PAY_AMT6` – размер ежемесячных платежей в предыдущем месяце (новых тайваньских долларов), с сентября (`PAY_AMT1` за август) по апрель (`PAY_AMT6` за март) 2005 года;  \n",
    "  \n",
    "  \n",
    "* `Y` – целевая переменная: дефолт в следующем месяце (1 – да, 0 – нет).\n",
    "\n",
    "\n",
    "Далее загружаем данные во фрейм,  и выясняем их размерность.  "
   ]
  },
  {
   "cell_type": "code",
   "execution_count": 315,
   "id": "a7e42f2c",
   "metadata": {},
   "outputs": [
    {
     "name": "stdout",
     "output_type": "stream",
     "text": [
      "Число строк и столбцов в наборе данных:\n",
      " (30000, 24)\n"
     ]
    }
   ],
   "source": [
    "# загружаем таблицу и превращаем её во фрейм\n",
    "fileURL = 'https://raw.githubusercontent.com/aksyuk/MTML/main/Labs/data/default_of_credit_card_clients.csv'\n",
    "DF_all = pd.read_csv(fileURL)\n",
    "\n",
    "# выясняем размерность фрейма\n",
    "print('Число строк и столбцов в наборе данных:\\n', DF_all.shape)"
   ]
  },
  {
   "cell_type": "markdown",
   "id": "5ce7ffd1",
   "metadata": {},
   "source": [
    "Отложим 15% наблюдений для прогноза.  "
   ]
  },
  {
   "cell_type": "code",
   "execution_count": 316,
   "id": "13f9300b",
   "metadata": {},
   "outputs": [],
   "source": [
    "# наблюдения для моделирования\n",
    "DF = DF_all.sample(frac=0.85, random_state=my_seed)\n",
    "# отложенные наблюдения\n",
    "DF_predict = DF_all.drop(DF.index)"
   ]
  },
  {
   "cell_type": "code",
   "execution_count": 317,
   "id": "2c2eedc8",
   "metadata": {},
   "outputs": [
    {
     "data": {
      "text/html": [
       "<div>\n",
       "<style scoped>\n",
       "    .dataframe tbody tr th:only-of-type {\n",
       "        vertical-align: middle;\n",
       "    }\n",
       "\n",
       "    .dataframe tbody tr th {\n",
       "        vertical-align: top;\n",
       "    }\n",
       "\n",
       "    .dataframe thead th {\n",
       "        text-align: right;\n",
       "    }\n",
       "</style>\n",
       "<table border=\"1\" class=\"dataframe\">\n",
       "  <thead>\n",
       "    <tr style=\"text-align: right;\">\n",
       "      <th></th>\n",
       "      <th>LIMIT_BAL</th>\n",
       "      <th>SEX</th>\n",
       "      <th>EDUCATION</th>\n",
       "      <th>MARRIAGE</th>\n",
       "      <th>AGE</th>\n",
       "      <th>PAY_0</th>\n",
       "      <th>PAY_2</th>\n",
       "      <th>PAY_3</th>\n",
       "      <th>PAY_4</th>\n",
       "      <th>PAY_5</th>\n",
       "      <th>PAY_6</th>\n",
       "    </tr>\n",
       "  </thead>\n",
       "  <tbody>\n",
       "    <tr>\n",
       "      <th>3195</th>\n",
       "      <td>20000</td>\n",
       "      <td>1</td>\n",
       "      <td>3</td>\n",
       "      <td>2</td>\n",
       "      <td>39</td>\n",
       "      <td>0</td>\n",
       "      <td>0</td>\n",
       "      <td>0</td>\n",
       "      <td>0</td>\n",
       "      <td>2</td>\n",
       "      <td>2</td>\n",
       "    </tr>\n",
       "    <tr>\n",
       "      <th>15960</th>\n",
       "      <td>300000</td>\n",
       "      <td>2</td>\n",
       "      <td>1</td>\n",
       "      <td>2</td>\n",
       "      <td>30</td>\n",
       "      <td>0</td>\n",
       "      <td>0</td>\n",
       "      <td>0</td>\n",
       "      <td>0</td>\n",
       "      <td>0</td>\n",
       "      <td>0</td>\n",
       "    </tr>\n",
       "    <tr>\n",
       "      <th>17713</th>\n",
       "      <td>120000</td>\n",
       "      <td>2</td>\n",
       "      <td>1</td>\n",
       "      <td>2</td>\n",
       "      <td>30</td>\n",
       "      <td>0</td>\n",
       "      <td>0</td>\n",
       "      <td>0</td>\n",
       "      <td>0</td>\n",
       "      <td>0</td>\n",
       "      <td>0</td>\n",
       "    </tr>\n",
       "    <tr>\n",
       "      <th>17897</th>\n",
       "      <td>110000</td>\n",
       "      <td>1</td>\n",
       "      <td>1</td>\n",
       "      <td>2</td>\n",
       "      <td>27</td>\n",
       "      <td>0</td>\n",
       "      <td>0</td>\n",
       "      <td>0</td>\n",
       "      <td>0</td>\n",
       "      <td>0</td>\n",
       "      <td>0</td>\n",
       "    </tr>\n",
       "    <tr>\n",
       "      <th>23049</th>\n",
       "      <td>200000</td>\n",
       "      <td>2</td>\n",
       "      <td>1</td>\n",
       "      <td>1</td>\n",
       "      <td>41</td>\n",
       "      <td>1</td>\n",
       "      <td>-1</td>\n",
       "      <td>0</td>\n",
       "      <td>-1</td>\n",
       "      <td>2</td>\n",
       "      <td>0</td>\n",
       "    </tr>\n",
       "  </tbody>\n",
       "</table>\n",
       "</div>"
      ],
      "text/plain": [
       "       LIMIT_BAL  SEX  EDUCATION  MARRIAGE  AGE  PAY_0  PAY_2  PAY_3  PAY_4  \\\n",
       "3195       20000    1          3         2   39      0      0      0      0   \n",
       "15960     300000    2          1         2   30      0      0      0      0   \n",
       "17713     120000    2          1         2   30      0      0      0      0   \n",
       "17897     110000    1          1         2   27      0      0      0      0   \n",
       "23049     200000    2          1         1   41      1     -1      0     -1   \n",
       "\n",
       "       PAY_5  PAY_6  \n",
       "3195       2      2  \n",
       "15960      0      0  \n",
       "17713      0      0  \n",
       "17897      0      0  \n",
       "23049      2      0  "
      ]
     },
     "execution_count": 317,
     "metadata": {},
     "output_type": "execute_result"
    }
   ],
   "source": [
    "# первые 5 строк фрейма, 11 первых столбцов\n",
    "DF.iloc[:, :11].head(5)"
   ]
  },
  {
   "cell_type": "code",
   "execution_count": 318,
   "id": "e98ca5c5",
   "metadata": {},
   "outputs": [
    {
     "data": {
      "text/html": [
       "<div>\n",
       "<style scoped>\n",
       "    .dataframe tbody tr th:only-of-type {\n",
       "        vertical-align: middle;\n",
       "    }\n",
       "\n",
       "    .dataframe tbody tr th {\n",
       "        vertical-align: top;\n",
       "    }\n",
       "\n",
       "    .dataframe thead th {\n",
       "        text-align: right;\n",
       "    }\n",
       "</style>\n",
       "<table border=\"1\" class=\"dataframe\">\n",
       "  <thead>\n",
       "    <tr style=\"text-align: right;\">\n",
       "      <th></th>\n",
       "      <th>BILL_AMT1</th>\n",
       "      <th>BILL_AMT2</th>\n",
       "      <th>BILL_AMT3</th>\n",
       "      <th>BILL_AMT4</th>\n",
       "      <th>BILL_AMT5</th>\n",
       "      <th>BILL_AMT6</th>\n",
       "    </tr>\n",
       "  </thead>\n",
       "  <tbody>\n",
       "    <tr>\n",
       "      <th>3195</th>\n",
       "      <td>7824</td>\n",
       "      <td>9000</td>\n",
       "      <td>9867</td>\n",
       "      <td>11929</td>\n",
       "      <td>12091</td>\n",
       "      <td>12245</td>\n",
       "    </tr>\n",
       "    <tr>\n",
       "      <th>15960</th>\n",
       "      <td>217329</td>\n",
       "      <td>206703</td>\n",
       "      <td>203164</td>\n",
       "      <td>164371</td>\n",
       "      <td>161331</td>\n",
       "      <td>154515</td>\n",
       "    </tr>\n",
       "    <tr>\n",
       "      <th>17713</th>\n",
       "      <td>170263</td>\n",
       "      <td>157881</td>\n",
       "      <td>160796</td>\n",
       "      <td>160168</td>\n",
       "      <td>156165</td>\n",
       "      <td>158850</td>\n",
       "    </tr>\n",
       "    <tr>\n",
       "      <th>17897</th>\n",
       "      <td>87487</td>\n",
       "      <td>90120</td>\n",
       "      <td>93661</td>\n",
       "      <td>96185</td>\n",
       "      <td>99667</td>\n",
       "      <td>102978</td>\n",
       "    </tr>\n",
       "    <tr>\n",
       "      <th>23049</th>\n",
       "      <td>2217</td>\n",
       "      <td>61328</td>\n",
       "      <td>2877</td>\n",
       "      <td>160944</td>\n",
       "      <td>156864</td>\n",
       "      <td>160066</td>\n",
       "    </tr>\n",
       "  </tbody>\n",
       "</table>\n",
       "</div>"
      ],
      "text/plain": [
       "       BILL_AMT1  BILL_AMT2  BILL_AMT3  BILL_AMT4  BILL_AMT5  BILL_AMT6\n",
       "3195        7824       9000       9867      11929      12091      12245\n",
       "15960     217329     206703     203164     164371     161331     154515\n",
       "17713     170263     157881     160796     160168     156165     158850\n",
       "17897      87487      90120      93661      96185      99667     102978\n",
       "23049       2217      61328       2877     160944     156864     160066"
      ]
     },
     "execution_count": 318,
     "metadata": {},
     "output_type": "execute_result"
    }
   ],
   "source": [
    "# первые 5 строк фрейма у столбцов 12-17\n",
    "DF.iloc[:, 11:17].head(5)"
   ]
  },
  {
   "cell_type": "code",
   "execution_count": 319,
   "id": "7db6da00",
   "metadata": {},
   "outputs": [
    {
     "data": {
      "text/html": [
       "<div>\n",
       "<style scoped>\n",
       "    .dataframe tbody tr th:only-of-type {\n",
       "        vertical-align: middle;\n",
       "    }\n",
       "\n",
       "    .dataframe tbody tr th {\n",
       "        vertical-align: top;\n",
       "    }\n",
       "\n",
       "    .dataframe thead th {\n",
       "        text-align: right;\n",
       "    }\n",
       "</style>\n",
       "<table border=\"1\" class=\"dataframe\">\n",
       "  <thead>\n",
       "    <tr style=\"text-align: right;\">\n",
       "      <th></th>\n",
       "      <th>PAY_AMT2</th>\n",
       "      <th>PAY_AMT3</th>\n",
       "      <th>PAY_AMT4</th>\n",
       "      <th>PAY_AMT5</th>\n",
       "      <th>PAY_AMT6</th>\n",
       "      <th>Y</th>\n",
       "    </tr>\n",
       "  </thead>\n",
       "  <tbody>\n",
       "    <tr>\n",
       "      <th>3195</th>\n",
       "      <td>1174</td>\n",
       "      <td>2236</td>\n",
       "      <td>500</td>\n",
       "      <td>500</td>\n",
       "      <td>0</td>\n",
       "      <td>0</td>\n",
       "    </tr>\n",
       "    <tr>\n",
       "      <th>15960</th>\n",
       "      <td>20219</td>\n",
       "      <td>7500</td>\n",
       "      <td>6500</td>\n",
       "      <td>7500</td>\n",
       "      <td>6000</td>\n",
       "      <td>0</td>\n",
       "    </tr>\n",
       "    <tr>\n",
       "      <th>17713</th>\n",
       "      <td>5700</td>\n",
       "      <td>5815</td>\n",
       "      <td>5500</td>\n",
       "      <td>5522</td>\n",
       "      <td>6000</td>\n",
       "      <td>0</td>\n",
       "    </tr>\n",
       "    <tr>\n",
       "      <th>17897</th>\n",
       "      <td>5000</td>\n",
       "      <td>5000</td>\n",
       "      <td>5000</td>\n",
       "      <td>5000</td>\n",
       "      <td>4000</td>\n",
       "      <td>0</td>\n",
       "    </tr>\n",
       "    <tr>\n",
       "      <th>23049</th>\n",
       "      <td>2877</td>\n",
       "      <td>160944</td>\n",
       "      <td>0</td>\n",
       "      <td>5900</td>\n",
       "      <td>13000</td>\n",
       "      <td>1</td>\n",
       "    </tr>\n",
       "  </tbody>\n",
       "</table>\n",
       "</div>"
      ],
      "text/plain": [
       "       PAY_AMT2  PAY_AMT3  PAY_AMT4  PAY_AMT5  PAY_AMT6  Y\n",
       "3195       1174      2236       500       500         0  0\n",
       "15960     20219      7500      6500      7500      6000  0\n",
       "17713      5700      5815      5500      5522      6000  0\n",
       "17897      5000      5000      5000      5000      4000  0\n",
       "23049      2877    160944         0      5900     13000  1"
      ]
     },
     "execution_count": 319,
     "metadata": {},
     "output_type": "execute_result"
    }
   ],
   "source": [
    "# первые 5 строк фрейма у столбцов 17-24\n",
    "DF.iloc[:, 18:24].head(5)"
   ]
  },
  {
   "cell_type": "code",
   "execution_count": 320,
   "id": "1e97a472",
   "metadata": {},
   "outputs": [
    {
     "data": {
      "text/plain": [
       "LIMIT_BAL    int64\n",
       "SEX          int64\n",
       "EDUCATION    int64\n",
       "MARRIAGE     int64\n",
       "AGE          int64\n",
       "PAY_0        int64\n",
       "PAY_2        int64\n",
       "PAY_3        int64\n",
       "PAY_4        int64\n",
       "PAY_5        int64\n",
       "PAY_6        int64\n",
       "BILL_AMT1    int64\n",
       "BILL_AMT2    int64\n",
       "BILL_AMT3    int64\n",
       "BILL_AMT4    int64\n",
       "BILL_AMT5    int64\n",
       "BILL_AMT6    int64\n",
       "PAY_AMT1     int64\n",
       "PAY_AMT2     int64\n",
       "PAY_AMT3     int64\n",
       "PAY_AMT4     int64\n",
       "PAY_AMT5     int64\n",
       "PAY_AMT6     int64\n",
       "Y            int64\n",
       "dtype: object"
      ]
     },
     "execution_count": 320,
     "metadata": {},
     "output_type": "execute_result"
    }
   ],
   "source": [
    "# типы столбцов фрейма\n",
    "DF.dtypes"
   ]
  },
  {
   "cell_type": "markdown",
   "id": "d4a540a2",
   "metadata": {},
   "source": [
    "Проверим, нет ли в таблице пропусков.  "
   ]
  },
  {
   "cell_type": "code",
   "execution_count": 321,
   "id": "42a96cd9",
   "metadata": {},
   "outputs": [
    {
     "data": {
      "text/plain": [
       "LIMIT_BAL    0\n",
       "SEX          0\n",
       "EDUCATION    0\n",
       "MARRIAGE     0\n",
       "AGE          0\n",
       "PAY_0        0\n",
       "PAY_2        0\n",
       "PAY_3        0\n",
       "PAY_4        0\n",
       "PAY_5        0\n",
       "PAY_6        0\n",
       "BILL_AMT1    0\n",
       "BILL_AMT2    0\n",
       "BILL_AMT3    0\n",
       "BILL_AMT4    0\n",
       "BILL_AMT5    0\n",
       "BILL_AMT6    0\n",
       "PAY_AMT1     0\n",
       "PAY_AMT2     0\n",
       "PAY_AMT3     0\n",
       "PAY_AMT4     0\n",
       "PAY_AMT5     0\n",
       "PAY_AMT6     0\n",
       "Y            0\n",
       "dtype: int64"
      ]
     },
     "execution_count": 321,
     "metadata": {},
     "output_type": "execute_result"
    }
   ],
   "source": [
    "# считаем пропуски в каждом столбце\n",
    "DF.isna().sum()"
   ]
  },
  {
   "cell_type": "markdown",
   "id": "2941191c",
   "metadata": {},
   "source": [
    "Пропусков не обнаружено.  \n",
    "\n",
    "# Предварительный анализ данных  \n",
    "\n",
    "## Описательные статистики  \n",
    "\n",
    "Считаем доли классов целевой переменной `Y`.  "
   ]
  },
  {
   "cell_type": "code",
   "execution_count": 322,
   "id": "ad9c9120",
   "metadata": {},
   "outputs": [
    {
     "data": {
      "text/plain": [
       "array([0, 1])"
      ]
     },
     "execution_count": 322,
     "metadata": {},
     "output_type": "execute_result"
    }
   ],
   "source": [
    "# метки классов\n",
    "DF.Y.unique()"
   ]
  },
  {
   "cell_type": "code",
   "execution_count": 323,
   "id": "1807f21e",
   "metadata": {},
   "outputs": [
    {
     "data": {
      "text/plain": [
       "0    0.781\n",
       "1    0.219\n",
       "Name: Y, dtype: float64"
      ]
     },
     "execution_count": 323,
     "metadata": {},
     "output_type": "execute_result"
    }
   ],
   "source": [
    "# доли классов\n",
    "np.around(DF.Y.value_counts() / len(DF.index), 3)"
   ]
  },
  {
   "cell_type": "markdown",
   "id": "e3216487",
   "metadata": {},
   "source": [
    "Все объясняющие переменные набора данных непрерывные. Рассчитаем для них описательные статистики.  "
   ]
  },
  {
   "cell_type": "code",
   "execution_count": 324,
   "id": "c7df0768",
   "metadata": {},
   "outputs": [
    {
     "data": {
      "text/html": [
       "<div>\n",
       "<style scoped>\n",
       "    .dataframe tbody tr th:only-of-type {\n",
       "        vertical-align: middle;\n",
       "    }\n",
       "\n",
       "    .dataframe tbody tr th {\n",
       "        vertical-align: top;\n",
       "    }\n",
       "\n",
       "    .dataframe thead th {\n",
       "        text-align: right;\n",
       "    }\n",
       "</style>\n",
       "<table border=\"1\" class=\"dataframe\">\n",
       "  <thead>\n",
       "    <tr style=\"text-align: right;\">\n",
       "      <th></th>\n",
       "      <th>LIMIT_BAL</th>\n",
       "      <th>SEX</th>\n",
       "      <th>EDUCATION</th>\n",
       "      <th>MARRIAGE</th>\n",
       "      <th>AGE</th>\n",
       "    </tr>\n",
       "  </thead>\n",
       "  <tbody>\n",
       "    <tr>\n",
       "      <th>count</th>\n",
       "      <td>25500.000000</td>\n",
       "      <td>25500.000000</td>\n",
       "      <td>25500.000000</td>\n",
       "      <td>25500.000000</td>\n",
       "      <td>25500.000000</td>\n",
       "    </tr>\n",
       "    <tr>\n",
       "      <th>mean</th>\n",
       "      <td>167848.614902</td>\n",
       "      <td>1.604510</td>\n",
       "      <td>1.854078</td>\n",
       "      <td>1.551137</td>\n",
       "      <td>35.473647</td>\n",
       "    </tr>\n",
       "    <tr>\n",
       "      <th>std</th>\n",
       "      <td>129894.926164</td>\n",
       "      <td>0.488965</td>\n",
       "      <td>0.791689</td>\n",
       "      <td>0.521709</td>\n",
       "      <td>9.224644</td>\n",
       "    </tr>\n",
       "    <tr>\n",
       "      <th>min</th>\n",
       "      <td>10000.000000</td>\n",
       "      <td>1.000000</td>\n",
       "      <td>0.000000</td>\n",
       "      <td>0.000000</td>\n",
       "      <td>21.000000</td>\n",
       "    </tr>\n",
       "    <tr>\n",
       "      <th>25%</th>\n",
       "      <td>50000.000000</td>\n",
       "      <td>1.000000</td>\n",
       "      <td>1.000000</td>\n",
       "      <td>1.000000</td>\n",
       "      <td>28.000000</td>\n",
       "    </tr>\n",
       "    <tr>\n",
       "      <th>50%</th>\n",
       "      <td>140000.000000</td>\n",
       "      <td>2.000000</td>\n",
       "      <td>2.000000</td>\n",
       "      <td>2.000000</td>\n",
       "      <td>34.000000</td>\n",
       "    </tr>\n",
       "    <tr>\n",
       "      <th>75%</th>\n",
       "      <td>240000.000000</td>\n",
       "      <td>2.000000</td>\n",
       "      <td>2.000000</td>\n",
       "      <td>2.000000</td>\n",
       "      <td>41.000000</td>\n",
       "    </tr>\n",
       "    <tr>\n",
       "      <th>max</th>\n",
       "      <td>800000.000000</td>\n",
       "      <td>2.000000</td>\n",
       "      <td>6.000000</td>\n",
       "      <td>3.000000</td>\n",
       "      <td>79.000000</td>\n",
       "    </tr>\n",
       "  </tbody>\n",
       "</table>\n",
       "</div>"
      ],
      "text/plain": [
       "           LIMIT_BAL           SEX     EDUCATION      MARRIAGE           AGE\n",
       "count   25500.000000  25500.000000  25500.000000  25500.000000  25500.000000\n",
       "mean   167848.614902      1.604510      1.854078      1.551137     35.473647\n",
       "std    129894.926164      0.488965      0.791689      0.521709      9.224644\n",
       "min     10000.000000      1.000000      0.000000      0.000000     21.000000\n",
       "25%     50000.000000      1.000000      1.000000      1.000000     28.000000\n",
       "50%    140000.000000      2.000000      2.000000      2.000000     34.000000\n",
       "75%    240000.000000      2.000000      2.000000      2.000000     41.000000\n",
       "max    800000.000000      2.000000      6.000000      3.000000     79.000000"
      ]
     },
     "execution_count": 324,
     "metadata": {},
     "output_type": "execute_result"
    }
   ],
   "source": [
    "# описательные статистики\n",
    "DF.iloc[:, :5].describe()"
   ]
  },
  {
   "cell_type": "code",
   "execution_count": 325,
   "id": "8308f64a",
   "metadata": {},
   "outputs": [
    {
     "data": {
      "text/html": [
       "<div>\n",
       "<style scoped>\n",
       "    .dataframe tbody tr th:only-of-type {\n",
       "        vertical-align: middle;\n",
       "    }\n",
       "\n",
       "    .dataframe tbody tr th {\n",
       "        vertical-align: top;\n",
       "    }\n",
       "\n",
       "    .dataframe thead th {\n",
       "        text-align: right;\n",
       "    }\n",
       "</style>\n",
       "<table border=\"1\" class=\"dataframe\">\n",
       "  <thead>\n",
       "    <tr style=\"text-align: right;\">\n",
       "      <th></th>\n",
       "      <th>PAY_0</th>\n",
       "      <th>PAY_2</th>\n",
       "      <th>PAY_3</th>\n",
       "      <th>PAY_4</th>\n",
       "      <th>PAY_5</th>\n",
       "      <th>PAY_6</th>\n",
       "    </tr>\n",
       "  </thead>\n",
       "  <tbody>\n",
       "    <tr>\n",
       "      <th>count</th>\n",
       "      <td>25500.000000</td>\n",
       "      <td>25500.000000</td>\n",
       "      <td>25500.000000</td>\n",
       "      <td>25500.000000</td>\n",
       "      <td>25500.000000</td>\n",
       "      <td>25500.000000</td>\n",
       "    </tr>\n",
       "    <tr>\n",
       "      <th>mean</th>\n",
       "      <td>-0.019294</td>\n",
       "      <td>-0.136745</td>\n",
       "      <td>-0.171020</td>\n",
       "      <td>-0.226353</td>\n",
       "      <td>-0.272706</td>\n",
       "      <td>-0.295529</td>\n",
       "    </tr>\n",
       "    <tr>\n",
       "      <th>std</th>\n",
       "      <td>1.125633</td>\n",
       "      <td>1.197933</td>\n",
       "      <td>1.193489</td>\n",
       "      <td>1.167079</td>\n",
       "      <td>1.131698</td>\n",
       "      <td>1.151099</td>\n",
       "    </tr>\n",
       "    <tr>\n",
       "      <th>min</th>\n",
       "      <td>-2.000000</td>\n",
       "      <td>-2.000000</td>\n",
       "      <td>-2.000000</td>\n",
       "      <td>-2.000000</td>\n",
       "      <td>-2.000000</td>\n",
       "      <td>-2.000000</td>\n",
       "    </tr>\n",
       "    <tr>\n",
       "      <th>25%</th>\n",
       "      <td>-1.000000</td>\n",
       "      <td>-1.000000</td>\n",
       "      <td>-1.000000</td>\n",
       "      <td>-1.000000</td>\n",
       "      <td>-1.000000</td>\n",
       "      <td>-1.000000</td>\n",
       "    </tr>\n",
       "    <tr>\n",
       "      <th>50%</th>\n",
       "      <td>0.000000</td>\n",
       "      <td>0.000000</td>\n",
       "      <td>0.000000</td>\n",
       "      <td>0.000000</td>\n",
       "      <td>0.000000</td>\n",
       "      <td>0.000000</td>\n",
       "    </tr>\n",
       "    <tr>\n",
       "      <th>75%</th>\n",
       "      <td>0.000000</td>\n",
       "      <td>0.000000</td>\n",
       "      <td>0.000000</td>\n",
       "      <td>0.000000</td>\n",
       "      <td>0.000000</td>\n",
       "      <td>0.000000</td>\n",
       "    </tr>\n",
       "    <tr>\n",
       "      <th>max</th>\n",
       "      <td>8.000000</td>\n",
       "      <td>8.000000</td>\n",
       "      <td>8.000000</td>\n",
       "      <td>8.000000</td>\n",
       "      <td>8.000000</td>\n",
       "      <td>8.000000</td>\n",
       "    </tr>\n",
       "  </tbody>\n",
       "</table>\n",
       "</div>"
      ],
      "text/plain": [
       "              PAY_0         PAY_2         PAY_3         PAY_4         PAY_5  \\\n",
       "count  25500.000000  25500.000000  25500.000000  25500.000000  25500.000000   \n",
       "mean      -0.019294     -0.136745     -0.171020     -0.226353     -0.272706   \n",
       "std        1.125633      1.197933      1.193489      1.167079      1.131698   \n",
       "min       -2.000000     -2.000000     -2.000000     -2.000000     -2.000000   \n",
       "25%       -1.000000     -1.000000     -1.000000     -1.000000     -1.000000   \n",
       "50%        0.000000      0.000000      0.000000      0.000000      0.000000   \n",
       "75%        0.000000      0.000000      0.000000      0.000000      0.000000   \n",
       "max        8.000000      8.000000      8.000000      8.000000      8.000000   \n",
       "\n",
       "              PAY_6  \n",
       "count  25500.000000  \n",
       "mean      -0.295529  \n",
       "std        1.151099  \n",
       "min       -2.000000  \n",
       "25%       -1.000000  \n",
       "50%        0.000000  \n",
       "75%        0.000000  \n",
       "max        8.000000  "
      ]
     },
     "execution_count": 325,
     "metadata": {},
     "output_type": "execute_result"
    }
   ],
   "source": [
    "# описательные статистики\n",
    "DF.iloc[:, 5:11].describe()"
   ]
  },
  {
   "cell_type": "code",
   "execution_count": 326,
   "id": "068ba2f9",
   "metadata": {},
   "outputs": [
    {
     "data": {
      "text/html": [
       "<div>\n",
       "<style scoped>\n",
       "    .dataframe tbody tr th:only-of-type {\n",
       "        vertical-align: middle;\n",
       "    }\n",
       "\n",
       "    .dataframe tbody tr th {\n",
       "        vertical-align: top;\n",
       "    }\n",
       "\n",
       "    .dataframe thead th {\n",
       "        text-align: right;\n",
       "    }\n",
       "</style>\n",
       "<table border=\"1\" class=\"dataframe\">\n",
       "  <thead>\n",
       "    <tr style=\"text-align: right;\">\n",
       "      <th></th>\n",
       "      <th>BILL_AMT1</th>\n",
       "      <th>BILL_AMT2</th>\n",
       "      <th>BILL_AMT3</th>\n",
       "      <th>BILL_AMT4</th>\n",
       "      <th>BILL_AMT5</th>\n",
       "      <th>BILL_AMT6</th>\n",
       "    </tr>\n",
       "  </thead>\n",
       "  <tbody>\n",
       "    <tr>\n",
       "      <th>count</th>\n",
       "      <td>25500.000000</td>\n",
       "      <td>25500.000000</td>\n",
       "      <td>2.550000e+04</td>\n",
       "      <td>25500.000000</td>\n",
       "      <td>25500.000000</td>\n",
       "      <td>25500.000000</td>\n",
       "    </tr>\n",
       "    <tr>\n",
       "      <th>mean</th>\n",
       "      <td>51145.782353</td>\n",
       "      <td>49093.645412</td>\n",
       "      <td>4.689561e+04</td>\n",
       "      <td>43011.959020</td>\n",
       "      <td>40047.777804</td>\n",
       "      <td>38657.944118</td>\n",
       "    </tr>\n",
       "    <tr>\n",
       "      <th>std</th>\n",
       "      <td>73030.089201</td>\n",
       "      <td>70556.209422</td>\n",
       "      <td>6.893268e+04</td>\n",
       "      <td>63681.324672</td>\n",
       "      <td>60026.412733</td>\n",
       "      <td>59003.614301</td>\n",
       "    </tr>\n",
       "    <tr>\n",
       "      <th>min</th>\n",
       "      <td>-165580.000000</td>\n",
       "      <td>-69777.000000</td>\n",
       "      <td>-6.150600e+04</td>\n",
       "      <td>-170000.000000</td>\n",
       "      <td>-81334.000000</td>\n",
       "      <td>-339603.000000</td>\n",
       "    </tr>\n",
       "    <tr>\n",
       "      <th>25%</th>\n",
       "      <td>3578.000000</td>\n",
       "      <td>2956.500000</td>\n",
       "      <td>2.635000e+03</td>\n",
       "      <td>2280.000000</td>\n",
       "      <td>1740.750000</td>\n",
       "      <td>1242.000000</td>\n",
       "    </tr>\n",
       "    <tr>\n",
       "      <th>50%</th>\n",
       "      <td>22344.500000</td>\n",
       "      <td>21224.000000</td>\n",
       "      <td>2.003500e+04</td>\n",
       "      <td>19010.000000</td>\n",
       "      <td>18067.000000</td>\n",
       "      <td>17001.500000</td>\n",
       "    </tr>\n",
       "    <tr>\n",
       "      <th>75%</th>\n",
       "      <td>67573.250000</td>\n",
       "      <td>64367.000000</td>\n",
       "      <td>6.031300e+04</td>\n",
       "      <td>54429.500000</td>\n",
       "      <td>50065.250000</td>\n",
       "      <td>49162.750000</td>\n",
       "    </tr>\n",
       "    <tr>\n",
       "      <th>max</th>\n",
       "      <td>653062.000000</td>\n",
       "      <td>671563.000000</td>\n",
       "      <td>1.664089e+06</td>\n",
       "      <td>706864.000000</td>\n",
       "      <td>587067.000000</td>\n",
       "      <td>699944.000000</td>\n",
       "    </tr>\n",
       "  </tbody>\n",
       "</table>\n",
       "</div>"
      ],
      "text/plain": [
       "           BILL_AMT1      BILL_AMT2     BILL_AMT3      BILL_AMT4  \\\n",
       "count   25500.000000   25500.000000  2.550000e+04   25500.000000   \n",
       "mean    51145.782353   49093.645412  4.689561e+04   43011.959020   \n",
       "std     73030.089201   70556.209422  6.893268e+04   63681.324672   \n",
       "min   -165580.000000  -69777.000000 -6.150600e+04 -170000.000000   \n",
       "25%      3578.000000    2956.500000  2.635000e+03    2280.000000   \n",
       "50%     22344.500000   21224.000000  2.003500e+04   19010.000000   \n",
       "75%     67573.250000   64367.000000  6.031300e+04   54429.500000   \n",
       "max    653062.000000  671563.000000  1.664089e+06  706864.000000   \n",
       "\n",
       "           BILL_AMT5      BILL_AMT6  \n",
       "count   25500.000000   25500.000000  \n",
       "mean    40047.777804   38657.944118  \n",
       "std     60026.412733   59003.614301  \n",
       "min    -81334.000000 -339603.000000  \n",
       "25%      1740.750000    1242.000000  \n",
       "50%     18067.000000   17001.500000  \n",
       "75%     50065.250000   49162.750000  \n",
       "max    587067.000000  699944.000000  "
      ]
     },
     "execution_count": 326,
     "metadata": {},
     "output_type": "execute_result"
    }
   ],
   "source": [
    "# описательные статистики\n",
    "DF.iloc[:, 11:17].describe()"
   ]
  },
  {
   "cell_type": "code",
   "execution_count": 327,
   "id": "6d4d7774",
   "metadata": {},
   "outputs": [
    {
     "data": {
      "text/html": [
       "<div>\n",
       "<style scoped>\n",
       "    .dataframe tbody tr th:only-of-type {\n",
       "        vertical-align: middle;\n",
       "    }\n",
       "\n",
       "    .dataframe tbody tr th {\n",
       "        vertical-align: top;\n",
       "    }\n",
       "\n",
       "    .dataframe thead th {\n",
       "        text-align: right;\n",
       "    }\n",
       "</style>\n",
       "<table border=\"1\" class=\"dataframe\">\n",
       "  <thead>\n",
       "    <tr style=\"text-align: right;\">\n",
       "      <th></th>\n",
       "      <th>PAY_AMT1</th>\n",
       "      <th>PAY_AMT2</th>\n",
       "      <th>PAY_AMT3</th>\n",
       "      <th>PAY_AMT4</th>\n",
       "      <th>PAY_AMT5</th>\n",
       "      <th>PAY_AMT6</th>\n",
       "      <th>Y</th>\n",
       "    </tr>\n",
       "  </thead>\n",
       "  <tbody>\n",
       "    <tr>\n",
       "      <th>count</th>\n",
       "      <td>25500.000000</td>\n",
       "      <td>2.550000e+04</td>\n",
       "      <td>25500.000000</td>\n",
       "      <td>25500.000000</td>\n",
       "      <td>25500.000000</td>\n",
       "      <td>25500.000000</td>\n",
       "      <td>25500.000000</td>\n",
       "    </tr>\n",
       "    <tr>\n",
       "      <th>mean</th>\n",
       "      <td>5721.081059</td>\n",
       "      <td>5.912399e+03</td>\n",
       "      <td>5195.790706</td>\n",
       "      <td>4851.610588</td>\n",
       "      <td>4847.703137</td>\n",
       "      <td>5248.818863</td>\n",
       "      <td>0.219216</td>\n",
       "    </tr>\n",
       "    <tr>\n",
       "      <th>std</th>\n",
       "      <td>16819.669309</td>\n",
       "      <td>2.259416e+04</td>\n",
       "      <td>16745.180224</td>\n",
       "      <td>15980.476266</td>\n",
       "      <td>15559.835697</td>\n",
       "      <td>17901.580110</td>\n",
       "      <td>0.413723</td>\n",
       "    </tr>\n",
       "    <tr>\n",
       "      <th>min</th>\n",
       "      <td>0.000000</td>\n",
       "      <td>0.000000e+00</td>\n",
       "      <td>0.000000</td>\n",
       "      <td>0.000000</td>\n",
       "      <td>0.000000</td>\n",
       "      <td>0.000000</td>\n",
       "      <td>0.000000</td>\n",
       "    </tr>\n",
       "    <tr>\n",
       "      <th>25%</th>\n",
       "      <td>1000.000000</td>\n",
       "      <td>8.360000e+02</td>\n",
       "      <td>390.000000</td>\n",
       "      <td>298.750000</td>\n",
       "      <td>243.750000</td>\n",
       "      <td>108.750000</td>\n",
       "      <td>0.000000</td>\n",
       "    </tr>\n",
       "    <tr>\n",
       "      <th>50%</th>\n",
       "      <td>2111.500000</td>\n",
       "      <td>2.010000e+03</td>\n",
       "      <td>1826.500000</td>\n",
       "      <td>1500.000000</td>\n",
       "      <td>1500.000000</td>\n",
       "      <td>1500.000000</td>\n",
       "      <td>0.000000</td>\n",
       "    </tr>\n",
       "    <tr>\n",
       "      <th>75%</th>\n",
       "      <td>5015.000000</td>\n",
       "      <td>5.000000e+03</td>\n",
       "      <td>4512.750000</td>\n",
       "      <td>4027.000000</td>\n",
       "      <td>4064.250000</td>\n",
       "      <td>4000.000000</td>\n",
       "      <td>0.000000</td>\n",
       "    </tr>\n",
       "    <tr>\n",
       "      <th>max</th>\n",
       "      <td>873552.000000</td>\n",
       "      <td>1.684259e+06</td>\n",
       "      <td>889043.000000</td>\n",
       "      <td>621000.000000</td>\n",
       "      <td>426529.000000</td>\n",
       "      <td>528666.000000</td>\n",
       "      <td>1.000000</td>\n",
       "    </tr>\n",
       "  </tbody>\n",
       "</table>\n",
       "</div>"
      ],
      "text/plain": [
       "            PAY_AMT1      PAY_AMT2       PAY_AMT3       PAY_AMT4  \\\n",
       "count   25500.000000  2.550000e+04   25500.000000   25500.000000   \n",
       "mean     5721.081059  5.912399e+03    5195.790706    4851.610588   \n",
       "std     16819.669309  2.259416e+04   16745.180224   15980.476266   \n",
       "min         0.000000  0.000000e+00       0.000000       0.000000   \n",
       "25%      1000.000000  8.360000e+02     390.000000     298.750000   \n",
       "50%      2111.500000  2.010000e+03    1826.500000    1500.000000   \n",
       "75%      5015.000000  5.000000e+03    4512.750000    4027.000000   \n",
       "max    873552.000000  1.684259e+06  889043.000000  621000.000000   \n",
       "\n",
       "            PAY_AMT5       PAY_AMT6             Y  \n",
       "count   25500.000000   25500.000000  25500.000000  \n",
       "mean     4847.703137    5248.818863      0.219216  \n",
       "std     15559.835697   17901.580110      0.413723  \n",
       "min         0.000000       0.000000      0.000000  \n",
       "25%       243.750000     108.750000      0.000000  \n",
       "50%      1500.000000    1500.000000      0.000000  \n",
       "75%      4064.250000    4000.000000      0.000000  \n",
       "max    426529.000000  528666.000000      1.000000  "
      ]
     },
     "execution_count": 327,
     "metadata": {},
     "output_type": "execute_result"
    }
   ],
   "source": [
    "# описательные статистики\n",
    "DF.iloc[:, 17:].describe()"
   ]
  },
  {
   "cell_type": "markdown",
   "id": "8fe7bbef",
   "metadata": {},
   "source": [
    "**Выводы по описательным статистикам**: некоторые минимумы значений принимают отрицательные значения, а стандартные отклонения имеют очень большие значения и достаточно большой разброс, что говорит о неоднородности данных. Для работы с методами снижения размерности и регуляризации понадобится стандартизация значений.   \n",
    "\n",
    "## Визуализация разброса переменных внутри классов  \n",
    "Построим коробчатые диаграммы для объясняющих переменных, чтобы сравнить средние уровни и разброс по классам.  "
   ]
  },
  {
   "cell_type": "code",
   "execution_count": 328,
   "id": "d4ee5069",
   "metadata": {},
   "outputs": [
    {
     "data": {
      "image/png": "[encoded data removed]",
      "text/plain": [
       "<Figure size 864x360 with 5 Axes>"
      ]
     },
     "metadata": {},
     "output_type": "display_data"
    }
   ],
   "source": [
    "# создаём полотно и делим его на четыре части\n",
    "fig = plt.figure(figsize=(12, 5))\n",
    "gs = mpl.gridspec.GridSpec(1, 5)\n",
    "ax1 = plt.subplot(gs[0, 0])\n",
    "ax2 = plt.subplot(gs[0, 1])\n",
    "ax3 = plt.subplot(gs[0, 2])\n",
    "ax4 = plt.subplot(gs[0, 3])\n",
    "ax5 = plt.subplot(gs[0, 4])\n",
    "\n",
    "axs = [ax1, ax2, ax3, ax4, ax5]\n",
    "\n",
    "cols_loop = list(DF.columns[:5].values)\n",
    "for col_name in cols_loop :\n",
    "    i = cols_loop.index(col_name)\n",
    "    sns.boxplot(x='Y', y=col_name, data=DF, ax=axs[i])\n",
    "    axs[i].set_ylabel(col_name)\n",
    "    axs[i].set_title(col_name)\n",
    "\n",
    "# корректируем расположение графиков на полотне\n",
    "gs.tight_layout(plt.gcf())\n",
    "plt.show()"
   ]
  },
  {
   "cell_type": "code",
   "execution_count": 329,
   "id": "af48928a",
   "metadata": {},
   "outputs": [
    {
     "data": {
      "image/png": "[encoded data removed]",
      "text/plain": [
       "<Figure size 864x432 with 6 Axes>"
      ]
     },
     "metadata": {},
     "output_type": "display_data"
    }
   ],
   "source": [
    "# создаём полотно и делим его на пять частей\n",
    "fig = plt.figure(figsize=(12, 6))\n",
    "gs = mpl.gridspec.GridSpec(1, 6)\n",
    "ax1 = plt.subplot(gs[0, 0])\n",
    "ax2 = plt.subplot(gs[0, 1])\n",
    "ax3 = plt.subplot(gs[0, 2])\n",
    "ax4 = plt.subplot(gs[0, 3])\n",
    "ax5 = plt.subplot(gs[0, 4])\n",
    "ax6 = plt.subplot(gs[0, 5])\n",
    "\n",
    "axs = [ax1, ax2, ax3, ax4, ax5, ax6]\n",
    "\n",
    "cols_loop = list(DF.columns[5:11].values)\n",
    "for col_name in cols_loop :\n",
    "    i = cols_loop.index(col_name)\n",
    "    sns.boxplot(x='Y', y=col_name, data=DF, ax=axs[i])\n",
    "    axs[i].set_ylabel(col_name)\n",
    "    axs[i].set_title(col_name)\n",
    "\n",
    "# корректируем расположение графиков на полотне\n",
    "gs.tight_layout(plt.gcf())\n",
    "plt.show()"
   ]
  },
  {
   "cell_type": "code",
   "execution_count": 330,
   "id": "742bbdd3",
   "metadata": {},
   "outputs": [
    {
     "data": {
      "image/png": "[encoded data removed]",
      "text/plain": [
       "<Figure size 864x432 with 6 Axes>"
      ]
     },
     "metadata": {},
     "output_type": "display_data"
    }
   ],
   "source": [
    "# создаём полотно и делим его на пять частей\n",
    "fig = plt.figure(figsize=(12, 6))\n",
    "gs = mpl.gridspec.GridSpec(1, 6)\n",
    "ax1 = plt.subplot(gs[0, 0])\n",
    "ax2 = plt.subplot(gs[0, 1])\n",
    "ax3 = plt.subplot(gs[0, 2])\n",
    "ax4 = plt.subplot(gs[0, 3])\n",
    "ax5 = plt.subplot(gs[0, 4])\n",
    "ax6 = plt.subplot(gs[0, 5])\n",
    "\n",
    "axs = [ax1, ax2, ax3, ax4, ax5, ax6]\n",
    "\n",
    "cols_loop = list(DF.columns[11:17].values)\n",
    "for col_name in cols_loop :\n",
    "    i = cols_loop.index(col_name)\n",
    "    sns.boxplot(x='Y', y=col_name, data=DF, ax=axs[i])\n",
    "    axs[i].set_ylabel(col_name)\n",
    "    axs[i].set_title(col_name)\n",
    "\n",
    "# корректируем расположение графиков на полотне\n",
    "gs.tight_layout(plt.gcf())\n",
    "plt.show()"
   ]
  },
  {
   "cell_type": "code",
   "execution_count": 331,
   "id": "796357ac",
   "metadata": {},
   "outputs": [
    {
     "data": {
      "image/png": "[encoded data removed]",
      "text/plain": [
       "<Figure size 864x432 with 6 Axes>"
      ]
     },
     "metadata": {},
     "output_type": "display_data"
    }
   ],
   "source": [
    "# создаём полотно и делим его на пять частей\n",
    "fig = plt.figure(figsize=(12, 6))\n",
    "gs = mpl.gridspec.GridSpec(1, 6)\n",
    "ax1 = plt.subplot(gs[0, 0])\n",
    "ax2 = plt.subplot(gs[0, 1])\n",
    "ax3 = plt.subplot(gs[0, 2])\n",
    "ax4 = plt.subplot(gs[0, 3])\n",
    "ax5 = plt.subplot(gs[0, 4])\n",
    "ax6 = plt.subplot(gs[0, 5])\n",
    "\n",
    "axs = [ax1, ax2, ax3, ax4, ax5, ax6]\n",
    "\n",
    "cols_loop = list(DF.columns[17:23].values)\n",
    "for col_name in cols_loop :\n",
    "    i = cols_loop.index(col_name)\n",
    "    sns.boxplot(x='Y', y=col_name, data=DF, ax=axs[i])\n",
    "    axs[i].set_ylabel(col_name)\n",
    "    axs[i].set_title(col_name)\n",
    "\n",
    "# корректируем расположение графиков на полотне\n",
    "gs.tight_layout(plt.gcf())\n",
    "plt.show()"
   ]
  },
  {
   "cell_type": "markdown",
   "id": "c4e9584f",
   "metadata": {},
   "source": [
    "Только на одном графике можно наблюдать хорошее разделение по классам - `PAY_0` и `PAY_2`, остальные практически не различаются. Это говорит о том, классы по зависимой переменной `Y` плохо разделяются по всем объясняющим переменным.  "
   ]
  },
  {
   "cell_type": "markdown",
   "id": "bac7542b",
   "metadata": {},
   "source": [
    "## Корреляционный анализ   \n",
    "\n",
    "Теперь посмотрим на взаимодействие объясняющих переменных.  "
   ]
  },
  {
   "cell_type": "code",
   "execution_count": 332,
   "id": "11a7b0c4",
   "metadata": {},
   "outputs": [
    {
     "data": {
      "image/png": "[encoded data removed]",
      "text/plain": [
       "<Figure size 720x576 with 2 Axes>"
      ]
     },
     "metadata": {},
     "output_type": "display_data"
    }
   ],
   "source": [
    "# рассчитываем корреляционную матрицу\n",
    "corr_mat = DF.drop('Y', axis=1).corr()\n",
    "col_names = DF.drop('Y', axis=1).columns\n",
    "\n",
    "# переключаем стиль оформления, чтобы убрать сетку с тепловой карты\n",
    "mpl.style.use('seaborn-white')\n",
    "\n",
    "# рисуем корреляционную матрицу\n",
    "f = plt.figure(figsize=(10, 8))\n",
    "plt.matshow(corr_mat, fignum=f.number, cmap='PiYG')\n",
    "# координаты для названий строк и столбцов\n",
    "tics_coords = np.arange(0, len(col_names))\n",
    "# рисуем подписи\n",
    "plt.xticks(tics_coords, col_names, fontsize=14, rotation=90)\n",
    "plt.yticks(tics_coords, col_names, fontsize=14)\n",
    "# настраиваем легенду справа от тепловой карты\n",
    "cb = plt.colorbar()\n",
    "cb.ax.tick_params(labelsize=14)\n",
    "cb.ax.tick_params(labelsize=14)\n",
    "plt.show()"
   ]
  },
  {
   "cell_type": "markdown",
   "id": "b47250c6",
   "metadata": {},
   "source": [
    "#### Вывод по тепловой карте\n",
    "\n",
    "Более тесные положительные связи прослеживаются между переменными `BILL_AMT1, BILL_AMT1, ..., BILL_AMT6`, чуть менее тесные положительные - `PAY_0, PAY_1, ..., PAY_6`. \n",
    "\n",
    "Также видно и тесные отрицательные связи между `MARRIAGE` и `AGE` и менее тесные между `LIMIT_BAL` и `PAY_0, PAY_1, ..., PAY_6`."
   ]
  },
  {
   "cell_type": "code",
   "execution_count": 333,
   "id": "bf56e251",
   "metadata": {},
   "outputs": [
    {
     "data": {
      "text/html": [
       "<div>\n",
       "<style scoped>\n",
       "    .dataframe tbody tr th:only-of-type {\n",
       "        vertical-align: middle;\n",
       "    }\n",
       "\n",
       "    .dataframe tbody tr th {\n",
       "        vertical-align: top;\n",
       "    }\n",
       "\n",
       "    .dataframe thead th {\n",
       "        text-align: right;\n",
       "    }\n",
       "</style>\n",
       "<table border=\"1\" class=\"dataframe\">\n",
       "  <thead>\n",
       "    <tr style=\"text-align: right;\">\n",
       "      <th></th>\n",
       "      <th>Показатель_1</th>\n",
       "      <th>Показатель_2</th>\n",
       "      <th>Корреляция</th>\n",
       "      <th>P_значение</th>\n",
       "    </tr>\n",
       "  </thead>\n",
       "  <tbody>\n",
       "    <tr>\n",
       "      <th>63</th>\n",
       "      <td>MARRIAGE</td>\n",
       "      <td>AGE</td>\n",
       "      <td>-0.415966</td>\n",
       "      <td>0.0</td>\n",
       "    </tr>\n",
       "    <tr>\n",
       "      <th>5</th>\n",
       "      <td>LIMIT_BAL</td>\n",
       "      <td>PAY_2</td>\n",
       "      <td>-0.299018</td>\n",
       "      <td>0.0</td>\n",
       "    </tr>\n",
       "    <tr>\n",
       "      <th>6</th>\n",
       "      <td>LIMIT_BAL</td>\n",
       "      <td>PAY_3</td>\n",
       "      <td>-0.288579</td>\n",
       "      <td>0.0</td>\n",
       "    </tr>\n",
       "    <tr>\n",
       "      <th>4</th>\n",
       "      <td>LIMIT_BAL</td>\n",
       "      <td>PAY_0</td>\n",
       "      <td>-0.274504</td>\n",
       "      <td>0.0</td>\n",
       "    </tr>\n",
       "    <tr>\n",
       "      <th>7</th>\n",
       "      <td>LIMIT_BAL</td>\n",
       "      <td>PAY_4</td>\n",
       "      <td>-0.268215</td>\n",
       "      <td>0.0</td>\n",
       "    </tr>\n",
       "    <tr>\n",
       "      <th>...</th>\n",
       "      <td>...</td>\n",
       "      <td>...</td>\n",
       "      <td>...</td>\n",
       "      <td>...</td>\n",
       "    </tr>\n",
       "    <tr>\n",
       "      <th>208</th>\n",
       "      <td>BILL_AMT3</td>\n",
       "      <td>BILL_AMT4</td>\n",
       "      <td>0.920791</td>\n",
       "      <td>0.0</td>\n",
       "    </tr>\n",
       "    <tr>\n",
       "      <th>198</th>\n",
       "      <td>BILL_AMT2</td>\n",
       "      <td>BILL_AMT3</td>\n",
       "      <td>0.925152</td>\n",
       "      <td>0.0</td>\n",
       "    </tr>\n",
       "    <tr>\n",
       "      <th>217</th>\n",
       "      <td>BILL_AMT4</td>\n",
       "      <td>BILL_AMT5</td>\n",
       "      <td>0.938409</td>\n",
       "      <td>0.0</td>\n",
       "    </tr>\n",
       "    <tr>\n",
       "      <th>225</th>\n",
       "      <td>BILL_AMT5</td>\n",
       "      <td>BILL_AMT6</td>\n",
       "      <td>0.944524</td>\n",
       "      <td>0.0</td>\n",
       "    </tr>\n",
       "    <tr>\n",
       "      <th>187</th>\n",
       "      <td>BILL_AMT1</td>\n",
       "      <td>BILL_AMT2</td>\n",
       "      <td>0.951484</td>\n",
       "      <td>0.0</td>\n",
       "    </tr>\n",
       "  </tbody>\n",
       "</table>\n",
       "<p>253 rows × 4 columns</p>\n",
       "</div>"
      ],
      "text/plain": [
       "    Показатель_1 Показатель_2  Корреляция  P_значение\n",
       "63      MARRIAGE          AGE   -0.415966         0.0\n",
       "5      LIMIT_BAL        PAY_2   -0.299018         0.0\n",
       "6      LIMIT_BAL        PAY_3   -0.288579         0.0\n",
       "4      LIMIT_BAL        PAY_0   -0.274504         0.0\n",
       "7      LIMIT_BAL        PAY_4   -0.268215         0.0\n",
       "..           ...          ...         ...         ...\n",
       "208    BILL_AMT3    BILL_AMT4    0.920791         0.0\n",
       "198    BILL_AMT2    BILL_AMT3    0.925152         0.0\n",
       "217    BILL_AMT4    BILL_AMT5    0.938409         0.0\n",
       "225    BILL_AMT5    BILL_AMT6    0.944524         0.0\n",
       "187    BILL_AMT1    BILL_AMT2    0.951484         0.0\n",
       "\n",
       "[253 rows x 4 columns]"
      ]
     },
     "execution_count": 333,
     "metadata": {},
     "output_type": "execute_result"
    }
   ],
   "source": [
    "# делаем фрейм из корреляционной матрицы и стираем диагональные значения\n",
    "#  и нижний треугольник матрицы\n",
    "df = corr_mat\n",
    "df = df.where(np.triu(np.ones(df.shape), k=1).astype(bool))\n",
    "# меняем размерность с матрицы на таблицу: показатель 1, показатель 2,\n",
    "#  корреляция\n",
    "df = df.stack().reset_index()\n",
    "df.columns = ['Показатель_1', 'Показатель_2', 'Корреляция']\n",
    "# считаем двусторонние p-значения для проверки значимости\n",
    "t_stat = np.sqrt((len(DF.index) - 2) / (1 - df.Корреляция ** 2))\n",
    "df['P_значение'] = 2 * (1 - t.cdf(abs(t_stat), len(DF.index) - 2))\n",
    "# получили все корреляционные коэффициенты без 1 и без повторов\n",
    "#  выводим все значимые с сортировкой\n",
    "df.loc[df['P_значение'] < 0.05].sort_values('Корреляция')"
   ]
  },
  {
   "cell_type": "markdown",
   "id": "4697d946",
   "metadata": {},
   "source": [
    "Как и было сказано выше, самая сильная обратная связь между `MARRIAGE` и `AGE`, а прямая между `BILL_AMT1` и `BILL_AMT2`."
   ]
  },
  {
   "cell_type": "markdown",
   "id": "d3a48810",
   "metadata": {},
   "source": [
    "# Частный метод наименьших квадратов (PLS)\n",
    "\n",
    "Проведем частный метод наименьших квадратов (PLS). Для этого предварительно стандартизируем переменные.  "
   ]
  },
  {
   "cell_type": "code",
   "execution_count": 334,
   "id": "688312d9",
   "metadata": {
    "scrolled": true
   },
   "outputs": [
    {
     "name": "stdout",
     "output_type": "stream",
     "text": [
      "Столбец 0: среднее = -0.0   Станд. отклонение = 1.0\n",
      "Столбец 1: среднее = 0.0   Станд. отклонение = 1.0\n",
      "Столбец 2: среднее = -0.0   Станд. отклонение = 1.0\n",
      "Столбец 3: среднее = -0.0   Станд. отклонение = 1.0\n",
      "Столбец 4: среднее = -0.0   Станд. отклонение = 1.0\n",
      "Столбец 5: среднее = -0.0   Станд. отклонение = 1.0\n",
      "Столбец 6: среднее = 0.0   Станд. отклонение = 1.0\n",
      "Столбец 7: среднее = -0.0   Станд. отклонение = 1.0\n",
      "Столбец 8: среднее = 0.0   Станд. отклонение = 1.0\n",
      "Столбец 9: среднее = -0.0   Станд. отклонение = 1.0\n",
      "Столбец 10: среднее = 0.0   Станд. отклонение = 1.0\n",
      "Столбец 11: среднее = 0.0   Станд. отклонение = 1.0\n",
      "Столбец 12: среднее = -0.0   Станд. отклонение = 1.0\n",
      "Столбец 13: среднее = 0.0   Станд. отклонение = 1.0\n",
      "Столбец 14: среднее = 0.0   Станд. отклонение = 1.0\n",
      "Столбец 15: среднее = -0.0   Станд. отклонение = 1.0\n",
      "Столбец 16: среднее = 0.0   Станд. отклонение = 1.0\n",
      "Столбец 17: среднее = 0.0   Станд. отклонение = 1.0\n",
      "Столбец 18: среднее = 0.0   Станд. отклонение = 1.0\n",
      "Столбец 19: среднее = -0.0   Станд. отклонение = 1.0\n",
      "Столбец 20: среднее = 0.0   Станд. отклонение = 1.0\n",
      "Столбец 21: среднее = 0.0   Станд. отклонение = 1.0\n",
      "Столбец 22: среднее = -0.0   Станд. отклонение = 1.0\n"
     ]
    }
   ],
   "source": [
    "# стандартизация\n",
    "sc = StandardScaler()\n",
    "X_train_std = sc.fit_transform(DF.iloc[:, :23].values)\n",
    "\n",
    "# проверяем средние и стандартные отклонения после стандартизации\n",
    "for i_col in range(X_train_std.shape[1]) :\n",
    "    print('Столбец ', i_col, ': среднее = ',\n",
    "          np.round(np.mean(X_train_std[:, i_col]), 2),\n",
    "         '   Станд. отклонение = ', \n",
    "          np.round(np.std(X_train_std[:, i_col]), 2), sep='')"
   ]
  },
  {
   "cell_type": "markdown",
   "id": "8c555295",
   "metadata": {},
   "source": [
    "#### Посмотрим, как работает метод на всех наблюдениях обучающего набора.  "
   ]
  },
  {
   "cell_type": "code",
   "execution_count": 335,
   "id": "0f3b638f",
   "metadata": {},
   "outputs": [
    {
     "name": "stdout",
     "output_type": "stream",
     "text": [
      "Доли объяснённой дисперсии по компонентам в PLS:\n",
      " [0.182 0.138 0.062 0.045 0.025 0.029 0.018 0.022 0.01  0.023 0.015 0.009\n",
      " 0.02  0.007 0.019 0.007 0.018 0.008 0.012 0.03  0.014 0.025 0.001] \n",
      "Общая сумма долей: 0.738\n"
     ]
    }
   ],
   "source": [
    "# функция для оценки модели, берём все компоненты, по числу столбцов X\n",
    "pls = PLSRegression(n_components=23)\n",
    "# значения зависимой переменной превращаем в фиктивные по классам\n",
    "Y_train = pd.get_dummies(DF.Y.astype(str))\n",
    "# оцениваем\n",
    "pls.fit(X_train_std, Y_train)\n",
    "\n",
    "# считаем долю объяснённой дисперсии\n",
    "frac_var_expl = np.var(pls.x_scores_, axis=0) / np.sum(np.var(X_train_std, axis=0))\n",
    "print('Доли объяснённой дисперсии по компонентам в PLS:\\n',\n",
    "     np.around(frac_var_expl, 3),\n",
    "     '\\nОбщая сумма долей:', np.around(sum(frac_var_expl), 3))"
   ]
  },
  {
   "cell_type": "markdown",
   "id": "d5753d89",
   "metadata": {},
   "source": [
    "Из-за того, что при вычислении компонент метдом PLS мы учитываем корреляцию с $Y$, компоненты, во-первых, не ортогональны, а во-вторых сумма объяснённых долей дисперсии уже не равняется 1.  "
   ]
  },
  {
   "cell_type": "code",
   "execution_count": 336,
   "id": "f4e6c748",
   "metadata": {},
   "outputs": [
    {
     "data": {
      "text/html": [
       "<div>\n",
       "<style scoped>\n",
       "    .dataframe tbody tr th:only-of-type {\n",
       "        vertical-align: middle;\n",
       "    }\n",
       "\n",
       "    .dataframe tbody tr th {\n",
       "        vertical-align: top;\n",
       "    }\n",
       "\n",
       "    .dataframe thead th {\n",
       "        text-align: right;\n",
       "    }\n",
       "</style>\n",
       "<table border=\"1\" class=\"dataframe\">\n",
       "  <thead>\n",
       "    <tr style=\"text-align: right;\">\n",
       "      <th></th>\n",
       "      <th>0</th>\n",
       "      <th>1</th>\n",
       "    </tr>\n",
       "  </thead>\n",
       "  <tbody>\n",
       "    <tr>\n",
       "      <th>0</th>\n",
       "      <td>0.653317</td>\n",
       "      <td>0.346683</td>\n",
       "    </tr>\n",
       "    <tr>\n",
       "      <th>1</th>\n",
       "      <td>0.898155</td>\n",
       "      <td>0.101845</td>\n",
       "    </tr>\n",
       "    <tr>\n",
       "      <th>2</th>\n",
       "      <td>0.849661</td>\n",
       "      <td>0.150339</td>\n",
       "    </tr>\n",
       "    <tr>\n",
       "      <th>3</th>\n",
       "      <td>0.791355</td>\n",
       "      <td>0.208645</td>\n",
       "    </tr>\n",
       "    <tr>\n",
       "      <th>4</th>\n",
       "      <td>0.855911</td>\n",
       "      <td>0.144089</td>\n",
       "    </tr>\n",
       "    <tr>\n",
       "      <th>...</th>\n",
       "      <td>...</td>\n",
       "      <td>...</td>\n",
       "    </tr>\n",
       "    <tr>\n",
       "      <th>25495</th>\n",
       "      <td>0.466756</td>\n",
       "      <td>0.533244</td>\n",
       "    </tr>\n",
       "    <tr>\n",
       "      <th>25496</th>\n",
       "      <td>0.416469</td>\n",
       "      <td>0.583531</td>\n",
       "    </tr>\n",
       "    <tr>\n",
       "      <th>25497</th>\n",
       "      <td>0.713096</td>\n",
       "      <td>0.286904</td>\n",
       "    </tr>\n",
       "    <tr>\n",
       "      <th>25498</th>\n",
       "      <td>0.982243</td>\n",
       "      <td>0.017757</td>\n",
       "    </tr>\n",
       "    <tr>\n",
       "      <th>25499</th>\n",
       "      <td>0.774764</td>\n",
       "      <td>0.225236</td>\n",
       "    </tr>\n",
       "  </tbody>\n",
       "</table>\n",
       "<p>25500 rows × 2 columns</p>\n",
       "</div>"
      ],
      "text/plain": [
       "              0         1\n",
       "0      0.653317  0.346683\n",
       "1      0.898155  0.101845\n",
       "2      0.849661  0.150339\n",
       "3      0.791355  0.208645\n",
       "4      0.855911  0.144089\n",
       "...         ...       ...\n",
       "25495  0.466756  0.533244\n",
       "25496  0.416469  0.583531\n",
       "25497  0.713096  0.286904\n",
       "25498  0.982243  0.017757\n",
       "25499  0.774764  0.225236\n",
       "\n",
       "[25500 rows x 2 columns]"
      ]
     },
     "execution_count": 336,
     "metadata": {},
     "output_type": "execute_result"
    }
   ],
   "source": [
    "# сокращаем пространство компонент до 2\n",
    "pls = PLSRegression(n_components=2)\n",
    "# перестраиваем модель\n",
    "pls.fit(X_train_std, Y_train)\n",
    "# пересчитываем X\n",
    "X_train_pls = pls.transform(X_train_std)\n",
    "# предсказываем принадлежности классов для обучающего набора\n",
    "Y_train_pred = pls.predict(X_train_std)\n",
    "pd.DataFrame(Y_train_pred)"
   ]
  },
  {
   "cell_type": "code",
   "execution_count": 337,
   "id": "2ee36387",
   "metadata": {},
   "outputs": [
    {
     "data": {
      "text/plain": [
       "dict_items([(0, 24683), (1, 817)])"
      ]
     },
     "execution_count": 337,
     "metadata": {},
     "output_type": "execute_result"
    }
   ],
   "source": [
    "# вычисляем классы\n",
    "Y_train_hat = list()\n",
    "for y_i in Y_train_pred : \n",
    "    Y_train_hat.append([i for i in range(len(y_i)) if y_i[i] == max(y_i)][0])\n",
    "# Y_train_hat\n",
    "# сколько наблюдений попали в каждый класс по модели\n",
    "Counter(Y_train_hat).items()"
   ]
  },
  {
   "cell_type": "markdown",
   "id": "3cd7c05e",
   "metadata": {},
   "source": [
    "Рисуем классы на графике в координатах 2 главных компонент по PLS.  "
   ]
  },
  {
   "cell_type": "code",
   "execution_count": 338,
   "id": "cf167983",
   "metadata": {},
   "outputs": [
    {
     "data": {
      "image/png": "[encoded data removed]",
      "text/plain": [
       "<Figure size 432x288 with 1 Axes>"
      ]
     },
     "metadata": {},
     "output_type": "display_data"
    }
   ],
   "source": [
    "# график классов в пространстве ГК\n",
    "plt.scatter(X_train_pls[DF['Y'] == 0][:, 0], \n",
    "            X_train_pls[DF['Y'] == 0][:, 1], label='Y: 0')\n",
    "plt.scatter(X_train_pls[DF['Y'] == 1][:, 0], \n",
    "            X_train_pls[DF['Y'] == 1][:, 1], label='Y: 1')\n",
    "\n",
    "plt.xlabel('ГК 1 по PLS')\n",
    "plt.ylabel('ГК 2 по PLS')\n",
    "plt.legend()\n",
    "plt.show()"
   ]
  },
  {
   "cell_type": "markdown",
   "id": "1360f1b8",
   "metadata": {},
   "source": [
    "Видно, что в координатах двух компонент, рассчитанных методом частных наименьших квадратов, классы **не** оказываются четко разделимыми.  \n",
    "Теперь оценим точность модели с перекрёстной проверкой.  "
   ]
  },
  {
   "cell_type": "code",
   "execution_count": 339,
   "id": "2a7f9f6f",
   "metadata": {},
   "outputs": [
    {
     "name": "stdout",
     "output_type": "stream",
     "text": [
      "Модель logit_PLS, перекрёстная проверка по 10 блокам\n",
      "Acc = 0.8\n"
     ]
    }
   ],
   "source": [
    "# функция разбиения на блоки для перекрёстной проверки\n",
    "#  для чистоты эксперимента возьмём другое ядро генератора случайных чисел\n",
    "kf_10 = KFold(n_splits=10, random_state=my_seed+1, shuffle=True)\n",
    "# считаем точность модели (Acc) с перекрёстной проверкой по блокам\n",
    "#  функция cross_val_score не сработает, т.к. у нас мультиклассовая\n",
    "#  классификация, поэтому делаем вручную\n",
    "# значения Y как метки классов\n",
    "Y_train = DF.Y.values\n",
    "# значения Y как фиктивные переменные\n",
    "Y_train_dummy = pd.get_dummies(Y_train.astype(str))\n",
    "# модель внутри блока\n",
    "pls_cv = PLSRegression(n_components=2)\n",
    "# для записи Acc по блокам\n",
    "acc_blocks = list()\n",
    "# цикл по блокам\n",
    "for train_index, test_index in kf_10.split(X_train_std, DF.Y.values) : \n",
    "    # данные для модели внутри блока\n",
    "    X_i_train = X_train_std[train_index]\n",
    "    Y_i_train = Y_train_dummy.iloc[train_index, :]\n",
    "\n",
    "    # данные для прогноза вне блока\n",
    "    X_i_test = X_train_std[test_index]\n",
    "    Y_i_test = Y_train[test_index]\n",
    "\n",
    "    # оцениваем модель на блоке\n",
    "    pls_cv.fit(X_i_train, Y_i_train)\n",
    "    # делаем прогноз y вне блока\n",
    "    Y_pred = pls.predict(X_i_test)\n",
    "    Y_hat = list()\n",
    "    for y_i in Y_pred : \n",
    "        Y_hat.append([i for i in range(len(y_i)) if y_i[i] == max(y_i)][0])\n",
    "    # считаем точность\n",
    "    acc = accuracy_score(Y_i_test, Y_hat)\n",
    "    acc_blocks.append(acc)\n",
    "\n",
    "score = list()\n",
    "score.append(np.around(np.mean(acc_blocks), 3))\n",
    "score_models = list()\n",
    "score_models.append('logit_PLS')\n",
    "print('Модель ', score_models[0], ', перекрёстная проверка по 10 блокам',\n",
    "      '\\nAcc = ', np.around(score[0], 2), sep='')\n",
    "\n"
   ]
  },
  {
   "cell_type": "markdown",
   "id": "5d46e811",
   "metadata": {},
   "source": [
    "# Методы сжатия  \n",
    "\n",
    "## Ридж-регрессия  "
   ]
  },
  {
   "cell_type": "markdown",
   "id": "eb01d7f4",
   "metadata": {},
   "source": [
    "Функция `LogisticRegression()` умеет работать с мультиклассовой классификацией, используя при оценке параметров подход **один класс против остальных**. Построим ридж на наших данных.  "
   ]
  },
  {
   "cell_type": "code",
   "execution_count": 340,
   "id": "5db8d732",
   "metadata": {},
   "outputs": [
    {
     "data": {
      "text/plain": [
       "array([-1.4765329])"
      ]
     },
     "execution_count": 340,
     "metadata": {},
     "output_type": "execute_result"
    }
   ],
   "source": [
    "logit_ridge.intercept_"
   ]
  },
  {
   "cell_type": "code",
   "execution_count": 304,
   "id": "5b717e72",
   "metadata": {},
   "outputs": [
    {
     "name": "stdout",
     "output_type": "stream",
     "text": [
      "Константы моделей для классов:\n",
      " [-1.477] \n",
      "Коэффициенты моделей для классов:\n",
      " [[-0.103 -0.056 -0.078 -0.072  0.077  0.64   0.112  0.077  0.028  0.041\n",
      "   0.006 -0.42   0.222  0.08  -0.036  0.024  0.032 -0.217 -0.21  -0.043\n",
      "  -0.072 -0.05  -0.032]]\n"
     ]
    }
   ],
   "source": [
    "# функция для построения модели\n",
    "logit_ridge = LogisticRegression(penalty='l2', solver='liblinear')\n",
    "# оцениваем параметры\n",
    "logit_ridge.fit(X_train_std, Y_train)\n",
    "# выводим параметры\n",
    "print('Константы моделей для классов:\\n', np.around(logit_ridge.intercept_, 3),\n",
    "     '\\nКоэффициенты моделей для классов:\\n', np.around(logit_ridge.coef_, 3))"
   ]
  },
  {
   "cell_type": "markdown",
   "id": "89338159",
   "metadata": {},
   "source": [
    "Подбираем гиперпараметр регуляризации $\\lambda$ с помощью перекрёстной проверки. В функции \n",
    "`LogisticRegression()` есть аргумент $C$ – это инверсия гиперпараметра $\\lambda$.   "
   ]
  },
  {
   "cell_type": "code",
   "execution_count": 302,
   "id": "f92b6e6d",
   "metadata": {},
   "outputs": [
    {
     "data": {
      "text/plain": [
       "array([0.35938137])"
      ]
     },
     "execution_count": 302,
     "metadata": {},
     "output_type": "execute_result"
    }
   ],
   "source": [
    "# поиск оптимального значения C:\n",
    "#  подбираем C по наибольшей точности с перекрёстной проверкой\n",
    "ridge_cv = LogisticRegressionCV(cv=10, random_state=my_seed+2, \n",
    "                                penalty='l2', solver='liblinear')\n",
    "ridge_cv.fit(X_train_std, Y_train)\n",
    "# значения параметра C (инверсия лямбды), которые дают наилучшую\n",
    "#  точность для каждого класса\n",
    "ridge_cv.C_"
   ]
  },
  {
   "cell_type": "code",
   "execution_count": 303,
   "id": "5c84f917",
   "metadata": {},
   "outputs": [
    {
     "name": "stdout",
     "output_type": "stream",
     "text": [
      "Модель logit_ridge, перекрёстная проверка по 10 блокам\n",
      "Acc = 0.812\n"
     ]
    }
   ],
   "source": [
    "# сохраняем и выводим Acc для модели\n",
    "score.append(np.around(ridge_cv.score(X_train_std, Y_train), 3))\n",
    "score_models.append('logit_ridge')\n",
    "print('Модель ', score_models[1], ', перекрёстная проверка по 10 блокам',\n",
    "      '\\nAcc = ', score[1], sep='')"
   ]
  },
  {
   "cell_type": "markdown",
   "id": "d83226cc",
   "metadata": {},
   "source": [
    "Изобразим изменение коэффициентов ридж-регрессии на графике и сделаем отсечку на уровне оптимального параметра $C$.  "
   ]
  },
  {
   "cell_type": "code",
   "execution_count": 299,
   "id": "083e40f7",
   "metadata": {},
   "outputs": [
    {
     "data": {
      "image/png": "[encoded data removed]",
      "text/plain": [
       "<Figure size 432x288 with 1 Axes>"
      ]
     },
     "metadata": {},
     "output_type": "display_data"
    }
   ],
   "source": [
    "# график динамики коэффициентов в ридж-регрессии    \n",
    "#  модель для класса 0\n",
    "plot_coeffs_traces(X_train_std, Y_train, 0, 'l2', ridge_cv.C_, DF.columns)"
   ]
  },
  {
   "cell_type": "code",
   "execution_count": 295,
   "id": "fdd27494",
   "metadata": {},
   "outputs": [
    {
     "ename": "IndexError",
     "evalue": "index 1 is out of bounds for axis 0 with size 1",
     "output_type": "error",
     "traceback": [
      "\u001b[0;31m---------------------------------------------------------------------------\u001b[0m",
      "\u001b[0;31mIndexError\u001b[0m                                Traceback (most recent call last)",
      "\u001b[0;32m<ipython-input-295-ade3832f4d67>\u001b[0m in \u001b[0;36m<module>\u001b[0;34m\u001b[0m\n\u001b[1;32m      1\u001b[0m \u001b[0;31m# график динамики коэффициентов в ридж-регрессии\u001b[0m\u001b[0;34m\u001b[0m\u001b[0;34m\u001b[0m\u001b[0;34m\u001b[0m\u001b[0m\n\u001b[1;32m      2\u001b[0m \u001b[0;31m#  модель для класса 1\u001b[0m\u001b[0;34m\u001b[0m\u001b[0;34m\u001b[0m\u001b[0;34m\u001b[0m\u001b[0m\n\u001b[0;32m----> 3\u001b[0;31m \u001b[0mplot_coeffs_traces\u001b[0m\u001b[0;34m(\u001b[0m\u001b[0mX_train_std\u001b[0m\u001b[0;34m,\u001b[0m \u001b[0mY_train\u001b[0m\u001b[0;34m,\u001b[0m \u001b[0;36m1\u001b[0m\u001b[0;34m,\u001b[0m \u001b[0;34m'l2'\u001b[0m\u001b[0;34m,\u001b[0m \u001b[0mridge_cv\u001b[0m\u001b[0;34m.\u001b[0m\u001b[0mC_\u001b[0m\u001b[0;34m,\u001b[0m \u001b[0mDF\u001b[0m\u001b[0;34m.\u001b[0m\u001b[0mcolumns\u001b[0m\u001b[0;34m)\u001b[0m\u001b[0;34m\u001b[0m\u001b[0;34m\u001b[0m\u001b[0m\n\u001b[0m",
      "\u001b[0;32m<ipython-input-264-8536a14d10e1>\u001b[0m in \u001b[0;36mplot_coeffs_traces\u001b[0;34m(X, y, class_number, penalty_name, C_opt, col_names, C_min_pow, C_max_pow)\u001b[0m\n\u001b[1;32m     16\u001b[0m                                 multi_class='ovr', random_state=my_seed)\n\u001b[1;32m     17\u001b[0m         \u001b[0mlr\u001b[0m\u001b[0;34m.\u001b[0m\u001b[0mfit\u001b[0m\u001b[0;34m(\u001b[0m\u001b[0mX\u001b[0m\u001b[0;34m,\u001b[0m \u001b[0my\u001b[0m\u001b[0;34m)\u001b[0m\u001b[0;34m\u001b[0m\u001b[0;34m\u001b[0m\u001b[0m\n\u001b[0;32m---> 18\u001b[0;31m         \u001b[0mweights\u001b[0m\u001b[0;34m.\u001b[0m\u001b[0mappend\u001b[0m\u001b[0;34m(\u001b[0m\u001b[0mlr\u001b[0m\u001b[0;34m.\u001b[0m\u001b[0mcoef_\u001b[0m\u001b[0;34m[\u001b[0m\u001b[0mclass_number\u001b[0m\u001b[0;34m]\u001b[0m\u001b[0;34m)\u001b[0m\u001b[0;34m\u001b[0m\u001b[0;34m\u001b[0m\u001b[0m\n\u001b[0m\u001b[1;32m     19\u001b[0m         \u001b[0mparams\u001b[0m\u001b[0;34m.\u001b[0m\u001b[0mappend\u001b[0m\u001b[0;34m(\u001b[0m\u001b[0;36m10\u001b[0m\u001b[0;34m**\u001b[0m\u001b[0mc\u001b[0m\u001b[0;34m)\u001b[0m\u001b[0;34m\u001b[0m\u001b[0;34m\u001b[0m\u001b[0m\n\u001b[1;32m     20\u001b[0m \u001b[0;34m\u001b[0m\u001b[0m\n",
      "\u001b[0;31mIndexError\u001b[0m: index 1 is out of bounds for axis 0 with size 1"
     ]
    },
    {
     "data": {
      "image/png": "[encoded data removed]",
      "text/plain": [
       "<Figure size 432x288 with 1 Axes>"
      ]
     },
     "metadata": {},
     "output_type": "display_data"
    }
   ],
   "source": [
    "# график динамики коэффициентов в ридж-регрессии    \n",
    "#  модель для класса 1\n",
    "plot_coeffs_traces(X_train_std, Y_train, 1, 'l2', ridge_cv.C_, DF.columns)"
   ]
  },
  {
   "cell_type": "markdown",
   "id": "041010d5",
   "metadata": {},
   "source": [
    "# Прогноз на отложенные наблюдения по лучшей модели\n",
    "\n",
    "Ещё раз посмотрим на точность построенных моделей.  "
   ]
  },
  {
   "cell_type": "code",
   "execution_count": 300,
   "id": "13f506f8",
   "metadata": {},
   "outputs": [
    {
     "data": {
      "text/html": [
       "<div>\n",
       "<style scoped>\n",
       "    .dataframe tbody tr th:only-of-type {\n",
       "        vertical-align: middle;\n",
       "    }\n",
       "\n",
       "    .dataframe tbody tr th {\n",
       "        vertical-align: top;\n",
       "    }\n",
       "\n",
       "    .dataframe thead th {\n",
       "        text-align: right;\n",
       "    }\n",
       "</style>\n",
       "<table border=\"1\" class=\"dataframe\">\n",
       "  <thead>\n",
       "    <tr style=\"text-align: right;\">\n",
       "      <th></th>\n",
       "      <th>Модель</th>\n",
       "      <th>Acc</th>\n",
       "    </tr>\n",
       "  </thead>\n",
       "  <tbody>\n",
       "    <tr>\n",
       "      <th>0</th>\n",
       "      <td>logit_PLS</td>\n",
       "      <td>0.796</td>\n",
       "    </tr>\n",
       "    <tr>\n",
       "      <th>1</th>\n",
       "      <td>logit_ridge</td>\n",
       "      <td>0.812</td>\n",
       "    </tr>\n",
       "    <tr>\n",
       "      <th>2</th>\n",
       "      <td>logit_ridge</td>\n",
       "      <td>0.812</td>\n",
       "    </tr>\n",
       "  </tbody>\n",
       "</table>\n",
       "</div>"
      ],
      "text/plain": [
       "        Модель    Acc\n",
       "0    logit_PLS  0.796\n",
       "1  logit_ridge  0.812\n",
       "2  logit_ridge  0.812"
      ]
     },
     "execution_count": 300,
     "metadata": {},
     "output_type": "execute_result"
    }
   ],
   "source": [
    "# сводка по точности моделей\n",
    "pd.DataFrame({'Модель' : score_models, 'Acc' : score})"
   ]
  },
  {
   "cell_type": "markdown",
   "id": "99c7c905",
   "metadata": {},
   "source": [
    "Все модели показывают высокую точность по показателю $Acc$, при этом самой точной оказывается ридж-регрессия. Сделаем прогноз на отложенные наблюдения.   "
   ]
  },
  {
   "cell_type": "code",
   "execution_count": 301,
   "id": "6f19fd52",
   "metadata": {},
   "outputs": [
    {
     "name": "stdout",
     "output_type": "stream",
     "text": [
      "              precision    recall  f1-score   support\n",
      "\n",
      "           0       0.81      0.97      0.88      3454\n",
      "           1       0.71      0.22      0.34      1046\n",
      "\n",
      "    accuracy                           0.80      4500\n",
      "   macro avg       0.76      0.60      0.61      4500\n",
      "weighted avg       0.78      0.80      0.76      4500\n",
      "\n"
     ]
    }
   ],
   "source": [
    "# формируем объекты с данными отложенной выборки\n",
    "X_pred_std = sc.fit_transform(DF_predict.iloc[:, :23].values)\n",
    "Y_pred = DF_predict.Y\n",
    "Y_hat = logit_ridge.predict(X_pred_std)\n",
    "# отчёт по точности на отложенных наблюдениях\n",
    "print(classification_report(Y_pred, Y_hat))"
   ]
  },
  {
   "cell_type": "markdown",
   "id": "15e4aa0a",
   "metadata": {},
   "source": [
    "Таким образом, методом логистической регрессии со сжатием коэффициенты с L2-регуляризацией мы получили модель классификации для двух видов дефолта."
   ]
  },
  {
   "cell_type": "markdown",
   "id": "af39298f",
   "metadata": {},
   "source": [
    "# Источники \n",
    "\n",
    "1. *Рашка С.* Python и машинное обучение: крайне необходимое пособие по новейшей предсказательной аналитике, обязательное для более глубокого понимания методологии машинного обучения / пер. с англ. А.В. Логунова. – М.: ДМК Пресс, 2017. – 418 с.: ил.  \n",
    "1. Репозиторий с кодом к книге *Рашка С.* Python и машинное обучение / github.com. URL: <https://github.com/rasbt/python-machine-learning-book-3rd-edition>  \n",
    "1. *Xueting Bai*, *Lingbo Wang*, *Hanning Li* Identification of red wine categories based on physicochemical properties / 2019 5th International Conference on Education Technology, Management and Humanities Science (ETMHS 2019). URL: <https://webofproceedings.org/proceedings_series/ESSP/ETMHS%202019/ETMHS19309.pdf>  \n",
    "\n"
   ]
  }
 ],
 "metadata": {
  "kernelspec": {
   "display_name": "Python 3",
   "language": "python",
   "name": "python3"
  },
  "language_info": {
   "codemirror_mode": {
    "name": "ipython",
    "version": 3
   },
   "file_extension": ".py",
   "mimetype": "text/x-python",
   "name": "python",
   "nbconvert_exporter": "python",
   "pygments_lexer": "ipython3",
   "version": "3.8.8"
  }
 },
 "nbformat": 4,
 "nbformat_minor": 5
}
