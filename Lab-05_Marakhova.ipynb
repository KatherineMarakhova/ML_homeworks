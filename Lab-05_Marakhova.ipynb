{
 "cells": [
  {
   "cell_type": "markdown",
   "id": "6b8b1c8d",
   "metadata": {},
   "source": [
    "`Дисциплина: Методы и технологии машинного обучения`   \n",
    "`Уровень подготовки: бакалавриат`   \n",
    "`Направление подготовки: 01.03.02 Прикладная математика и информатика`   \n",
    "`Семестр: осень 2021/2022`   "
   ]
  },
  {
   "cell_type": "markdown",
   "id": "1fc5c8ab",
   "metadata": {},
   "source": [
    "# Лабораторная работа №5: Методы, основанные на деревьях решений. Регрессионные деревья. Деревья классификации. Случайный лес. Бустинг. \n",
    "\n",
    "#### Работу выполнила студентка ПМИ3-1 Марахова Екатерина, вариант №13.\n",
    "\n",
    "В практических примерах ниже показано:   \n",
    "\n",
    "* как делать перекодировку признаков в номинальной и порядковой шкалах\n",
    "* как вырастить дерево и сделать обрезку его ветвей   \n",
    "* как настроить модель бэггинга   \n",
    "* как вырастить случайный лес  \n",
    "* как настроить модель бустинга на деревьях решений  \n",
    "* как подбирать настроечные параметры моделей методом сеточного поиска  \n",
    "\n",
    "Точность всех моделей оценивается методом перекрёстной проверки по 5 блокам.  \n",
    "\n",
    "*Модели*: множественная линейная регрессия \n",
    "\n",
    "*Данные*: `default_of_credit_card_clients` (источник: [репозиторий](https://github.com/aksyuk/MTML/blob/main/Labs/data/default_of_credit_card_clients.csv))\n",
    "\n",
    "*Объясняющие переменные*: все, кроме Y\n",
    "\n",
    "*Метод, основанный на деревьях решений*: бэггинг"
   ]
  },
  {
   "cell_type": "markdown",
   "id": "61b9ab5d",
   "metadata": {},
   "source": [
    "# Указания к выполнению\n",
    "\n",
    "\n",
    "## Загружаем пакеты"
   ]
  },
  {
   "cell_type": "code",
   "execution_count": 384,
   "id": "c8fa189c",
   "metadata": {},
   "outputs": [],
   "source": [
    "# загрузка пакетов: инструменты --------------------------------------------\n",
    "#  работа с массивами\n",
    "import numpy as np\n",
    "#  фреймы данных\n",
    "import pandas as pd\n",
    "#  графики\n",
    "import matplotlib as mpl\n",
    "#  стили и шаблоны графиков на основе matplotlib\n",
    "import seaborn as sns\n",
    "# загрузка файлов по URL\n",
    "import urllib\n",
    "# проверка существования файла на диске\n",
    "from pathlib import Path\n",
    "# для форматирования результатов с помощью Markdown\n",
    "from IPython.display import Markdown, display\n",
    "# перекодировка категориальных переменных\n",
    "from sklearn.preprocessing import OrdinalEncoder, OneHotEncoder\n",
    "# хи-квадрат тест на независимость по таблице сопряжённости\n",
    "from scipy.stats import chi2_contingency, t\n",
    "#  для таймера\n",
    "import time\n",
    "\n",
    "\n",
    "# загрузка пакетов: данные -------------------------------------------------\n",
    "from sklearn import datasets\n",
    "\n",
    "# загрузка пакетов: модели -------------------------------------------------\n",
    "#  дерево классификации\n",
    "from sklearn.tree import DecisionTreeClassifier, export_text, plot_tree\n",
    "# перекрёстная проверка и метод проверочной выборки\n",
    "from sklearn.model_selection import cross_val_score, train_test_split\n",
    "# для перекрёстной проверки и сеточного поиска\n",
    "from sklearn.model_selection import KFold, GridSearchCV\n",
    "# бэггинг\n",
    "from sklearn.ensemble import BaggingClassifier\n",
    "# случайный лес\n",
    "from sklearn.ensemble import RandomForestClassifier\n",
    "# бустинг\n",
    "from sklearn.ensemble import GradientBoostingClassifier\n",
    "#  сводка по точности классификации\n",
    "from sklearn.metrics import classification_report\n"
   ]
  },
  {
   "cell_type": "code",
   "execution_count": 385,
   "id": "43a4a48e",
   "metadata": {},
   "outputs": [],
   "source": [
    "# константы\n",
    "#  ядро для генератора случайных чисел\n",
    "my_seed = 13\n",
    "#  создаём псевдоним для короткого обращения к графикам\n",
    "plt = mpl.pyplot\n",
    "# настройка стиля и отображения графиков\n",
    "#  примеры стилей и шаблонов графиков: \n",
    "#  http://tonysyu.github.io/raw_content/matplotlib-style-gallery/gallery.html\n",
    "mpl.style.use('seaborn-whitegrid')\n",
    "sns.set_palette(\"Set2\")\n",
    "# раскомментируйте следующую строку, чтобы посмотреть палитру\n",
    "# sns.color_palette(\"Set2\")"
   ]
  },
  {
   "cell_type": "code",
   "execution_count": 386,
   "id": "907a2353",
   "metadata": {},
   "outputs": [],
   "source": [
    "# функция форматирования результатов с использованием Markdown\n",
    "def printmd(string):\n",
    "    display(Markdown(string))\n",
    "    \n",
    "# функции для попарной конкатенации элементов двух списков\n",
    "concat_func_md = lambda x, y: '`' + str(x) + \"`:&ensp;&ensp;&ensp;&ensp;\" + str(y)\n",
    "concat_func = lambda x, y: str(x) + ' ' * 4 + str(y)\n",
    "\n",
    "\n",
    "# функция, которая строит график важности признаков в модели случайного леса\n",
    "#  источник: https://www.analyseup.com/learn-python-for-data-science/python-random-forest-feature-importance-plot.html\n",
    "def plot_feature_importance(importance, names, model_type) :\n",
    "    #Create arrays from feature importance and feature names\n",
    "    feature_importance = np.array(importance)\n",
    "    feature_names = np.array(names)\n",
    "\n",
    "    #Create a DataFrame using a Dictionary\n",
    "    data={'feature_names':feature_names,'feature_importance':feature_importance}\n",
    "    fi_df = pd.DataFrame(data)\n",
    "\n",
    "    #Sort the DataFrame in order decreasing feature importance\n",
    "    fi_df.sort_values(by=['feature_importance'], ascending=False,\n",
    "                      inplace=True)\n",
    "\n",
    "    #Define size of bar plot\n",
    "    plt.figure(figsize=(10,8))\n",
    "    #Plot Searborn bar chart\n",
    "    sns.barplot(x=fi_df['feature_importance'], y=fi_df['feature_names'])\n",
    "    #Add chart labels\n",
    "    plt.title('Важность признаков в модели: ' + model_type)\n",
    "    plt.xlabel('Важность признака')\n",
    "    plt.ylabel('')"
   ]
  },
  {
   "cell_type": "markdown",
   "id": "87618f1b",
   "metadata": {},
   "source": [
    "## Загружаем данные\n",
    "\n",
    "Данные по кредитам 30000 клиентов банков Тайваня (статистика 2005 года). \n",
    "\n",
    "`Задача`: спрогнозировать дефолт платежа в следущем месяце по статистике за 6 предыдущих месяцев и по общим сведениям о клиенте. \n",
    "\n",
    "`Источник данных`: статья Yeh, I. C., & Lien, C. H. The comparisons of data mining techniques for the predictive accuracy of probability of default of credit card clients. Expert Systems with Applications, 36(2), 2473-2480. (Набор данных был загружен из репозитория [UCI](https://archive.ics.uci.edu/ml/datasets/default+of+credit+card+clients)).\n",
    "\n",
    "### Список столбцов файла: \n",
    "* `LIMIT_BAL` – размер выданного кредита (новых тайваньских долларов);  \n",
    "  \n",
    "  \n",
    "* `SEX` – пол:  \n",
    "1 = мужской,   \n",
    "2 = женский;   \n",
    "\n",
    "  \n",
    "* `EDUCATION` – образование:  \n",
    "1 = аспирантура,   \n",
    "2 = университет,   \n",
    "3 = старшая школа,   \n",
    "4 = другое;  \n",
    "  \n",
    "  \n",
    "* `MARRIAGE` – семейное положение:   \n",
    "1 = женат/замужем,   \n",
    "2 = одинок,   \n",
    "3 = другое;  \n",
    "  \n",
    "  \n",
    "* `AGE` – возраст, лет;  \n",
    "  \n",
    "  \n",
    "* `PAY_0, PAY_2,PAY_3, PAY_4, PAY_5, PAY_6` – статус последних ежемесячных платежей, с сентября (`PAY_0`) по апрель (`PAY_6`) 2005 года:   \n",
    "\\-1 = платёж внесён вовремя,   \n",
    "1 = платёж внесён с опозданием на 1 месяц;   \n",
    "2 = с опозданием на 2 месяца,   \n",
    "и т.д.,   \n",
    "9 = с опозданием на 9 месяцев и более;  \n",
    "  \n",
    "  \n",
    "* `BILL_AMT1, ..., BILL_AMT6` – размер последних ежемесячных платежей (новых тайваньских долларов), с сентября (`BILL_AMT1`) по апрель (`BILL_AMT6`) 2005 года;  \n",
    "  \n",
    "  \n",
    "* `PAY_AMT1, ..., PAY_AMT6` – размер ежемесячных платежей в предыдущем месяце (новых тайваньских долларов), с сентября (`PAY_AMT1` за август) по апрель (`PAY_AMT6` за март) 2005 года;  \n",
    "  \n",
    "  \n",
    "* `Y` – целевая переменная: дефолт в следующем месяце (1 – да, 0 – нет).\n",
    "\n",
    "\n",
    "Загружаем данные во фрейм и выясняем их размерность. "
   ]
  },
  {
   "cell_type": "code",
   "execution_count": 387,
   "id": "a7e42f2c",
   "metadata": {},
   "outputs": [
    {
     "name": "stdout",
     "output_type": "stream",
     "text": [
      "Число строк и столбцов в наборе данных:\n",
      " (30000, 24)\n"
     ]
    },
    {
     "data": {
      "text/html": [
       "<div>\n",
       "<style scoped>\n",
       "    .dataframe tbody tr th:only-of-type {\n",
       "        vertical-align: middle;\n",
       "    }\n",
       "\n",
       "    .dataframe tbody tr th {\n",
       "        vertical-align: top;\n",
       "    }\n",
       "\n",
       "    .dataframe thead th {\n",
       "        text-align: right;\n",
       "    }\n",
       "</style>\n",
       "<table border=\"1\" class=\"dataframe\">\n",
       "  <thead>\n",
       "    <tr style=\"text-align: right;\">\n",
       "      <th></th>\n",
       "      <th>LIMIT_BAL</th>\n",
       "      <th>SEX</th>\n",
       "      <th>EDUCATION</th>\n",
       "      <th>MARRIAGE</th>\n",
       "      <th>AGE</th>\n",
       "      <th>PAY_0</th>\n",
       "      <th>PAY_2</th>\n",
       "      <th>PAY_3</th>\n",
       "      <th>PAY_4</th>\n",
       "      <th>PAY_5</th>\n",
       "      <th>PAY_6</th>\n",
       "      <th>BILL_AMT1</th>\n",
       "    </tr>\n",
       "  </thead>\n",
       "  <tbody>\n",
       "    <tr>\n",
       "      <th>0</th>\n",
       "      <td>20000</td>\n",
       "      <td>2</td>\n",
       "      <td>2</td>\n",
       "      <td>1</td>\n",
       "      <td>24</td>\n",
       "      <td>2</td>\n",
       "      <td>2</td>\n",
       "      <td>-1</td>\n",
       "      <td>-1</td>\n",
       "      <td>-2</td>\n",
       "      <td>-2</td>\n",
       "      <td>3913</td>\n",
       "    </tr>\n",
       "    <tr>\n",
       "      <th>1</th>\n",
       "      <td>120000</td>\n",
       "      <td>2</td>\n",
       "      <td>2</td>\n",
       "      <td>2</td>\n",
       "      <td>26</td>\n",
       "      <td>-1</td>\n",
       "      <td>2</td>\n",
       "      <td>0</td>\n",
       "      <td>0</td>\n",
       "      <td>0</td>\n",
       "      <td>2</td>\n",
       "      <td>2682</td>\n",
       "    </tr>\n",
       "    <tr>\n",
       "      <th>2</th>\n",
       "      <td>90000</td>\n",
       "      <td>2</td>\n",
       "      <td>2</td>\n",
       "      <td>2</td>\n",
       "      <td>34</td>\n",
       "      <td>0</td>\n",
       "      <td>0</td>\n",
       "      <td>0</td>\n",
       "      <td>0</td>\n",
       "      <td>0</td>\n",
       "      <td>0</td>\n",
       "      <td>29239</td>\n",
       "    </tr>\n",
       "    <tr>\n",
       "      <th>3</th>\n",
       "      <td>50000</td>\n",
       "      <td>2</td>\n",
       "      <td>2</td>\n",
       "      <td>1</td>\n",
       "      <td>37</td>\n",
       "      <td>0</td>\n",
       "      <td>0</td>\n",
       "      <td>0</td>\n",
       "      <td>0</td>\n",
       "      <td>0</td>\n",
       "      <td>0</td>\n",
       "      <td>46990</td>\n",
       "    </tr>\n",
       "    <tr>\n",
       "      <th>4</th>\n",
       "      <td>50000</td>\n",
       "      <td>1</td>\n",
       "      <td>2</td>\n",
       "      <td>1</td>\n",
       "      <td>57</td>\n",
       "      <td>-1</td>\n",
       "      <td>0</td>\n",
       "      <td>-1</td>\n",
       "      <td>0</td>\n",
       "      <td>0</td>\n",
       "      <td>0</td>\n",
       "      <td>8617</td>\n",
       "    </tr>\n",
       "  </tbody>\n",
       "</table>\n",
       "</div>"
      ],
      "text/plain": [
       "   LIMIT_BAL  SEX  EDUCATION  MARRIAGE  AGE  PAY_0  PAY_2  PAY_3  PAY_4  \\\n",
       "0      20000    2          2         1   24      2      2     -1     -1   \n",
       "1     120000    2          2         2   26     -1      2      0      0   \n",
       "2      90000    2          2         2   34      0      0      0      0   \n",
       "3      50000    2          2         1   37      0      0      0      0   \n",
       "4      50000    1          2         1   57     -1      0     -1      0   \n",
       "\n",
       "   PAY_5  PAY_6  BILL_AMT1  \n",
       "0     -2     -2       3913  \n",
       "1      0      2       2682  \n",
       "2      0      0      29239  \n",
       "3      0      0      46990  \n",
       "4      0      0       8617  "
      ]
     },
     "execution_count": 387,
     "metadata": {},
     "output_type": "execute_result"
    }
   ],
   "source": [
    "# загружаем таблицу и превращаем её во фрейм\n",
    "fileURL = 'https://raw.githubusercontent.com/aksyuk/MTML/main/Labs/data/default_of_credit_card_clients.csv'\n",
    "DF_raw = pd.read_csv(fileURL)\n",
    "\n",
    "# выясняем размерность фрейма\n",
    "print('Число строк и столбцов в наборе данных:\\n', DF_raw.shape)\n",
    "\n",
    "# смотрим на данные\n",
    "DF_raw.iloc[:, :12].head(5)"
   ]
  },
  {
   "cell_type": "code",
   "execution_count": 388,
   "id": "bc0a967b",
   "metadata": {},
   "outputs": [
    {
     "data": {
      "text/html": [
       "<div>\n",
       "<style scoped>\n",
       "    .dataframe tbody tr th:only-of-type {\n",
       "        vertical-align: middle;\n",
       "    }\n",
       "\n",
       "    .dataframe tbody tr th {\n",
       "        vertical-align: top;\n",
       "    }\n",
       "\n",
       "    .dataframe thead th {\n",
       "        text-align: right;\n",
       "    }\n",
       "</style>\n",
       "<table border=\"1\" class=\"dataframe\">\n",
       "  <thead>\n",
       "    <tr style=\"text-align: right;\">\n",
       "      <th></th>\n",
       "      <th>BILL_AMT2</th>\n",
       "      <th>BILL_AMT3</th>\n",
       "      <th>BILL_AMT4</th>\n",
       "      <th>BILL_AMT5</th>\n",
       "      <th>BILL_AMT6</th>\n",
       "      <th>PAY_AMT1</th>\n",
       "      <th>PAY_AMT2</th>\n",
       "      <th>PAY_AMT3</th>\n",
       "      <th>PAY_AMT4</th>\n",
       "      <th>PAY_AMT5</th>\n",
       "      <th>PAY_AMT6</th>\n",
       "      <th>Y</th>\n",
       "    </tr>\n",
       "  </thead>\n",
       "  <tbody>\n",
       "    <tr>\n",
       "      <th>0</th>\n",
       "      <td>3102</td>\n",
       "      <td>689</td>\n",
       "      <td>0</td>\n",
       "      <td>0</td>\n",
       "      <td>0</td>\n",
       "      <td>0</td>\n",
       "      <td>689</td>\n",
       "      <td>0</td>\n",
       "      <td>0</td>\n",
       "      <td>0</td>\n",
       "      <td>0</td>\n",
       "      <td>1</td>\n",
       "    </tr>\n",
       "    <tr>\n",
       "      <th>1</th>\n",
       "      <td>1725</td>\n",
       "      <td>2682</td>\n",
       "      <td>3272</td>\n",
       "      <td>3455</td>\n",
       "      <td>3261</td>\n",
       "      <td>0</td>\n",
       "      <td>1000</td>\n",
       "      <td>1000</td>\n",
       "      <td>1000</td>\n",
       "      <td>0</td>\n",
       "      <td>2000</td>\n",
       "      <td>1</td>\n",
       "    </tr>\n",
       "    <tr>\n",
       "      <th>2</th>\n",
       "      <td>14027</td>\n",
       "      <td>13559</td>\n",
       "      <td>14331</td>\n",
       "      <td>14948</td>\n",
       "      <td>15549</td>\n",
       "      <td>1518</td>\n",
       "      <td>1500</td>\n",
       "      <td>1000</td>\n",
       "      <td>1000</td>\n",
       "      <td>1000</td>\n",
       "      <td>5000</td>\n",
       "      <td>0</td>\n",
       "    </tr>\n",
       "    <tr>\n",
       "      <th>3</th>\n",
       "      <td>48233</td>\n",
       "      <td>49291</td>\n",
       "      <td>28314</td>\n",
       "      <td>28959</td>\n",
       "      <td>29547</td>\n",
       "      <td>2000</td>\n",
       "      <td>2019</td>\n",
       "      <td>1200</td>\n",
       "      <td>1100</td>\n",
       "      <td>1069</td>\n",
       "      <td>1000</td>\n",
       "      <td>0</td>\n",
       "    </tr>\n",
       "    <tr>\n",
       "      <th>4</th>\n",
       "      <td>5670</td>\n",
       "      <td>35835</td>\n",
       "      <td>20940</td>\n",
       "      <td>19146</td>\n",
       "      <td>19131</td>\n",
       "      <td>2000</td>\n",
       "      <td>36681</td>\n",
       "      <td>10000</td>\n",
       "      <td>9000</td>\n",
       "      <td>689</td>\n",
       "      <td>679</td>\n",
       "      <td>0</td>\n",
       "    </tr>\n",
       "  </tbody>\n",
       "</table>\n",
       "</div>"
      ],
      "text/plain": [
       "   BILL_AMT2  BILL_AMT3  BILL_AMT4  BILL_AMT5  BILL_AMT6  PAY_AMT1  PAY_AMT2  \\\n",
       "0       3102        689          0          0          0         0       689   \n",
       "1       1725       2682       3272       3455       3261         0      1000   \n",
       "2      14027      13559      14331      14948      15549      1518      1500   \n",
       "3      48233      49291      28314      28959      29547      2000      2019   \n",
       "4       5670      35835      20940      19146      19131      2000     36681   \n",
       "\n",
       "   PAY_AMT3  PAY_AMT4  PAY_AMT5  PAY_AMT6  Y  \n",
       "0         0         0         0         0  1  \n",
       "1      1000      1000         0      2000  1  \n",
       "2      1000      1000      1000      5000  0  \n",
       "3      1200      1100      1069      1000  0  \n",
       "4     10000      9000       689       679  0  "
      ]
     },
     "execution_count": 388,
     "metadata": {},
     "output_type": "execute_result"
    }
   ],
   "source": [
    "DF_raw.iloc[:, 12:].head(5)"
   ]
  },
  {
   "cell_type": "code",
   "execution_count": 389,
   "id": "07670649",
   "metadata": {},
   "outputs": [
    {
     "data": {
      "text/plain": [
       "LIMIT_BAL    int64\n",
       "SEX          int64\n",
       "EDUCATION    int64\n",
       "MARRIAGE     int64\n",
       "AGE          int64\n",
       "PAY_0        int64\n",
       "PAY_2        int64\n",
       "PAY_3        int64\n",
       "PAY_4        int64\n",
       "PAY_5        int64\n",
       "PAY_6        int64\n",
       "BILL_AMT1    int64\n",
       "BILL_AMT2    int64\n",
       "BILL_AMT3    int64\n",
       "BILL_AMT4    int64\n",
       "BILL_AMT5    int64\n",
       "BILL_AMT6    int64\n",
       "PAY_AMT1     int64\n",
       "PAY_AMT2     int64\n",
       "PAY_AMT3     int64\n",
       "PAY_AMT4     int64\n",
       "PAY_AMT5     int64\n",
       "PAY_AMT6     int64\n",
       "Y            int64\n",
       "dtype: object"
      ]
     },
     "execution_count": 389,
     "metadata": {},
     "output_type": "execute_result"
    }
   ],
   "source": [
    "# типы столбцов\n",
    "DF_raw.dtypes"
   ]
  },
  {
   "cell_type": "markdown",
   "id": "e2a443be",
   "metadata": {},
   "source": [
    "Функция построения дерева классификации `DecisionTreeClassifier()` требует числовых порядковых значений переменных, поэтому наши данные полностью подходят."
   ]
  },
  {
   "cell_type": "code",
   "execution_count": 390,
   "id": "eb99ea70",
   "metadata": {},
   "outputs": [
    {
     "data": {
      "text/plain": [
       "LIMIT_BAL      0\n",
       "AGE            0\n",
       "PAY_0          0\n",
       "PAY_2          0\n",
       "PAY_3          0\n",
       "PAY_4          0\n",
       "PAY_5          0\n",
       "PAY_6          0\n",
       "BILL_AMT1      0\n",
       "BILL_AMT2      0\n",
       "BILL_AMT3      0\n",
       "BILL_AMT4      0\n",
       "BILL_AMT5      0\n",
       "BILL_AMT6      0\n",
       "PAY_AMT1       0\n",
       "PAY_AMT2       0\n",
       "PAY_AMT3       0\n",
       "PAY_AMT4       0\n",
       "PAY_AMT5       0\n",
       "PAY_AMT6       0\n",
       "Y              0\n",
       "SEX_1          0\n",
       "EDUCATION_1    0\n",
       "EDUCATION_2    0\n",
       "EDUCATION_3    0\n",
       "MARRIAGE_1     0\n",
       "MARRIAGE_2     0\n",
       "dtype: int64"
      ]
     },
     "execution_count": 390,
     "metadata": {},
     "output_type": "execute_result"
    }
   ],
   "source": [
    "DF.isna().sum()"
   ]
  },
  {
   "cell_type": "markdown",
   "id": "1635163a",
   "metadata": {},
   "source": [
    "# Предварительный анализ данных. Описательные статистики.\n",
    "\n",
    "##  Подсчет частот категориальных значений."
   ]
  },
  {
   "cell_type": "code",
   "execution_count": 391,
   "id": "e6c004de",
   "metadata": {},
   "outputs": [
    {
     "data": {
      "text/plain": [
       "array([0, 1])"
      ]
     },
     "execution_count": 391,
     "metadata": {},
     "output_type": "execute_result"
    }
   ],
   "source": [
    "DF.Y.unique()"
   ]
  },
  {
   "cell_type": "code",
   "execution_count": 392,
   "id": "850f3077",
   "metadata": {},
   "outputs": [
    {
     "data": {
      "text/plain": [
       "0    0.781\n",
       "1    0.219\n",
       "Name: Y, dtype: float64"
      ]
     },
     "execution_count": 392,
     "metadata": {},
     "output_type": "execute_result"
    }
   ],
   "source": [
    "np.around(DF.Y.value_counts() / len(DF.index), 3)"
   ]
  },
  {
   "cell_type": "code",
   "execution_count": 393,
   "id": "32458bac",
   "metadata": {
    "scrolled": true
   },
   "outputs": [
    {
     "data": {
      "text/plain": [
       "array([2, 1])"
      ]
     },
     "execution_count": 393,
     "metadata": {},
     "output_type": "execute_result"
    }
   ],
   "source": [
    "DF_raw['SEX'].unique()"
   ]
  },
  {
   "cell_type": "code",
   "execution_count": 394,
   "id": "41fd34ea",
   "metadata": {
    "scrolled": true
   },
   "outputs": [
    {
     "data": {
      "text/plain": [
       "2    0.604\n",
       "1    0.396\n",
       "Name: SEX, dtype: float64"
      ]
     },
     "execution_count": 394,
     "metadata": {},
     "output_type": "execute_result"
    }
   ],
   "source": [
    "np.around(DF_raw.SEX.value_counts() / len(DF_raw.index), 3)"
   ]
  },
  {
   "cell_type": "code",
   "execution_count": 395,
   "id": "a8697b0a",
   "metadata": {},
   "outputs": [
    {
     "data": {
      "text/plain": [
       "array([2, 1, 3, 5, 4, 6, 0])"
      ]
     },
     "execution_count": 395,
     "metadata": {},
     "output_type": "execute_result"
    }
   ],
   "source": [
    "DF_raw['EDUCATION'].unique()"
   ]
  },
  {
   "cell_type": "code",
   "execution_count": 396,
   "id": "c62028c1",
   "metadata": {},
   "outputs": [
    {
     "data": {
      "text/plain": [
       "2    0.468\n",
       "1    0.353\n",
       "3    0.164\n",
       "5    0.009\n",
       "4    0.004\n",
       "6    0.002\n",
       "0    0.000\n",
       "Name: EDUCATION, dtype: float64"
      ]
     },
     "execution_count": 396,
     "metadata": {},
     "output_type": "execute_result"
    }
   ],
   "source": [
    "np.around(DF_raw.EDUCATION.value_counts() / len(DF_raw.index), 3)"
   ]
  },
  {
   "cell_type": "code",
   "execution_count": 397,
   "id": "21306597",
   "metadata": {},
   "outputs": [
    {
     "data": {
      "text/plain": [
       "array([1, 2, 3, 0])"
      ]
     },
     "execution_count": 397,
     "metadata": {},
     "output_type": "execute_result"
    }
   ],
   "source": [
    "DF_raw['MARRIAGE'].unique()"
   ]
  },
  {
   "cell_type": "code",
   "execution_count": 398,
   "id": "65be4fa7",
   "metadata": {},
   "outputs": [
    {
     "data": {
      "text/plain": [
       "2    0.532\n",
       "1    0.455\n",
       "3    0.011\n",
       "0    0.002\n",
       "Name: MARRIAGE, dtype: float64"
      ]
     },
     "execution_count": 398,
     "metadata": {},
     "output_type": "execute_result"
    }
   ],
   "source": [
    "np.around(DF_raw.MARRIAGE.value_counts() / len(DF_raw.index), 3)"
   ]
  },
  {
   "cell_type": "markdown",
   "id": "b2d52c6e",
   "metadata": {},
   "source": [
    "## ХИ-КВАДРАТ\n",
    "### Y и SEX\n"
   ]
  },
  {
   "cell_type": "code",
   "execution_count": 399,
   "id": "594ef99e",
   "metadata": {},
   "outputs": [
    {
     "data": {
      "text/html": [
       "<div>\n",
       "<style scoped>\n",
       "    .dataframe tbody tr th:only-of-type {\n",
       "        vertical-align: middle;\n",
       "    }\n",
       "\n",
       "    .dataframe tbody tr th {\n",
       "        vertical-align: top;\n",
       "    }\n",
       "\n",
       "    .dataframe thead th {\n",
       "        text-align: right;\n",
       "    }\n",
       "</style>\n",
       "<table border=\"1\" class=\"dataframe\">\n",
       "  <thead>\n",
       "    <tr style=\"text-align: right;\">\n",
       "      <th>SEX</th>\n",
       "      <th>1</th>\n",
       "      <th>2</th>\n",
       "    </tr>\n",
       "    <tr>\n",
       "      <th>Y</th>\n",
       "      <th></th>\n",
       "      <th></th>\n",
       "    </tr>\n",
       "  </thead>\n",
       "  <tbody>\n",
       "    <tr>\n",
       "      <th>0</th>\n",
       "      <td>9015</td>\n",
       "      <td>14349</td>\n",
       "    </tr>\n",
       "    <tr>\n",
       "      <th>1</th>\n",
       "      <td>2873</td>\n",
       "      <td>3763</td>\n",
       "    </tr>\n",
       "  </tbody>\n",
       "</table>\n",
       "</div>"
      ],
      "text/plain": [
       "SEX     1      2\n",
       "Y               \n",
       "0    9015  14349\n",
       "1    2873   3763"
      ]
     },
     "execution_count": 399,
     "metadata": {},
     "output_type": "execute_result"
    }
   ],
   "source": [
    "df_Y_SEX = pd.crosstab(DF_raw['Y'], DF_raw['SEX'])\n",
    "df_Y_SEX"
   ]
  },
  {
   "cell_type": "code",
   "execution_count": 400,
   "id": "bf7100a0",
   "metadata": {},
   "outputs": [
    {
     "data": {
      "text/plain": [
       "[[9015, 14349], [2873, 3763]]"
      ]
     },
     "execution_count": 400,
     "metadata": {},
     "output_type": "execute_result"
    }
   ],
   "source": [
    "list_Y_SEX = [[df_Y_SEX[1][0], df_Y_SEX[2][0]], \n",
    "              [df_Y_SEX[1][1], df_Y_SEX[2][1]]]\n",
    "list_Y_SEX"
   ]
  },
  {
   "cell_type": "code",
   "execution_count": 401,
   "id": "298e87a4",
   "metadata": {},
   "outputs": [
    {
     "name": "stdout",
     "output_type": "stream",
     "text": [
      "test Statistics: 47.70879689062111\n",
      "degrees of freedom: 1\n",
      "p-value: 4.944678999412044e-12\n",
      "\n",
      "[[ 9258.3744 14105.6256]\n",
      " [ 2629.6256  4006.3744]]\n"
     ]
    }
   ],
   "source": [
    "chi2, prob, df, expected = scipy.stats.chi2_contingency(list_Y_SEX)\n",
    "output = \"test Statistics: {}\\ndegrees of freedom: {}\\np-value: {}\\n\"\n",
    "print(output.format(chi2, df, prob))\n",
    "print(expected)"
   ]
  },
  {
   "cell_type": "markdown",
   "id": "b431afa6",
   "metadata": {},
   "source": [
    "### Y и EDUCATION"
   ]
  },
  {
   "cell_type": "code",
   "execution_count": 402,
   "id": "a85f6ee0",
   "metadata": {},
   "outputs": [
    {
     "data": {
      "text/html": [
       "<div>\n",
       "<style scoped>\n",
       "    .dataframe tbody tr th:only-of-type {\n",
       "        vertical-align: middle;\n",
       "    }\n",
       "\n",
       "    .dataframe tbody tr th {\n",
       "        vertical-align: top;\n",
       "    }\n",
       "\n",
       "    .dataframe thead th {\n",
       "        text-align: right;\n",
       "    }\n",
       "</style>\n",
       "<table border=\"1\" class=\"dataframe\">\n",
       "  <thead>\n",
       "    <tr style=\"text-align: right;\">\n",
       "      <th>EDUCATION</th>\n",
       "      <th>0</th>\n",
       "      <th>1</th>\n",
       "      <th>2</th>\n",
       "      <th>3</th>\n",
       "      <th>4</th>\n",
       "      <th>5</th>\n",
       "      <th>6</th>\n",
       "    </tr>\n",
       "    <tr>\n",
       "      <th>Y</th>\n",
       "      <th></th>\n",
       "      <th></th>\n",
       "      <th></th>\n",
       "      <th></th>\n",
       "      <th></th>\n",
       "      <th></th>\n",
       "      <th></th>\n",
       "    </tr>\n",
       "  </thead>\n",
       "  <tbody>\n",
       "    <tr>\n",
       "      <th>0</th>\n",
       "      <td>14</td>\n",
       "      <td>8549</td>\n",
       "      <td>10700</td>\n",
       "      <td>3680</td>\n",
       "      <td>116</td>\n",
       "      <td>262</td>\n",
       "      <td>43</td>\n",
       "    </tr>\n",
       "    <tr>\n",
       "      <th>1</th>\n",
       "      <td>0</td>\n",
       "      <td>2036</td>\n",
       "      <td>3330</td>\n",
       "      <td>1237</td>\n",
       "      <td>7</td>\n",
       "      <td>18</td>\n",
       "      <td>8</td>\n",
       "    </tr>\n",
       "  </tbody>\n",
       "</table>\n",
       "</div>"
      ],
      "text/plain": [
       "EDUCATION   0     1      2     3    4    5   6\n",
       "Y                                             \n",
       "0          14  8549  10700  3680  116  262  43\n",
       "1           0  2036   3330  1237    7   18   8"
      ]
     },
     "execution_count": 402,
     "metadata": {},
     "output_type": "execute_result"
    }
   ],
   "source": [
    "df_Y_EDUCATION = pd.crosstab(DF_raw['Y'], DF_raw['EDUCATION'])\n",
    "df_Y_EDUCATION"
   ]
  },
  {
   "cell_type": "code",
   "execution_count": 403,
   "id": "3696b6b4",
   "metadata": {},
   "outputs": [
    {
     "data": {
      "text/plain": [
       "[[8549, 10700, 3680, 116, 262, 43], [2036, 3330, 1237, 7, 18, 8]]"
      ]
     },
     "execution_count": 403,
     "metadata": {},
     "output_type": "execute_result"
    }
   ],
   "source": [
    "list_Y_EDUCATION = [[df_Y_EDUCATION[1][0], df_Y_EDUCATION[2][0], \n",
    "                     df_Y_EDUCATION[3][0], df_Y_EDUCATION[4][0], \n",
    "                     df_Y_EDUCATION[5][0], df_Y_EDUCATION[6][0]], \n",
    "                    \n",
    "                    [df_Y_EDUCATION[1][1], df_Y_EDUCATION[2][1], \n",
    "                     df_Y_EDUCATION[3][1], df_Y_EDUCATION[4][1], \n",
    "                     df_Y_EDUCATION[5][1], df_Y_EDUCATION[6][1]]]\n",
    "list_Y_EDUCATION"
   ]
  },
  {
   "cell_type": "code",
   "execution_count": 404,
   "id": "cf8de3c9",
   "metadata": {},
   "outputs": [
    {
     "name": "stdout",
     "output_type": "stream",
     "text": [
      "test Statistics: 159.18512540464334\n",
      "degrees of freedom: 5\n",
      "p-value: 1.4764557605044473e-32\n",
      "\n",
      "[[ 8242.50483559 10925.11505369  3828.85179751    95.77969719\n",
      "    218.03508304    39.71353298]\n",
      " [ 2342.49516441  3104.88494631  1088.14820249    27.22030281\n",
      "     61.96491696    11.28646702]]\n"
     ]
    }
   ],
   "source": [
    "chi2, prob, df, expected = scipy.stats.chi2_contingency(list_Y_EDUCATION)\n",
    "output = \"test Statistics: {}\\ndegrees of freedom: {}\\np-value: {}\\n\"\n",
    "print(output.format(chi2, df, prob))\n",
    "print(expected)"
   ]
  },
  {
   "cell_type": "markdown",
   "id": "3dd8a49c",
   "metadata": {},
   "source": [
    "### Y и MARRIAGE"
   ]
  },
  {
   "cell_type": "code",
   "execution_count": 405,
   "id": "e904a597",
   "metadata": {},
   "outputs": [
    {
     "data": {
      "text/html": [
       "<div>\n",
       "<style scoped>\n",
       "    .dataframe tbody tr th:only-of-type {\n",
       "        vertical-align: middle;\n",
       "    }\n",
       "\n",
       "    .dataframe tbody tr th {\n",
       "        vertical-align: top;\n",
       "    }\n",
       "\n",
       "    .dataframe thead th {\n",
       "        text-align: right;\n",
       "    }\n",
       "</style>\n",
       "<table border=\"1\" class=\"dataframe\">\n",
       "  <thead>\n",
       "    <tr style=\"text-align: right;\">\n",
       "      <th>MARRIAGE</th>\n",
       "      <th>0</th>\n",
       "      <th>1</th>\n",
       "      <th>2</th>\n",
       "      <th>3</th>\n",
       "    </tr>\n",
       "    <tr>\n",
       "      <th>Y</th>\n",
       "      <th></th>\n",
       "      <th></th>\n",
       "      <th></th>\n",
       "      <th></th>\n",
       "    </tr>\n",
       "  </thead>\n",
       "  <tbody>\n",
       "    <tr>\n",
       "      <th>0</th>\n",
       "      <td>49</td>\n",
       "      <td>10453</td>\n",
       "      <td>12623</td>\n",
       "      <td>239</td>\n",
       "    </tr>\n",
       "    <tr>\n",
       "      <th>1</th>\n",
       "      <td>5</td>\n",
       "      <td>3206</td>\n",
       "      <td>3341</td>\n",
       "      <td>84</td>\n",
       "    </tr>\n",
       "  </tbody>\n",
       "</table>\n",
       "</div>"
      ],
      "text/plain": [
       "MARRIAGE   0      1      2    3\n",
       "Y                              \n",
       "0         49  10453  12623  239\n",
       "1          5   3206   3341   84"
      ]
     },
     "execution_count": 405,
     "metadata": {},
     "output_type": "execute_result"
    }
   ],
   "source": [
    "df_Y_MARRIAGE = pd.crosstab(DF_raw['Y'], DF_raw['MARRIAGE'])\n",
    "df_Y_MARRIAGE"
   ]
  },
  {
   "cell_type": "code",
   "execution_count": 406,
   "id": "e60786fa",
   "metadata": {},
   "outputs": [],
   "source": [
    "list_Y_MARRIAGE = [[df_Y_MARRIAGE[1][0], df_Y_MARRIAGE[2][0], \n",
    "                     df_Y_EDUCATION[3][0]], \n",
    "                    \n",
    "                    [df_Y_MARRIAGE[1][1], df_Y_MARRIAGE[2][1], \n",
    "                     df_Y_MARRIAGE[3][1]]]"
   ]
  },
  {
   "cell_type": "code",
   "execution_count": 407,
   "id": "351653b5",
   "metadata": {},
   "outputs": [
    {
     "name": "stdout",
     "output_type": "stream",
     "text": [
      "test Statistics: 858.2880051332515\n",
      "degrees of freedom: 2\n",
      "p-value: 4.2182055954096444e-187\n",
      "\n",
      "[[10946.18276575 12793.38616827  3016.43106598]\n",
      " [ 2712.81723425  3170.61383173   747.56893402]]\n"
     ]
    }
   ],
   "source": [
    "chi2, prob, df, expected = scipy.stats.chi2_contingency(list_Y_MARRIAGE)\n",
    "output = \"test Statistics: {}\\ndegrees of freedom: {}\\np-value: {}\\n\"\n",
    "print(output.format(chi2, df, prob))\n",
    "print(expected)"
   ]
  },
  {
   "cell_type": "markdown",
   "id": "6c9c84fe",
   "metadata": {},
   "source": [
    "### Описательные статистики для непрерывных переменных набора."
   ]
  },
  {
   "cell_type": "code",
   "execution_count": 408,
   "id": "e3db1605",
   "metadata": {},
   "outputs": [
    {
     "data": {
      "text/html": [
       "<div>\n",
       "<style scoped>\n",
       "    .dataframe tbody tr th:only-of-type {\n",
       "        vertical-align: middle;\n",
       "    }\n",
       "\n",
       "    .dataframe tbody tr th {\n",
       "        vertical-align: top;\n",
       "    }\n",
       "\n",
       "    .dataframe thead th {\n",
       "        text-align: right;\n",
       "    }\n",
       "</style>\n",
       "<table border=\"1\" class=\"dataframe\">\n",
       "  <thead>\n",
       "    <tr style=\"text-align: right;\">\n",
       "      <th></th>\n",
       "      <th>LIMIT_BAL</th>\n",
       "    </tr>\n",
       "  </thead>\n",
       "  <tbody>\n",
       "    <tr>\n",
       "      <th>count</th>\n",
       "      <td>30000.000000</td>\n",
       "    </tr>\n",
       "    <tr>\n",
       "      <th>mean</th>\n",
       "      <td>167484.322667</td>\n",
       "    </tr>\n",
       "    <tr>\n",
       "      <th>std</th>\n",
       "      <td>129747.661567</td>\n",
       "    </tr>\n",
       "    <tr>\n",
       "      <th>min</th>\n",
       "      <td>10000.000000</td>\n",
       "    </tr>\n",
       "    <tr>\n",
       "      <th>25%</th>\n",
       "      <td>50000.000000</td>\n",
       "    </tr>\n",
       "    <tr>\n",
       "      <th>50%</th>\n",
       "      <td>140000.000000</td>\n",
       "    </tr>\n",
       "    <tr>\n",
       "      <th>75%</th>\n",
       "      <td>240000.000000</td>\n",
       "    </tr>\n",
       "    <tr>\n",
       "      <th>max</th>\n",
       "      <td>1000000.000000</td>\n",
       "    </tr>\n",
       "  </tbody>\n",
       "</table>\n",
       "</div>"
      ],
      "text/plain": [
       "            LIMIT_BAL\n",
       "count    30000.000000\n",
       "mean    167484.322667\n",
       "std     129747.661567\n",
       "min      10000.000000\n",
       "25%      50000.000000\n",
       "50%     140000.000000\n",
       "75%     240000.000000\n",
       "max    1000000.000000"
      ]
     },
     "execution_count": 408,
     "metadata": {},
     "output_type": "execute_result"
    }
   ],
   "source": [
    "DF_raw.iloc[:, :1].describe()"
   ]
  },
  {
   "cell_type": "code",
   "execution_count": 409,
   "id": "47d0ba47",
   "metadata": {},
   "outputs": [
    {
     "data": {
      "text/html": [
       "<div>\n",
       "<style scoped>\n",
       "    .dataframe tbody tr th:only-of-type {\n",
       "        vertical-align: middle;\n",
       "    }\n",
       "\n",
       "    .dataframe tbody tr th {\n",
       "        vertical-align: top;\n",
       "    }\n",
       "\n",
       "    .dataframe thead th {\n",
       "        text-align: right;\n",
       "    }\n",
       "</style>\n",
       "<table border=\"1\" class=\"dataframe\">\n",
       "  <thead>\n",
       "    <tr style=\"text-align: right;\">\n",
       "      <th></th>\n",
       "      <th>AGE</th>\n",
       "      <th>PAY_0</th>\n",
       "      <th>PAY_2</th>\n",
       "      <th>PAY_3</th>\n",
       "      <th>PAY_4</th>\n",
       "      <th>PAY_5</th>\n",
       "      <th>PAY_6</th>\n",
       "    </tr>\n",
       "  </thead>\n",
       "  <tbody>\n",
       "    <tr>\n",
       "      <th>count</th>\n",
       "      <td>30000.000000</td>\n",
       "      <td>30000.000000</td>\n",
       "      <td>30000.000000</td>\n",
       "      <td>30000.000000</td>\n",
       "      <td>30000.000000</td>\n",
       "      <td>30000.000000</td>\n",
       "      <td>30000.000000</td>\n",
       "    </tr>\n",
       "    <tr>\n",
       "      <th>mean</th>\n",
       "      <td>35.485500</td>\n",
       "      <td>-0.016700</td>\n",
       "      <td>-0.133767</td>\n",
       "      <td>-0.166200</td>\n",
       "      <td>-0.220667</td>\n",
       "      <td>-0.266200</td>\n",
       "      <td>-0.291100</td>\n",
       "    </tr>\n",
       "    <tr>\n",
       "      <th>std</th>\n",
       "      <td>9.217904</td>\n",
       "      <td>1.123802</td>\n",
       "      <td>1.197186</td>\n",
       "      <td>1.196868</td>\n",
       "      <td>1.169139</td>\n",
       "      <td>1.133187</td>\n",
       "      <td>1.149988</td>\n",
       "    </tr>\n",
       "    <tr>\n",
       "      <th>min</th>\n",
       "      <td>21.000000</td>\n",
       "      <td>-2.000000</td>\n",
       "      <td>-2.000000</td>\n",
       "      <td>-2.000000</td>\n",
       "      <td>-2.000000</td>\n",
       "      <td>-2.000000</td>\n",
       "      <td>-2.000000</td>\n",
       "    </tr>\n",
       "    <tr>\n",
       "      <th>25%</th>\n",
       "      <td>28.000000</td>\n",
       "      <td>-1.000000</td>\n",
       "      <td>-1.000000</td>\n",
       "      <td>-1.000000</td>\n",
       "      <td>-1.000000</td>\n",
       "      <td>-1.000000</td>\n",
       "      <td>-1.000000</td>\n",
       "    </tr>\n",
       "    <tr>\n",
       "      <th>50%</th>\n",
       "      <td>34.000000</td>\n",
       "      <td>0.000000</td>\n",
       "      <td>0.000000</td>\n",
       "      <td>0.000000</td>\n",
       "      <td>0.000000</td>\n",
       "      <td>0.000000</td>\n",
       "      <td>0.000000</td>\n",
       "    </tr>\n",
       "    <tr>\n",
       "      <th>75%</th>\n",
       "      <td>41.000000</td>\n",
       "      <td>0.000000</td>\n",
       "      <td>0.000000</td>\n",
       "      <td>0.000000</td>\n",
       "      <td>0.000000</td>\n",
       "      <td>0.000000</td>\n",
       "      <td>0.000000</td>\n",
       "    </tr>\n",
       "    <tr>\n",
       "      <th>max</th>\n",
       "      <td>79.000000</td>\n",
       "      <td>8.000000</td>\n",
       "      <td>8.000000</td>\n",
       "      <td>8.000000</td>\n",
       "      <td>8.000000</td>\n",
       "      <td>8.000000</td>\n",
       "      <td>8.000000</td>\n",
       "    </tr>\n",
       "  </tbody>\n",
       "</table>\n",
       "</div>"
      ],
      "text/plain": [
       "                AGE         PAY_0         PAY_2         PAY_3         PAY_4  \\\n",
       "count  30000.000000  30000.000000  30000.000000  30000.000000  30000.000000   \n",
       "mean      35.485500     -0.016700     -0.133767     -0.166200     -0.220667   \n",
       "std        9.217904      1.123802      1.197186      1.196868      1.169139   \n",
       "min       21.000000     -2.000000     -2.000000     -2.000000     -2.000000   \n",
       "25%       28.000000     -1.000000     -1.000000     -1.000000     -1.000000   \n",
       "50%       34.000000      0.000000      0.000000      0.000000      0.000000   \n",
       "75%       41.000000      0.000000      0.000000      0.000000      0.000000   \n",
       "max       79.000000      8.000000      8.000000      8.000000      8.000000   \n",
       "\n",
       "              PAY_5         PAY_6  \n",
       "count  30000.000000  30000.000000  \n",
       "mean      -0.266200     -0.291100  \n",
       "std        1.133187      1.149988  \n",
       "min       -2.000000     -2.000000  \n",
       "25%       -1.000000     -1.000000  \n",
       "50%        0.000000      0.000000  \n",
       "75%        0.000000      0.000000  \n",
       "max        8.000000      8.000000  "
      ]
     },
     "execution_count": 409,
     "metadata": {},
     "output_type": "execute_result"
    }
   ],
   "source": [
    "DF_raw.iloc[:, 4:11].describe()"
   ]
  },
  {
   "cell_type": "code",
   "execution_count": 410,
   "id": "c18069b6",
   "metadata": {},
   "outputs": [
    {
     "data": {
      "text/html": [
       "<div>\n",
       "<style scoped>\n",
       "    .dataframe tbody tr th:only-of-type {\n",
       "        vertical-align: middle;\n",
       "    }\n",
       "\n",
       "    .dataframe tbody tr th {\n",
       "        vertical-align: top;\n",
       "    }\n",
       "\n",
       "    .dataframe thead th {\n",
       "        text-align: right;\n",
       "    }\n",
       "</style>\n",
       "<table border=\"1\" class=\"dataframe\">\n",
       "  <thead>\n",
       "    <tr style=\"text-align: right;\">\n",
       "      <th></th>\n",
       "      <th>BILL_AMT4</th>\n",
       "      <th>BILL_AMT5</th>\n",
       "      <th>BILL_AMT6</th>\n",
       "      <th>PAY_AMT1</th>\n",
       "      <th>PAY_AMT2</th>\n",
       "      <th>PAY_AMT3</th>\n",
       "      <th>PAY_AMT4</th>\n",
       "      <th>PAY_AMT5</th>\n",
       "      <th>PAY_AMT6</th>\n",
       "    </tr>\n",
       "  </thead>\n",
       "  <tbody>\n",
       "    <tr>\n",
       "      <th>count</th>\n",
       "      <td>25500.000000</td>\n",
       "      <td>25500.000000</td>\n",
       "      <td>25500.000000</td>\n",
       "      <td>25500.000000</td>\n",
       "      <td>2.550000e+04</td>\n",
       "      <td>25500.000000</td>\n",
       "      <td>25500.000000</td>\n",
       "      <td>25500.000000</td>\n",
       "      <td>25500.000000</td>\n",
       "    </tr>\n",
       "    <tr>\n",
       "      <th>mean</th>\n",
       "      <td>43011.959020</td>\n",
       "      <td>40047.777804</td>\n",
       "      <td>38657.944118</td>\n",
       "      <td>5721.081059</td>\n",
       "      <td>5.912399e+03</td>\n",
       "      <td>5195.790706</td>\n",
       "      <td>4851.610588</td>\n",
       "      <td>4847.703137</td>\n",
       "      <td>5248.818863</td>\n",
       "    </tr>\n",
       "    <tr>\n",
       "      <th>std</th>\n",
       "      <td>63681.324672</td>\n",
       "      <td>60026.412733</td>\n",
       "      <td>59003.614301</td>\n",
       "      <td>16819.669309</td>\n",
       "      <td>2.259416e+04</td>\n",
       "      <td>16745.180224</td>\n",
       "      <td>15980.476266</td>\n",
       "      <td>15559.835697</td>\n",
       "      <td>17901.580110</td>\n",
       "    </tr>\n",
       "    <tr>\n",
       "      <th>min</th>\n",
       "      <td>-170000.000000</td>\n",
       "      <td>-81334.000000</td>\n",
       "      <td>-339603.000000</td>\n",
       "      <td>0.000000</td>\n",
       "      <td>0.000000e+00</td>\n",
       "      <td>0.000000</td>\n",
       "      <td>0.000000</td>\n",
       "      <td>0.000000</td>\n",
       "      <td>0.000000</td>\n",
       "    </tr>\n",
       "    <tr>\n",
       "      <th>25%</th>\n",
       "      <td>2280.000000</td>\n",
       "      <td>1740.750000</td>\n",
       "      <td>1242.000000</td>\n",
       "      <td>1000.000000</td>\n",
       "      <td>8.360000e+02</td>\n",
       "      <td>390.000000</td>\n",
       "      <td>298.750000</td>\n",
       "      <td>243.750000</td>\n",
       "      <td>108.750000</td>\n",
       "    </tr>\n",
       "    <tr>\n",
       "      <th>50%</th>\n",
       "      <td>19010.000000</td>\n",
       "      <td>18067.000000</td>\n",
       "      <td>17001.500000</td>\n",
       "      <td>2111.500000</td>\n",
       "      <td>2.010000e+03</td>\n",
       "      <td>1826.500000</td>\n",
       "      <td>1500.000000</td>\n",
       "      <td>1500.000000</td>\n",
       "      <td>1500.000000</td>\n",
       "    </tr>\n",
       "    <tr>\n",
       "      <th>75%</th>\n",
       "      <td>54429.500000</td>\n",
       "      <td>50065.250000</td>\n",
       "      <td>49162.750000</td>\n",
       "      <td>5015.000000</td>\n",
       "      <td>5.000000e+03</td>\n",
       "      <td>4512.750000</td>\n",
       "      <td>4027.000000</td>\n",
       "      <td>4064.250000</td>\n",
       "      <td>4000.000000</td>\n",
       "    </tr>\n",
       "    <tr>\n",
       "      <th>max</th>\n",
       "      <td>706864.000000</td>\n",
       "      <td>587067.000000</td>\n",
       "      <td>699944.000000</td>\n",
       "      <td>873552.000000</td>\n",
       "      <td>1.684259e+06</td>\n",
       "      <td>889043.000000</td>\n",
       "      <td>621000.000000</td>\n",
       "      <td>426529.000000</td>\n",
       "      <td>528666.000000</td>\n",
       "    </tr>\n",
       "  </tbody>\n",
       "</table>\n",
       "</div>"
      ],
      "text/plain": [
       "           BILL_AMT4      BILL_AMT5      BILL_AMT6       PAY_AMT1  \\\n",
       "count   25500.000000   25500.000000   25500.000000   25500.000000   \n",
       "mean    43011.959020   40047.777804   38657.944118    5721.081059   \n",
       "std     63681.324672   60026.412733   59003.614301   16819.669309   \n",
       "min   -170000.000000  -81334.000000 -339603.000000       0.000000   \n",
       "25%      2280.000000    1740.750000    1242.000000    1000.000000   \n",
       "50%     19010.000000   18067.000000   17001.500000    2111.500000   \n",
       "75%     54429.500000   50065.250000   49162.750000    5015.000000   \n",
       "max    706864.000000  587067.000000  699944.000000  873552.000000   \n",
       "\n",
       "           PAY_AMT2       PAY_AMT3       PAY_AMT4       PAY_AMT5  \\\n",
       "count  2.550000e+04   25500.000000   25500.000000   25500.000000   \n",
       "mean   5.912399e+03    5195.790706    4851.610588    4847.703137   \n",
       "std    2.259416e+04   16745.180224   15980.476266   15559.835697   \n",
       "min    0.000000e+00       0.000000       0.000000       0.000000   \n",
       "25%    8.360000e+02     390.000000     298.750000     243.750000   \n",
       "50%    2.010000e+03    1826.500000    1500.000000    1500.000000   \n",
       "75%    5.000000e+03    4512.750000    4027.000000    4064.250000   \n",
       "max    1.684259e+06  889043.000000  621000.000000  426529.000000   \n",
       "\n",
       "            PAY_AMT6  \n",
       "count   25500.000000  \n",
       "mean     5248.818863  \n",
       "std     17901.580110  \n",
       "min         0.000000  \n",
       "25%       108.750000  \n",
       "50%      1500.000000  \n",
       "75%      4000.000000  \n",
       "max    528666.000000  "
      ]
     },
     "execution_count": 410,
     "metadata": {},
     "output_type": "execute_result"
    }
   ],
   "source": [
    "DF.iloc[:, 11:20].describe()"
   ]
  },
  {
   "cell_type": "markdown",
   "id": "4f00b8d2",
   "metadata": {},
   "source": [
    "**Выводы по описательным статистикам**: некоторые минимумы значений принимают отрицательные значения, а стандартные отклонения имеют очень большие значения и достаточно большой разброс, что говорит о неоднородности данных. Для работы с методами снижения размерности и регуляризации понадобится стандартизация значений.   "
   ]
  },
  {
   "cell_type": "markdown",
   "id": "e2288a5d",
   "metadata": {},
   "source": [
    "## Создание фиктивных переменных."
   ]
  },
  {
   "cell_type": "code",
   "execution_count": 411,
   "id": "5f77869e",
   "metadata": {},
   "outputs": [],
   "source": [
    "DF_copy = DF_raw.copy()\n",
    "categorical_cols = ['SEX','EDUCATION','MARRIAGE']\n",
    "DF_copy = pd.get_dummies(DF_copy, columns = categorical_cols)"
   ]
  },
  {
   "cell_type": "code",
   "execution_count": 412,
   "id": "44c83492",
   "metadata": {},
   "outputs": [
    {
     "data": {
      "text/html": [
       "<div>\n",
       "<style scoped>\n",
       "    .dataframe tbody tr th:only-of-type {\n",
       "        vertical-align: middle;\n",
       "    }\n",
       "\n",
       "    .dataframe tbody tr th {\n",
       "        vertical-align: top;\n",
       "    }\n",
       "\n",
       "    .dataframe thead th {\n",
       "        text-align: right;\n",
       "    }\n",
       "</style>\n",
       "<table border=\"1\" class=\"dataframe\">\n",
       "  <thead>\n",
       "    <tr style=\"text-align: right;\">\n",
       "      <th></th>\n",
       "      <th>LIMIT_BAL</th>\n",
       "      <th>AGE</th>\n",
       "      <th>PAY_0</th>\n",
       "      <th>PAY_2</th>\n",
       "      <th>PAY_3</th>\n",
       "      <th>PAY_4</th>\n",
       "      <th>PAY_5</th>\n",
       "      <th>PAY_6</th>\n",
       "      <th>BILL_AMT1</th>\n",
       "      <th>BILL_AMT2</th>\n",
       "      <th>BILL_AMT3</th>\n",
       "      <th>BILL_AMT4</th>\n",
       "      <th>BILL_AMT5</th>\n",
       "      <th>BILL_AMT6</th>\n",
       "      <th>PAY_AMT1</th>\n",
       "      <th>PAY_AMT2</th>\n",
       "      <th>PAY_AMT3</th>\n",
       "    </tr>\n",
       "  </thead>\n",
       "  <tbody>\n",
       "    <tr>\n",
       "      <th>0</th>\n",
       "      <td>20000</td>\n",
       "      <td>24</td>\n",
       "      <td>2</td>\n",
       "      <td>2</td>\n",
       "      <td>-1</td>\n",
       "      <td>-1</td>\n",
       "      <td>-2</td>\n",
       "      <td>-2</td>\n",
       "      <td>3913</td>\n",
       "      <td>3102</td>\n",
       "      <td>689</td>\n",
       "      <td>0</td>\n",
       "      <td>0</td>\n",
       "      <td>0</td>\n",
       "      <td>0</td>\n",
       "      <td>689</td>\n",
       "      <td>0</td>\n",
       "    </tr>\n",
       "    <tr>\n",
       "      <th>1</th>\n",
       "      <td>120000</td>\n",
       "      <td>26</td>\n",
       "      <td>-1</td>\n",
       "      <td>2</td>\n",
       "      <td>0</td>\n",
       "      <td>0</td>\n",
       "      <td>0</td>\n",
       "      <td>2</td>\n",
       "      <td>2682</td>\n",
       "      <td>1725</td>\n",
       "      <td>2682</td>\n",
       "      <td>3272</td>\n",
       "      <td>3455</td>\n",
       "      <td>3261</td>\n",
       "      <td>0</td>\n",
       "      <td>1000</td>\n",
       "      <td>1000</td>\n",
       "    </tr>\n",
       "    <tr>\n",
       "      <th>2</th>\n",
       "      <td>90000</td>\n",
       "      <td>34</td>\n",
       "      <td>0</td>\n",
       "      <td>0</td>\n",
       "      <td>0</td>\n",
       "      <td>0</td>\n",
       "      <td>0</td>\n",
       "      <td>0</td>\n",
       "      <td>29239</td>\n",
       "      <td>14027</td>\n",
       "      <td>13559</td>\n",
       "      <td>14331</td>\n",
       "      <td>14948</td>\n",
       "      <td>15549</td>\n",
       "      <td>1518</td>\n",
       "      <td>1500</td>\n",
       "      <td>1000</td>\n",
       "    </tr>\n",
       "    <tr>\n",
       "      <th>3</th>\n",
       "      <td>50000</td>\n",
       "      <td>37</td>\n",
       "      <td>0</td>\n",
       "      <td>0</td>\n",
       "      <td>0</td>\n",
       "      <td>0</td>\n",
       "      <td>0</td>\n",
       "      <td>0</td>\n",
       "      <td>46990</td>\n",
       "      <td>48233</td>\n",
       "      <td>49291</td>\n",
       "      <td>28314</td>\n",
       "      <td>28959</td>\n",
       "      <td>29547</td>\n",
       "      <td>2000</td>\n",
       "      <td>2019</td>\n",
       "      <td>1200</td>\n",
       "    </tr>\n",
       "    <tr>\n",
       "      <th>4</th>\n",
       "      <td>50000</td>\n",
       "      <td>57</td>\n",
       "      <td>-1</td>\n",
       "      <td>0</td>\n",
       "      <td>-1</td>\n",
       "      <td>0</td>\n",
       "      <td>0</td>\n",
       "      <td>0</td>\n",
       "      <td>8617</td>\n",
       "      <td>5670</td>\n",
       "      <td>35835</td>\n",
       "      <td>20940</td>\n",
       "      <td>19146</td>\n",
       "      <td>19131</td>\n",
       "      <td>2000</td>\n",
       "      <td>36681</td>\n",
       "      <td>10000</td>\n",
       "    </tr>\n",
       "  </tbody>\n",
       "</table>\n",
       "</div>"
      ],
      "text/plain": [
       "   LIMIT_BAL  AGE  PAY_0  PAY_2  PAY_3  PAY_4  PAY_5  PAY_6  BILL_AMT1  \\\n",
       "0      20000   24      2      2     -1     -1     -2     -2       3913   \n",
       "1     120000   26     -1      2      0      0      0      2       2682   \n",
       "2      90000   34      0      0      0      0      0      0      29239   \n",
       "3      50000   37      0      0      0      0      0      0      46990   \n",
       "4      50000   57     -1      0     -1      0      0      0       8617   \n",
       "\n",
       "   BILL_AMT2  BILL_AMT3  BILL_AMT4  BILL_AMT5  BILL_AMT6  PAY_AMT1  PAY_AMT2  \\\n",
       "0       3102        689          0          0          0         0       689   \n",
       "1       1725       2682       3272       3455       3261         0      1000   \n",
       "2      14027      13559      14331      14948      15549      1518      1500   \n",
       "3      48233      49291      28314      28959      29547      2000      2019   \n",
       "4       5670      35835      20940      19146      19131      2000     36681   \n",
       "\n",
       "   PAY_AMT3  \n",
       "0         0  \n",
       "1      1000  \n",
       "2      1000  \n",
       "3      1200  \n",
       "4     10000  "
      ]
     },
     "execution_count": 412,
     "metadata": {},
     "output_type": "execute_result"
    }
   ],
   "source": [
    "DF_copy.iloc[:, :17].head(5)"
   ]
  },
  {
   "cell_type": "code",
   "execution_count": 413,
   "id": "0400586c",
   "metadata": {
    "scrolled": true
   },
   "outputs": [
    {
     "data": {
      "text/html": [
       "<div>\n",
       "<style scoped>\n",
       "    .dataframe tbody tr th:only-of-type {\n",
       "        vertical-align: middle;\n",
       "    }\n",
       "\n",
       "    .dataframe tbody tr th {\n",
       "        vertical-align: top;\n",
       "    }\n",
       "\n",
       "    .dataframe thead th {\n",
       "        text-align: right;\n",
       "    }\n",
       "</style>\n",
       "<table border=\"1\" class=\"dataframe\">\n",
       "  <thead>\n",
       "    <tr style=\"text-align: right;\">\n",
       "      <th></th>\n",
       "      <th>PAY_AMT4</th>\n",
       "      <th>PAY_AMT5</th>\n",
       "      <th>PAY_AMT6</th>\n",
       "      <th>Y</th>\n",
       "      <th>SEX_1</th>\n",
       "      <th>SEX_2</th>\n",
       "      <th>EDUCATION_0</th>\n",
       "      <th>EDUCATION_1</th>\n",
       "      <th>EDUCATION_2</th>\n",
       "      <th>EDUCATION_3</th>\n",
       "      <th>EDUCATION_4</th>\n",
       "      <th>EDUCATION_5</th>\n",
       "      <th>EDUCATION_6</th>\n",
       "      <th>MARRIAGE_0</th>\n",
       "      <th>MARRIAGE_1</th>\n",
       "      <th>MARRIAGE_2</th>\n",
       "      <th>MARRIAGE_3</th>\n",
       "    </tr>\n",
       "  </thead>\n",
       "  <tbody>\n",
       "    <tr>\n",
       "      <th>0</th>\n",
       "      <td>0</td>\n",
       "      <td>0</td>\n",
       "      <td>0</td>\n",
       "      <td>1</td>\n",
       "      <td>0</td>\n",
       "      <td>1</td>\n",
       "      <td>0</td>\n",
       "      <td>0</td>\n",
       "      <td>1</td>\n",
       "      <td>0</td>\n",
       "      <td>0</td>\n",
       "      <td>0</td>\n",
       "      <td>0</td>\n",
       "      <td>0</td>\n",
       "      <td>1</td>\n",
       "      <td>0</td>\n",
       "      <td>0</td>\n",
       "    </tr>\n",
       "    <tr>\n",
       "      <th>1</th>\n",
       "      <td>1000</td>\n",
       "      <td>0</td>\n",
       "      <td>2000</td>\n",
       "      <td>1</td>\n",
       "      <td>0</td>\n",
       "      <td>1</td>\n",
       "      <td>0</td>\n",
       "      <td>0</td>\n",
       "      <td>1</td>\n",
       "      <td>0</td>\n",
       "      <td>0</td>\n",
       "      <td>0</td>\n",
       "      <td>0</td>\n",
       "      <td>0</td>\n",
       "      <td>0</td>\n",
       "      <td>1</td>\n",
       "      <td>0</td>\n",
       "    </tr>\n",
       "    <tr>\n",
       "      <th>2</th>\n",
       "      <td>1000</td>\n",
       "      <td>1000</td>\n",
       "      <td>5000</td>\n",
       "      <td>0</td>\n",
       "      <td>0</td>\n",
       "      <td>1</td>\n",
       "      <td>0</td>\n",
       "      <td>0</td>\n",
       "      <td>1</td>\n",
       "      <td>0</td>\n",
       "      <td>0</td>\n",
       "      <td>0</td>\n",
       "      <td>0</td>\n",
       "      <td>0</td>\n",
       "      <td>0</td>\n",
       "      <td>1</td>\n",
       "      <td>0</td>\n",
       "    </tr>\n",
       "    <tr>\n",
       "      <th>3</th>\n",
       "      <td>1100</td>\n",
       "      <td>1069</td>\n",
       "      <td>1000</td>\n",
       "      <td>0</td>\n",
       "      <td>0</td>\n",
       "      <td>1</td>\n",
       "      <td>0</td>\n",
       "      <td>0</td>\n",
       "      <td>1</td>\n",
       "      <td>0</td>\n",
       "      <td>0</td>\n",
       "      <td>0</td>\n",
       "      <td>0</td>\n",
       "      <td>0</td>\n",
       "      <td>1</td>\n",
       "      <td>0</td>\n",
       "      <td>0</td>\n",
       "    </tr>\n",
       "    <tr>\n",
       "      <th>4</th>\n",
       "      <td>9000</td>\n",
       "      <td>689</td>\n",
       "      <td>679</td>\n",
       "      <td>0</td>\n",
       "      <td>1</td>\n",
       "      <td>0</td>\n",
       "      <td>0</td>\n",
       "      <td>0</td>\n",
       "      <td>1</td>\n",
       "      <td>0</td>\n",
       "      <td>0</td>\n",
       "      <td>0</td>\n",
       "      <td>0</td>\n",
       "      <td>0</td>\n",
       "      <td>1</td>\n",
       "      <td>0</td>\n",
       "      <td>0</td>\n",
       "    </tr>\n",
       "  </tbody>\n",
       "</table>\n",
       "</div>"
      ],
      "text/plain": [
       "   PAY_AMT4  PAY_AMT5  PAY_AMT6  Y  SEX_1  SEX_2  EDUCATION_0  EDUCATION_1  \\\n",
       "0         0         0         0  1      0      1            0            0   \n",
       "1      1000         0      2000  1      0      1            0            0   \n",
       "2      1000      1000      5000  0      0      1            0            0   \n",
       "3      1100      1069      1000  0      0      1            0            0   \n",
       "4      9000       689       679  0      1      0            0            0   \n",
       "\n",
       "   EDUCATION_2  EDUCATION_3  EDUCATION_4  EDUCATION_5  EDUCATION_6  \\\n",
       "0            1            0            0            0            0   \n",
       "1            1            0            0            0            0   \n",
       "2            1            0            0            0            0   \n",
       "3            1            0            0            0            0   \n",
       "4            1            0            0            0            0   \n",
       "\n",
       "   MARRIAGE_0  MARRIAGE_1  MARRIAGE_2  MARRIAGE_3  \n",
       "0           0           1           0           0  \n",
       "1           0           0           1           0  \n",
       "2           0           0           1           0  \n",
       "3           0           1           0           0  \n",
       "4           0           1           0           0  "
      ]
     },
     "execution_count": 413,
     "metadata": {},
     "output_type": "execute_result"
    }
   ],
   "source": [
    "DF_copy.iloc[:, 17:].head(5)"
   ]
  },
  {
   "cell_type": "code",
   "execution_count": 414,
   "id": "e63744d0",
   "metadata": {},
   "outputs": [],
   "source": [
    "#SEX_1 - мужской пол\n",
    "\n",
    "#удаляем лишние фиктивные\n",
    "DF_copy = DF_copy.drop('SEX_2', axis=1)\n",
    "#в образовании появляются новые переменные 0, 5 и 6 их тоже удаляем\n",
    "DF_copy = DF_copy.drop('EDUCATION_0', axis=1)\n",
    "DF_copy = DF_copy.drop('EDUCATION_4', axis=1)\n",
    "DF_copy = DF_copy.drop('EDUCATION_5', axis=1)\n",
    "DF_copy = DF_copy.drop('EDUCATION_6', axis=1)\n",
    "#в семейном положении появляется новая переменная 0 ее тоже удаляем\n",
    "DF_copy = DF_copy.drop('MARRIAGE_0', axis=1)\n",
    "DF_copy = DF_copy.drop('MARRIAGE_3', axis=1)"
   ]
  },
  {
   "cell_type": "markdown",
   "id": "d3163b32",
   "metadata": {},
   "source": [
    "### Отложим 15% наблюдений для прогноза."
   ]
  },
  {
   "cell_type": "code",
   "execution_count": 415,
   "id": "32f0aff9",
   "metadata": {},
   "outputs": [],
   "source": [
    "# наблюдения для моделирования\n",
    "DF = DF_copy.sample(frac=0.85, random_state=my_seed)\n",
    "# отложенные наблюдения\n",
    "DF_predict = DF_copy.drop(DF.index)\n",
    "DF_predict = DF_copy.drop(DF.Y)"
   ]
  },
  {
   "cell_type": "markdown",
   "id": "e03e3bcf",
   "metadata": {},
   "source": [
    "## Визуализация разброса переменных внутри классов\n",
    "Построим коробчатые диаграммы для объясняющих переменных, чтобы сравнить средние уровни и разброс по классам."
   ]
  },
  {
   "cell_type": "code",
   "execution_count": 416,
   "id": "40a2af56",
   "metadata": {},
   "outputs": [
    {
     "data": {
      "image/png": "[encoded data removed]",
      "text/plain": [
       "<Figure size 864x360 with 5 Axes>"
      ]
     },
     "metadata": {},
     "output_type": "display_data"
    }
   ],
   "source": [
    "# создаём полотно и делим его на четыре части\n",
    "fig = plt.figure(figsize=(12, 5))\n",
    "gs = mpl.gridspec.GridSpec(1, 5)\n",
    "ax1 = plt.subplot(gs[0, 0])\n",
    "ax2 = plt.subplot(gs[0, 1])\n",
    "ax3 = plt.subplot(gs[0, 2])\n",
    "ax4 = plt.subplot(gs[0, 3])\n",
    "ax5 = plt.subplot(gs[0, 4])\n",
    "\n",
    "axs = [ax1, ax2, ax3, ax4, ax5]\n",
    "\n",
    "cols_loop = list(DF.columns[:5].values)\n",
    "for col_name in cols_loop :\n",
    "    i = cols_loop.index(col_name)\n",
    "    \n",
    "    sns.boxplot(x='Y', y=col_name, data=DF, ax=axs[i])\n",
    "    #g = sns.barplot(x='Y', y=col_name, data=DF, ax=axs[i])\n",
    "    #g.set_yscale(\"log\")\n",
    "    \n",
    "    axs[i].set_ylabel(col_name)\n",
    "    axs[i].set_title(col_name)\n",
    "\n",
    "# корректируем расположение графиков на полотне\n",
    "gs.tight_layout(plt.gcf())\n",
    "plt.show()"
   ]
  },
  {
   "cell_type": "code",
   "execution_count": 417,
   "id": "021ab382",
   "metadata": {},
   "outputs": [
    {
     "data": {
      "image/png": "[encoded data removed]",
      "text/plain": [
       "<Figure size 864x360 with 5 Axes>"
      ]
     },
     "metadata": {},
     "output_type": "display_data"
    }
   ],
   "source": [
    "# создаём полотно и делим его на четыре части\n",
    "fig = plt.figure(figsize=(12, 5))\n",
    "gs = mpl.gridspec.GridSpec(1, 5)\n",
    "ax1 = plt.subplot(gs[0, 0])\n",
    "ax2 = plt.subplot(gs[0, 1])\n",
    "ax3 = plt.subplot(gs[0, 2])\n",
    "ax4 = plt.subplot(gs[0, 3])\n",
    "ax5 = plt.subplot(gs[0, 4])\n",
    "\n",
    "axs = [ax1, ax2, ax3, ax4, ax5]\n",
    "\n",
    "cols_loop = list(DF.columns[10:15].values)\n",
    "for col_name in cols_loop :\n",
    "    i = cols_loop.index(col_name)\n",
    "    sns.boxplot(x='Y', y=col_name, data=DF, ax=axs[i])\n",
    "    #g = sns.barplot(x='Y', y=col_name, data=DF, ax=axs[i])\n",
    "    #g.set_yscale(\"log\")\n",
    "    axs[i].set_ylabel(col_name)\n",
    "    axs[i].set_title(col_name)\n",
    "\n",
    "# корректируем расположение графиков на полотне\n",
    "gs.tight_layout(plt.gcf())\n",
    "plt.show()"
   ]
  },
  {
   "cell_type": "code",
   "execution_count": 418,
   "id": "d691e1e0",
   "metadata": {},
   "outputs": [
    {
     "data": {
      "image/png": "[encoded data removed]",
      "text/plain": [
       "<Figure size 864x360 with 5 Axes>"
      ]
     },
     "metadata": {},
     "output_type": "display_data"
    }
   ],
   "source": [
    "# создаём полотно и делим его на четыре части\n",
    "fig = plt.figure(figsize=(12, 5))\n",
    "gs = mpl.gridspec.GridSpec(1, 5)\n",
    "ax1 = plt.subplot(gs[0, 0])\n",
    "ax2 = plt.subplot(gs[0, 1])\n",
    "ax3 = plt.subplot(gs[0, 2])\n",
    "ax4 = plt.subplot(gs[0, 3])\n",
    "ax5 = plt.subplot(gs[0, 4])\n",
    "\n",
    "axs = [ax1, ax2, ax3, ax4, ax5]\n",
    "\n",
    "cols_loop = list(DF.columns[15:20].values)\n",
    "for col_name in cols_loop :\n",
    "    i = cols_loop.index(col_name)\n",
    "    #sns.boxplot(x='Y', y=col_name, data=DF, ax=axs[i])\n",
    "    g = sns.barplot(x='Y', y=col_name, data=DF, ax=axs[i])\n",
    "    g.set_yscale(\"log\")\n",
    "    axs[i].set_ylabel(col_name)\n",
    "    axs[i].set_title(col_name)\n",
    "\n",
    "# корректируем расположение графиков на полотне\n",
    "gs.tight_layout(plt.gcf())\n",
    "plt.show()"
   ]
  },
  {
   "cell_type": "markdown",
   "id": "883b6407",
   "metadata": {},
   "source": [
    "Только на графиках `PAY_0` и `PAY_2` можно наблюдать хорошее разделение по классам, остальные практически не различаются. Это говорит о том, классы по зависимой переменной `Y` плохо разделяются по всем объясняющим переменным.  "
   ]
  },
  {
   "cell_type": "markdown",
   "id": "be6b3443",
   "metadata": {},
   "source": [
    "## Корреляционный анализ\n",
    "Теперь посмотрим на взаимодействие объясняющих переменных.  "
   ]
  },
  {
   "cell_type": "code",
   "execution_count": 419,
   "id": "8e553ffa",
   "metadata": {},
   "outputs": [
    {
     "data": {
      "image/png": "[encoded data removed]",
      "text/plain": [
       "<Figure size 720x576 with 2 Axes>"
      ]
     },
     "metadata": {},
     "output_type": "display_data"
    }
   ],
   "source": [
    "# рассчитываем корреляционную матрицу\n",
    "corr_mat = DF.drop('Y', axis=1).corr()\n",
    "col_names = DF.drop('Y', axis=1).columns\n",
    "\n",
    "# переключаем стиль оформления, чтобы убрать сетку с тепловой карты\n",
    "mpl.style.use('seaborn-white')\n",
    "\n",
    "# рисуем корреляционную матрицу\n",
    "f = plt.figure(figsize=(10, 8))\n",
    "plt.matshow(corr_mat, fignum=f.number, cmap='PiYG')\n",
    "# координаты для названий строк и столбцов\n",
    "tics_coords = np.arange(0, len(col_names))\n",
    "# рисуем подписи\n",
    "plt.xticks(tics_coords, col_names, fontsize=14, rotation=90)\n",
    "plt.yticks(tics_coords, col_names, fontsize=14)\n",
    "# настраиваем легенду справа от тепловой карты\n",
    "cb = plt.colorbar()\n",
    "cb.ax.tick_params(labelsize=14)\n",
    "cb.ax.tick_params(labelsize=14)\n",
    "plt.show()"
   ]
  },
  {
   "cell_type": "markdown",
   "id": "2ad89129",
   "metadata": {},
   "source": [
    "#### Вывод по тепловой карте\n",
    "\n",
    "Более тесные положительные связи прослеживаются между переменными `BILL_AMT1, BILL_AMT1, ..., BILL_AMT6`, чуть менее тесные положительные - `PAY_0, PAY_1, ..., PAY_6`. \n",
    "\n",
    "Также видно и тесные отрицательные связи между `SEX_1` и `SEX_2`, а также `MARRIAGE_1` и `MARRIAGE_2`."
   ]
  },
  {
   "cell_type": "code",
   "execution_count": 420,
   "id": "5f50c813",
   "metadata": {},
   "outputs": [
    {
     "data": {
      "text/html": [
       "<div>\n",
       "<style scoped>\n",
       "    .dataframe tbody tr th:only-of-type {\n",
       "        vertical-align: middle;\n",
       "    }\n",
       "\n",
       "    .dataframe tbody tr th {\n",
       "        vertical-align: top;\n",
       "    }\n",
       "\n",
       "    .dataframe thead th {\n",
       "        text-align: right;\n",
       "    }\n",
       "</style>\n",
       "<table border=\"1\" class=\"dataframe\">\n",
       "  <thead>\n",
       "    <tr style=\"text-align: right;\">\n",
       "      <th></th>\n",
       "      <th>Показатель_1</th>\n",
       "      <th>Показатель_2</th>\n",
       "      <th>Корреляция</th>\n",
       "      <th>P_значение</th>\n",
       "    </tr>\n",
       "  </thead>\n",
       "  <tbody>\n",
       "    <tr>\n",
       "      <th>324</th>\n",
       "      <td>MARRIAGE_1</td>\n",
       "      <td>MARRIAGE_2</td>\n",
       "      <td>-0.975374</td>\n",
       "      <td>0.0</td>\n",
       "    </tr>\n",
       "    <tr>\n",
       "      <th>315</th>\n",
       "      <td>EDUCATION_1</td>\n",
       "      <td>EDUCATION_2</td>\n",
       "      <td>-0.690309</td>\n",
       "      <td>0.0</td>\n",
       "    </tr>\n",
       "    <tr>\n",
       "      <th>48</th>\n",
       "      <td>AGE</td>\n",
       "      <td>MARRIAGE_2</td>\n",
       "      <td>-0.466652</td>\n",
       "      <td>0.0</td>\n",
       "    </tr>\n",
       "    <tr>\n",
       "      <th>319</th>\n",
       "      <td>EDUCATION_2</td>\n",
       "      <td>EDUCATION_3</td>\n",
       "      <td>-0.415212</td>\n",
       "      <td>0.0</td>\n",
       "    </tr>\n",
       "    <tr>\n",
       "      <th>316</th>\n",
       "      <td>EDUCATION_1</td>\n",
       "      <td>EDUCATION_3</td>\n",
       "      <td>-0.328761</td>\n",
       "      <td>0.0</td>\n",
       "    </tr>\n",
       "    <tr>\n",
       "      <th>...</th>\n",
       "      <td>...</td>\n",
       "      <td>...</td>\n",
       "      <td>...</td>\n",
       "      <td>...</td>\n",
       "    </tr>\n",
       "    <tr>\n",
       "      <th>205</th>\n",
       "      <td>BILL_AMT3</td>\n",
       "      <td>BILL_AMT4</td>\n",
       "      <td>0.920791</td>\n",
       "      <td>0.0</td>\n",
       "    </tr>\n",
       "    <tr>\n",
       "      <th>189</th>\n",
       "      <td>BILL_AMT2</td>\n",
       "      <td>BILL_AMT3</td>\n",
       "      <td>0.925152</td>\n",
       "      <td>0.0</td>\n",
       "    </tr>\n",
       "    <tr>\n",
       "      <th>220</th>\n",
       "      <td>BILL_AMT4</td>\n",
       "      <td>BILL_AMT5</td>\n",
       "      <td>0.938409</td>\n",
       "      <td>0.0</td>\n",
       "    </tr>\n",
       "    <tr>\n",
       "      <th>234</th>\n",
       "      <td>BILL_AMT5</td>\n",
       "      <td>BILL_AMT6</td>\n",
       "      <td>0.944524</td>\n",
       "      <td>0.0</td>\n",
       "    </tr>\n",
       "    <tr>\n",
       "      <th>172</th>\n",
       "      <td>BILL_AMT1</td>\n",
       "      <td>BILL_AMT2</td>\n",
       "      <td>0.951484</td>\n",
       "      <td>0.0</td>\n",
       "    </tr>\n",
       "  </tbody>\n",
       "</table>\n",
       "<p>325 rows × 4 columns</p>\n",
       "</div>"
      ],
      "text/plain": [
       "    Показатель_1 Показатель_2  Корреляция  P_значение\n",
       "324   MARRIAGE_1   MARRIAGE_2   -0.975374         0.0\n",
       "315  EDUCATION_1  EDUCATION_2   -0.690309         0.0\n",
       "48           AGE   MARRIAGE_2   -0.466652         0.0\n",
       "319  EDUCATION_2  EDUCATION_3   -0.415212         0.0\n",
       "316  EDUCATION_1  EDUCATION_3   -0.328761         0.0\n",
       "..           ...          ...         ...         ...\n",
       "205    BILL_AMT3    BILL_AMT4    0.920791         0.0\n",
       "189    BILL_AMT2    BILL_AMT3    0.925152         0.0\n",
       "220    BILL_AMT4    BILL_AMT5    0.938409         0.0\n",
       "234    BILL_AMT5    BILL_AMT6    0.944524         0.0\n",
       "172    BILL_AMT1    BILL_AMT2    0.951484         0.0\n",
       "\n",
       "[325 rows x 4 columns]"
      ]
     },
     "execution_count": 420,
     "metadata": {},
     "output_type": "execute_result"
    }
   ],
   "source": [
    "# делаем фрейм из корреляционной матрицы и стираем диагональные значения\n",
    "#  и нижний треугольник матрицы\n",
    "df = corr_mat\n",
    "df = df.where(np.triu(np.ones(df.shape), k=1).astype(bool))\n",
    "# меняем размерность с матрицы на таблицу: показатель 1, показатель 2,\n",
    "#  корреляция\n",
    "df = df.stack().reset_index()\n",
    "df.columns = ['Показатель_1', 'Показатель_2', 'Корреляция']\n",
    "# считаем двусторонние p-значения для проверки значимости\n",
    "t_stat = np.sqrt((len(DF.index) - 2) / (1 - df.Корреляция ** 2))\n",
    "df['P_значение'] = 2 * (1 - t.cdf(abs(t_stat), len(DF.index) - 2))\n",
    "# получили все корреляционные коэффициенты без 1 и без повторов\n",
    "#  выводим все значимые с сортировкой\n",
    "df.loc[df['P_значение'] < 0.05].sort_values('Корреляция')"
   ]
  },
  {
   "cell_type": "markdown",
   "id": "549eb454",
   "metadata": {},
   "source": [
    "Как и было сказано выше, самая сильная обратная связь между `MARRIAGE_1` и `MARRIAGE_2`, а прямая между `BILL_AMT1` и `BILL_AMT2`."
   ]
  },
  {
   "cell_type": "code",
   "execution_count": null,
   "id": "6645b6a4",
   "metadata": {},
   "outputs": [],
   "source": []
  },
  {
   "cell_type": "markdown",
   "id": "d3a48810",
   "metadata": {},
   "source": [
    "# Модель дерева  \n",
    "\n",
    "В этом разделе построим:  \n",
    "\n",
    "* дерево классификации  \n",
    "* дерево классификации с обрезкой ветвей  \n",
    "\n",
    "\n",
    "## Дерево на всех признаках    \n",
    "\n",
    "Построим модель и выведем изображение дерева в виде текста.  "
   ]
  },
  {
   "cell_type": "code",
   "execution_count": 421,
   "id": "688312d9",
   "metadata": {},
   "outputs": [
    {
     "data": {
      "text/plain": [
       "3650"
      ]
     },
     "execution_count": 421,
     "metadata": {},
     "output_type": "execute_result"
    }
   ],
   "source": [
    "# выращиваем дерево на всех объясняющих\n",
    "X = DF.drop(['Y'], axis=1)\n",
    "y = DF['Y']\n",
    "\n",
    "# классификатор\n",
    "cls_one_tree = DecisionTreeClassifier(criterion='entropy',\n",
    "                                      random_state=my_seed)\n",
    "\n",
    "tree_full = cls_one_tree.fit(X, y)\n",
    "\n",
    "# выводим количество листьев (количество конечных узлов)\n",
    "tree_full.get_n_leaves()"
   ]
  },
  {
   "cell_type": "code",
   "execution_count": 422,
   "id": "cce2b6f3",
   "metadata": {},
   "outputs": [
    {
     "data": {
      "text/plain": [
       "59"
      ]
     },
     "execution_count": 422,
     "metadata": {},
     "output_type": "execute_result"
    }
   ],
   "source": [
    "# глубина дерева: количество узлов от корня до листа\n",
    "#  в самой длинной ветви\n",
    "tree_full.get_depth()"
   ]
  },
  {
   "cell_type": "markdown",
   "id": "4fa61de0",
   "metadata": {},
   "source": [
    "Очевидно, дерево получилось слишком большое для отображения в текстовом формате. Графическая визуализация тоже не поможет в данном случае. Посчитаем показатели точности с перекрёстной проверкой.   "
   ]
  },
  {
   "cell_type": "code",
   "execution_count": 423,
   "id": "a0127bc8",
   "metadata": {},
   "outputs": [
    {
     "name": "stdout",
     "output_type": "stream",
     "text": [
      "Acc с перекрёстной проверкой \n",
      "для модели one_tree : 0.732\n"
     ]
    }
   ],
   "source": [
    "# будем сохранять точность моделей в один массив:\n",
    "score = list()\n",
    "score_models = list()\n",
    "\n",
    "# считаем точность с перекрёстной проверкой, показатель Acc\n",
    "cv = cross_val_score(estimator=cls_one_tree, X=X, y=y, cv=5,\n",
    "                     scoring='accuracy')\n",
    "\n",
    "# записываем точность\n",
    "score.append(np.around(np.mean(cv), 3))\n",
    "score_models.append('one_tree')\n",
    "\n",
    "print('Acc с перекрёстной проверкой',\n",
    "      '\\nдля модели', score_models[0], ':', score[0])"
   ]
  },
  {
   "cell_type": "markdown",
   "id": "e66a2df5",
   "metadata": {},
   "source": [
    "## Дерево с обрезкой ветвей   \n",
    "\n",
    "Подберём оптимальное количество ветвей, которое максимизирует $Acc$, для экономии времени рассчитанный методом проверочной выборки.  "
   ]
  },
  {
   "cell_type": "code",
   "execution_count": 424,
   "id": "2935464d",
   "metadata": {},
   "outputs": [
    {
     "name": "stdout",
     "output_type": "stream",
     "text": [
      "Всего значений alpha: 1621\n",
      "Энтропия листьев для первых 5 значений alpha: [0.00126528 0.00128451 0.00130373 0.00135256 0.00140139]\n"
     ]
    }
   ],
   "source": [
    "# рассчитываем параметры alpha для эффективных вариантов обрезки ветвей\n",
    "path = cls_one_tree.cost_complexity_pruning_path(X, y)\n",
    "ccp_alphas, impurities = path.ccp_alphas, path.impurities\n",
    "print('Всего значений alpha:', len(ccp_alphas))\n",
    "print('Энтропия листьев для первых 5 значений alpha:', impurities[:5])"
   ]
  },
  {
   "cell_type": "code",
   "execution_count": 425,
   "id": "701c413e",
   "metadata": {},
   "outputs": [
    {
     "data": {
      "image/png": "[encoded data removed]",
      "text/plain": [
       "<Figure size 432x288 with 1 Axes>"
      ]
     },
     "metadata": {},
     "output_type": "display_data"
    }
   ],
   "source": [
    "# изображаем на графике\n",
    "plt.plot(ccp_alphas[:-1], impurities[:-1], marker=',', drawstyle=\"steps-post\")\n",
    "plt.xlabel(\"значение гиперпараметра alpha\")\n",
    "plt.ylabel(\"общая энтропия листьев дерева\")\n",
    "plt.title(\"Изменение показателя нечистоты узлов с ростом alpha\")\n",
    "plt.show()"
   ]
  },
  {
   "cell_type": "code",
   "execution_count": 431,
   "id": "d3276234",
   "metadata": {},
   "outputs": [
    {
     "name": "stdout",
     "output_type": "stream",
     "text": [
      "Расчёты по обрезке дерева заняли 760.98 секунд\n"
     ]
    }
   ],
   "source": [
    "# обучающая и тестовая выборки, чтобы сэкономить время\n",
    "my_seed= 9213\n",
    "X_train, X_test, y_train, y_test = train_test_split(X, y, \n",
    "                                                    random_state=my_seed)\n",
    "\n",
    "# модели\n",
    "clfs = list()\n",
    "\n",
    "# таймер\n",
    "tic = time.perf_counter()\n",
    "# цикл по значениям alpha\n",
    "for ccp_alpha in ccp_alphas:\n",
    "    clf = DecisionTreeClassifier(random_state=my_seed, ccp_alpha=ccp_alpha)\n",
    "    clf.fit(X_train, y_train)\n",
    "    clfs.append(clf)\n",
    "\n",
    "# таймер\n",
    "toc = time.perf_counter()\n",
    "print(f\"Расчёты по обрезке дерева заняли {toc - tic:0.2f} секунд\")"
   ]
  },
  {
   "cell_type": "code",
   "execution_count": 432,
   "id": "33434419",
   "metadata": {},
   "outputs": [
    {
     "name": "stdout",
     "output_type": "stream",
     "text": [
      "Расчёты показателей точности заняли 19.40 секунд\n"
     ]
    }
   ],
   "source": [
    "# извлекаем характеристики глубины и точности\n",
    "#  таймер\n",
    "tic = time.perf_counter()\n",
    "node_counts = [clf.tree_.node_count for clf in clfs]\n",
    "train_scores = [clf.score(X_train, y_train) for clf in clfs]\n",
    "test_scores = [clf.score(X_test, y_test) for clf in clfs]\n",
    "#  таймер\n",
    "toc = time.perf_counter()\n",
    "print(f\"Расчёты показателей точности заняли {toc - tic:0.2f} секунд\")"
   ]
  },
  {
   "cell_type": "code",
   "execution_count": 433,
   "id": "f502a713",
   "metadata": {},
   "outputs": [
    {
     "data": {
      "image/png": "[encoded data removed]",
      "text/plain": [
       "<Figure size 432x288 with 2 Axes>"
      ]
     },
     "metadata": {},
     "output_type": "display_data"
    }
   ],
   "source": [
    "# изображаем на графике\n",
    "fig, ax = plt.subplots(1, 2)\n",
    "\n",
    "# график глубины дерева\n",
    "ax[0].plot(ccp_alphas, node_counts, marker=',', drawstyle=\"steps-post\")\n",
    "ax[0].set_xlabel(\"значение гиперпараметра alpha\")\n",
    "ax[0].set_ylabel(\"количество узлов\")\n",
    "ax[0].set_title(\"Сложность модели vs alpha\")\n",
    "\n",
    "# график точности\n",
    "ax[1].plot(ccp_alphas, train_scores, marker=',', label='train',\n",
    "           drawstyle=\"steps-post\")\n",
    "ax[1].plot(ccp_alphas, test_scores, marker=',', label='test',\n",
    "           drawstyle=\"steps-post\")\n",
    "ax[1].set_xlabel(\"значение гиперпараметра alpha\")\n",
    "ax[1].set_ylabel(\"Acc\")\n",
    "ax[1].set_title(\"Точность модели  vs alpha\")\n",
    "ax[1].legend()\n",
    "fig.tight_layout()"
   ]
  },
  {
   "cell_type": "markdown",
   "id": "42254d2b",
   "metadata": {},
   "source": [
    "Находим оптимальный размер дерева по максимуму $Acc$ на тестовой выборке.  "
   ]
  },
  {
   "cell_type": "code",
   "execution_count": 434,
   "id": "22746203",
   "metadata": {},
   "outputs": [
    {
     "name": "stdout",
     "output_type": "stream",
     "text": [
      "Оптимальное количество узлов: 45 \n",
      "соответствующая Acc на тестовой: 0.822 \n",
      "\n",
      "Acc с перекрёстной проверкой \n",
      "для модели pruned_tree : 0.745\n"
     ]
    }
   ],
   "source": [
    "# оптимальное количество узлов\n",
    "opt_nodes_num = node_counts[test_scores.index(max(test_scores))]\n",
    "\n",
    "# считаем точность с перекрёстной проверкой, показатель Acc\n",
    "cv = cross_val_score(estimator=clfs[opt_nodes_num], X=X, y=y, cv=5,\n",
    "                    scoring='accuracy')\n",
    "\n",
    "# записываем точность\n",
    "score.append(np.around(np.mean(cv), 3))\n",
    "score_models.append('pruned_tree')\n",
    "\n",
    "print('Оптимальное количество узлов:', opt_nodes_num,\n",
    "      '\\nсоответствующая Acc на тестовой:', np.around(max(test_scores), 3),\n",
    "      '\\n\\nAcc с перекрёстной проверкой',\n",
    "      '\\nдля модели', score_models[1], ':', score[1])"
   ]
  },
  {
   "cell_type": "markdown",
   "id": "be66ffe3",
   "metadata": {},
   "source": [
    "Посмотрим на характеристики глубины и сложности построенного дерева с обрезкой ветвей."
   ]
  },
  {
   "cell_type": "code",
   "execution_count": 435,
   "id": "9d36d60b",
   "metadata": {},
   "outputs": [
    {
     "data": {
      "text/plain": [
       "2030"
      ]
     },
     "execution_count": 435,
     "metadata": {},
     "output_type": "execute_result"
    }
   ],
   "source": [
    "# выводим количество листьев (количество узлов)\n",
    "clfs[opt_nodes_num].get_n_leaves()"
   ]
  },
  {
   "cell_type": "code",
   "execution_count": 436,
   "id": "be182d99",
   "metadata": {},
   "outputs": [
    {
     "data": {
      "text/plain": [
       "34"
      ]
     },
     "execution_count": 436,
     "metadata": {},
     "output_type": "execute_result"
    }
   ],
   "source": [
    "# глубина дерева: количество узлов от корня до листа\n",
    "#  в самой длинной ветви\n",
    "clfs[opt_nodes_num].get_depth()"
   ]
  },
  {
   "cell_type": "markdown",
   "id": "55d3d3e8",
   "metadata": {},
   "source": [
    "---\n",
    "\n",
    "📚 **Пример визуализации небольшого дерева**\n",
    "\n",
    "Лучшее дерево с обрезкой по-прежнему слишком велико для визуализации. Для примера нарисуем одно из небольших деревьев с обрезкой и выведем его же в виде текста.  "
   ]
  },
  {
   "cell_type": "code",
   "execution_count": 437,
   "id": "c7e4eba9",
   "metadata": {},
   "outputs": [
    {
     "data": {
      "text/plain": [
       "[19, 15, 15, 15, 15, 15, 13, 13, 13, 13, 13, 9, 9, 9, 7, 7, 7, 7, 5, 5, 3, 1]"
      ]
     },
     "execution_count": 437,
     "metadata": {},
     "output_type": "execute_result"
    }
   ],
   "source": [
    "# находим деревья с количеством листьев меньше 20\n",
    "[i for i in node_counts if i < 20]"
   ]
  },
  {
   "cell_type": "code",
   "execution_count": 439,
   "id": "af09592a",
   "metadata": {},
   "outputs": [
    {
     "name": "stdout",
     "output_type": "stream",
     "text": [
      "Количество узлов: 19 \n",
      "Точность дерева на тестовой: 0.819\n"
     ]
    },
    {
     "data": {
      "image/png": "[encoded data removed]",
      "text/plain": [
       "<Figure size 1800x1440 with 1 Axes>"
      ]
     },
     "metadata": {},
     "output_type": "display_data"
    }
   ],
   "source": [
    "# визуализация на схеме НА ПРИМЕРЕ МАЛЕНЬКОГО ДЕРЕВА\n",
    "nodes_num = 19\n",
    "print('Количество узлов:', nodes_num,\n",
    "      '\\nТочность дерева на тестовой:', \n",
    "      np.around(test_scores[node_counts.index(nodes_num)], 3))\n",
    "\n",
    "fig = plt.figure(figsize=(25,20))\n",
    "_ = plot_tree(clfs[node_counts.index(nodes_num)], \n",
    "              filled=True, \n",
    "              feature_names=list(X.columns))"
   ]
  },
  {
   "cell_type": "code",
   "execution_count": 440,
   "id": "f46adc5c",
   "metadata": {},
   "outputs": [
    {
     "name": "stdout",
     "output_type": "stream",
     "text": [
      "|--- PAY_0 <= 1.50\n",
      "|   |--- PAY_2 <= 1.50\n",
      "|   |   |--- PAY_AMT3 <= 621.50\n",
      "|   |   |   |--- BILL_AMT1 <= 714.00\n",
      "|   |   |   |   |--- class: 0\n",
      "|   |   |   |--- BILL_AMT1 >  714.00\n",
      "|   |   |   |   |--- LIMIT_BAL <= 65000.00\n",
      "|   |   |   |   |   |--- class: 0\n",
      "|   |   |   |   |--- LIMIT_BAL >  65000.00\n",
      "|   |   |   |   |   |--- class: 0\n",
      "|   |   |--- PAY_AMT3 >  621.50\n",
      "|   |   |   |--- PAY_4 <= 1.50\n",
      "|   |   |   |   |--- LIMIT_BAL <= 75000.00\n",
      "|   |   |   |   |   |--- class: 0\n",
      "|   |   |   |   |--- LIMIT_BAL >  75000.00\n",
      "|   |   |   |   |   |--- BILL_AMT1 <= 1058.50\n",
      "|   |   |   |   |   |   |--- class: 0\n",
      "|   |   |   |   |   |--- BILL_AMT1 >  1058.50\n",
      "|   |   |   |   |   |   |--- class: 0\n",
      "|   |   |   |--- PAY_4 >  1.50\n",
      "|   |   |   |   |--- class: 0\n",
      "|   |--- PAY_2 >  1.50\n",
      "|   |   |--- class: 0\n",
      "|--- PAY_0 >  1.50\n",
      "|   |--- PAY_5 <= 1.00\n",
      "|   |   |--- class: 1\n",
      "|   |--- PAY_5 >  1.00\n",
      "|   |   |--- class: 1\n",
      "\n"
     ]
    }
   ],
   "source": [
    "# визуализируем дерево в виде текстовой схемы\n",
    "viz = export_text(clfs[node_counts.index(nodes_num)], \n",
    "                  feature_names=list(X.columns))\n",
    "print(viz)"
   ]
  },
  {
   "cell_type": "markdown",
   "id": "061a0c22",
   "metadata": {},
   "source": [
    "---\n",
    "\n",
    "# Бэггинг  \n",
    "\n",
    "Модель бэггинга использует бутстреп, чтобы вырастить $B$ деревьев на выборках с повторами из обучающих данных. Построим модель для $B=50$ деревьев.  "
   ]
  },
  {
   "cell_type": "code",
   "execution_count": 441,
   "id": "c1e2e90c",
   "metadata": {},
   "outputs": [
    {
     "name": "stdout",
     "output_type": "stream",
     "text": [
      "Обучение модели с бэггингом на 50 деревьях и перекрёстной проверкой заняло 86.70 секунд\n"
     ]
    }
   ],
   "source": [
    "# параметр B: количество деревьев\n",
    "num_trees = 50\n",
    "\n",
    "# разбиения для перекрёстной проверки\n",
    "kfold = KFold(n_splits=5, random_state=my_seed, shuffle=True)\n",
    "\n",
    "# таймер\n",
    "tic = time.perf_counter()\n",
    "# модель с бэггингом\n",
    "tree_bag = BaggingClassifier(base_estimator=cls_one_tree,\n",
    "                             n_estimators=num_trees,\n",
    "                             random_state=my_seed)\n",
    "\n",
    "cv = cross_val_score(tree_bag, X, y, cv=kfold)\n",
    "\n",
    "# таймер\n",
    "toc = time.perf_counter()\n",
    "print(f\"Обучение модели с бэггингом на {num_trees:0.0f} деревьях\", \n",
    "      \" и перекрёстной проверкой \", \n",
    "      f\"заняло {toc - tic:0.2f} секунд\", sep='')"
   ]
  },
  {
   "cell_type": "code",
   "execution_count": 442,
   "id": "0221cd4a",
   "metadata": {},
   "outputs": [
    {
     "data": {
      "text/plain": [
       "0.814"
      ]
     },
     "execution_count": 442,
     "metadata": {},
     "output_type": "execute_result"
    }
   ],
   "source": [
    "# точность\n",
    "np.around(np.mean(cv), 3)"
   ]
  },
  {
   "cell_type": "markdown",
   "id": "ba7ecbf3",
   "metadata": {},
   "source": [
    "Итак, мы построили модель, выбрав параметр $B$ случайным образом. Воспользуемся функцией `GridSearchCV()`, чтобы перебрать 5 вариантов значений для параметра $B$.  "
   ]
  },
  {
   "cell_type": "code",
   "execution_count": 443,
   "id": "0895547b",
   "metadata": {},
   "outputs": [
    {
     "name": "stdout",
     "output_type": "stream",
     "text": [
      "Сеточный поиск занял 258.59 секунд\n"
     ]
    }
   ],
   "source": [
    "# настроим параметры бэггинга с помощью сеточного поиска\n",
    "param_grid = {'n_estimators' : [10, 20, 30, 40, 50]}\n",
    "\n",
    "# таймер\n",
    "tic = time.perf_counter()\n",
    "clf = GridSearchCV(BaggingClassifier(DecisionTreeClassifier()),\n",
    "                  param_grid, scoring='accuracy', cv=kfold)\n",
    "\n",
    "tree_bag = clf.fit(X, y)\n",
    "# таймер\n",
    "toc = time.perf_counter()\n",
    "print(f\"Сеточный поиск занял {toc - tic:0.2f} секунд\", sep='')"
   ]
  },
  {
   "cell_type": "code",
   "execution_count": 444,
   "id": "0d14e6f0",
   "metadata": {},
   "outputs": [
    {
     "data": {
      "text/plain": [
       "0.814"
      ]
     },
     "execution_count": 444,
     "metadata": {},
     "output_type": "execute_result"
    }
   ],
   "source": [
    "# точность лучшей модели\n",
    "np.around(tree_bag.best_score_, 3)"
   ]
  },
  {
   "cell_type": "code",
   "execution_count": 445,
   "id": "b6bc0aeb",
   "metadata": {},
   "outputs": [
    {
     "data": {
      "text/plain": [
       "{'n_estimators': 50}"
      ]
     },
     "execution_count": 445,
     "metadata": {},
     "output_type": "execute_result"
    }
   ],
   "source": [
    "# количество деревьев у лучшей модели\n",
    "tree_bag.best_params_"
   ]
  },
  {
   "cell_type": "code",
   "execution_count": 446,
   "id": "81d046b3",
   "metadata": {},
   "outputs": [
    {
     "data": {
      "text/plain": [
       "{'base_estimator__ccp_alpha': 0.0,\n",
       " 'base_estimator__class_weight': None,\n",
       " 'base_estimator__criterion': 'gini',\n",
       " 'base_estimator__max_depth': None,\n",
       " 'base_estimator__max_features': None,\n",
       " 'base_estimator__max_leaf_nodes': None,\n",
       " 'base_estimator__min_impurity_decrease': 0.0,\n",
       " 'base_estimator__min_impurity_split': None,\n",
       " 'base_estimator__min_samples_leaf': 1,\n",
       " 'base_estimator__min_samples_split': 2,\n",
       " 'base_estimator__min_weight_fraction_leaf': 0.0,\n",
       " 'base_estimator__random_state': None,\n",
       " 'base_estimator__splitter': 'best',\n",
       " 'base_estimator': DecisionTreeClassifier(),\n",
       " 'bootstrap': True,\n",
       " 'bootstrap_features': False,\n",
       " 'max_features': 1.0,\n",
       " 'max_samples': 1.0,\n",
       " 'n_estimators': 50,\n",
       " 'n_jobs': None,\n",
       " 'oob_score': False,\n",
       " 'random_state': None,\n",
       " 'verbose': 0,\n",
       " 'warm_start': False}"
      ]
     },
     "execution_count": 446,
     "metadata": {},
     "output_type": "execute_result"
    }
   ],
   "source": [
    "tree_bag.best_estimator_.get_params()"
   ]
  },
  {
   "cell_type": "markdown",
   "id": "5f2b835b",
   "metadata": {},
   "source": [
    "Таким образом, перебрав несколько вариантов для $B$, мы немного улучшили первоначальную точность модели бэггинга.  "
   ]
  },
  {
   "cell_type": "code",
   "execution_count": 447,
   "id": "1c66b71f",
   "metadata": {},
   "outputs": [
    {
     "name": "stdout",
     "output_type": "stream",
     "text": [
      "Acc с перекрёстной проверкой \n",
      "для модели bagging_GS : 0.814\n"
     ]
    }
   ],
   "source": [
    "# записываем точность\n",
    "score.append(np.around(tree_bag.best_score_, 3))\n",
    "score_models.append('bagging_GS')\n",
    "\n",
    "print('Acc с перекрёстной проверкой',\n",
    "      '\\nдля модели', score_models[2], ':', score[2])"
   ]
  },
  {
   "cell_type": "markdown",
   "id": "041010d5",
   "metadata": {},
   "source": [
    "\n",
    "# Прогноз на отложенные наблюдения по лучшей модели\n",
    "\n",
    "Ещё раз посмотрим на точность построенных моделей.  "
   ]
  },
  {
   "cell_type": "code",
   "execution_count": 448,
   "id": "13f506f8",
   "metadata": {},
   "outputs": [
    {
     "data": {
      "text/html": [
       "<div>\n",
       "<style scoped>\n",
       "    .dataframe tbody tr th:only-of-type {\n",
       "        vertical-align: middle;\n",
       "    }\n",
       "\n",
       "    .dataframe tbody tr th {\n",
       "        vertical-align: top;\n",
       "    }\n",
       "\n",
       "    .dataframe thead th {\n",
       "        text-align: right;\n",
       "    }\n",
       "</style>\n",
       "<table border=\"1\" class=\"dataframe\">\n",
       "  <thead>\n",
       "    <tr style=\"text-align: right;\">\n",
       "      <th></th>\n",
       "      <th>Модель</th>\n",
       "      <th>Acc</th>\n",
       "    </tr>\n",
       "  </thead>\n",
       "  <tbody>\n",
       "    <tr>\n",
       "      <th>0</th>\n",
       "      <td>one_tree</td>\n",
       "      <td>0.732</td>\n",
       "    </tr>\n",
       "    <tr>\n",
       "      <th>1</th>\n",
       "      <td>pruned_tree</td>\n",
       "      <td>0.745</td>\n",
       "    </tr>\n",
       "    <tr>\n",
       "      <th>2</th>\n",
       "      <td>bagging_GS</td>\n",
       "      <td>0.814</td>\n",
       "    </tr>\n",
       "  </tbody>\n",
       "</table>\n",
       "</div>"
      ],
      "text/plain": [
       "        Модель    Acc\n",
       "0     one_tree  0.732\n",
       "1  pruned_tree  0.745\n",
       "2   bagging_GS  0.814"
      ]
     },
     "execution_count": 448,
     "metadata": {},
     "output_type": "execute_result"
    }
   ],
   "source": [
    "# сводка по точности моделей\n",
    "pd.DataFrame({'Модель' : score_models, 'Acc' : score})"
   ]
  },
  {
   "cell_type": "markdown",
   "id": "99c7c905",
   "metadata": {},
   "source": [
    "Все модели показывают среднюю точность по показателю $Acc$, при этом самой точной оказывается модель бэггинга. Сделаем прогноз на отложенные наблюдения.   "
   ]
  },
  {
   "cell_type": "code",
   "execution_count": 453,
   "id": "6f19fd52",
   "metadata": {},
   "outputs": [
    {
     "name": "stdout",
     "output_type": "stream",
     "text": [
      "              precision    recall  f1-score   support\n",
      "\n",
      "           0       0.97      0.99      0.98     23364\n",
      "           1       0.97      0.90      0.93      6634\n",
      "\n",
      "    accuracy                           0.97     29998\n",
      "   macro avg       0.97      0.95      0.96     29998\n",
      "weighted avg       0.97      0.97      0.97     29998\n",
      "\n"
     ]
    }
   ],
   "source": [
    "# данные для прогноза\n",
    "X_pred = DF_predict.drop(['Y'], axis=1)\n",
    "# строим прогноз\n",
    "y_hat = tree_bag.best_estimator_.predict(X_pred)\n",
    "# характеристики точности\n",
    "print(classification_report(DF_predict['Y'], y_hat))"
   ]
  },
  {
   "cell_type": "markdown",
   "id": "af39298f",
   "metadata": {},
   "source": [
    "# Источники \n",
    "\n",
    "1. Джеймс Г., Уиттон Д., Хасти Т., Тибширани Р. Введение в статистическое обучение с примерами на языке R. Пер. с англ. С.Э. Мастицкого – М.: ДМК Пресс, 2016 – 450 с.  \n",
    "1. *Рашка С.* Python и машинное обучение: крайне необходимое пособие по новейшей предсказательной аналитике, обязательное для более глубокого понимания методологии машинного обучения / пер. с англ. А.В. Логунова. – М.: ДМК Пресс, 2017. – 418 с.: ил.  \n",
    "1. *Tong Wang*, *Cynthia Rudin*, *Finale Doshi-Velez*, *Yimin Liu*, *Erica Klampfl*, *Perry MacNeille* A Bayesian Framework for Learning Rule Sets for Interpretable Classification / Journal of Machine Learning Research 18 (2017) 1-37. URL: <https://jmlr.org/papers/volume18/16-003/16-003.pdf>  \n",
    "1. *George Pipis* How to Run the Chi-Square Test in Python / medium.com. URL: <https://medium.com/swlh/how-to-run-chi-square-test-in-python-4e9f5d10249d>   \n",
    "1. *Bernd Klein* What are Decision Trees? / python-course.eu. URL: <https://www.python-course.eu/Decision_Trees.php>  \n",
    "1. Pruning decision trees - tutorial / kaggle.com. URL: <https://www.kaggle.com/arunmohan003/pruning-decision-trees-tutorial>  \n",
    "1. Post pruning decision trees with cost complexity pruning / scikit-learn.org. URL: <https://scikit-learn.org/stable/auto_examples/tree/plot_cost_complexity_pruning.html>  \n",
    "1. *Piotr Płoński* Visualize a Decision Tree in 4 Ways with Scikit-Learn and Python / mljar.com. URL: <https://mljar.com/blog/visualize-decision-tree/>  \n",
    "1. Random Forest Feature Importance Plot / www.analyseup.com. URL: <https://www.analyseup.com/learn-python-for-data-science/python-random-forest-feature-importance-plot.html>  "
   ]
  }
 ],
 "metadata": {
  "kernelspec": {
   "display_name": "Python 3",
   "language": "python",
   "name": "python3"
  }
 },
 "nbformat": 4,
 "nbformat_minor": 5
}
